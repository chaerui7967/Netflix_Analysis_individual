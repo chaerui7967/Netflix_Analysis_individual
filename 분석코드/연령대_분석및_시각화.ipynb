{
  "nbformat": 4,
  "nbformat_minor": 0,
  "metadata": {
    "colab": {
      "name": "연령대_분석및_시각화.ipynb",
      "private_outputs": true,
      "provenance": []
    },
    "kernelspec": {
      "name": "python3",
      "display_name": "Python 3"
    },
    "language_info": {
      "name": "python"
    }
  },
  "cells": [
    {
      "cell_type": "markdown",
      "metadata": {
        "id": "26iQpXGWnbVn"
      },
      "source": [
        "# 연령대 분석"
      ]
    },
    {
      "cell_type": "code",
      "metadata": {
        "id": "ttZQN5-DdRfe"
      },
      "source": [
        "import pandas as pd\n",
        "import warnings\n",
        "warnings.filterwarnings(\"ignore\")\n",
        "\n",
        "\n",
        "import plotly.graph_objects as go\n",
        "import matplotlib.pyplot as plt\n",
        "import seaborn as sns\n",
        "import missingno # 널값 바차트로 시각화"
      ],
      "execution_count": null,
      "outputs": []
    },
    {
      "cell_type": "code",
      "metadata": {
        "id": "BVpJxLdHgVJn"
      },
      "source": [
        "netflix = pd.read_csv('./use_df.csv')"
      ],
      "execution_count": null,
      "outputs": []
    },
    {
      "cell_type": "code",
      "metadata": {
        "id": "h7iCDJp8hkcW"
      },
      "source": [
        "netflix.columns"
      ],
      "execution_count": null,
      "outputs": []
    },
    {
      "cell_type": "code",
      "metadata": {
        "id": "xMnvD7vtgVHb"
      },
      "source": [
        "net_df = netflix[['Title', 'Series or Movie','VALUE', 'View Rating']]"
      ],
      "execution_count": null,
      "outputs": []
    },
    {
      "cell_type": "code",
      "metadata": {
        "id": "YECVOvhggVEv"
      },
      "source": [
        "net_df.isnull().sum()"
      ],
      "execution_count": null,
      "outputs": []
    },
    {
      "cell_type": "code",
      "metadata": {
        "id": "kLefj-GigVCD"
      },
      "source": [
        "net_df['View Rating'].value_counts()"
      ],
      "execution_count": null,
      "outputs": []
    },
    {
      "cell_type": "markdown",
      "metadata": {
        "id": "0JpmvZgtjeXT"
      },
      "source": [
        "다른 값에 영향을 주지 않기 위해서 0로 널값을 채움"
      ]
    },
    {
      "cell_type": "code",
      "metadata": {
        "id": "H2-UQIIsgU4H"
      },
      "source": [
        "net_df['View Rating'] = net_df['View Rating'].fillna( value = 0)"
      ],
      "execution_count": null,
      "outputs": []
    },
    {
      "cell_type": "code",
      "metadata": {
        "id": "97Nj7aHLi8Me"
      },
      "source": [
        "net_df.isnull().sum()"
      ],
      "execution_count": null,
      "outputs": []
    },
    {
      "cell_type": "code",
      "metadata": {
        "id": "z7HXdLsRnUXD"
      },
      "source": [
        ""
      ],
      "execution_count": null,
      "outputs": []
    },
    {
      "cell_type": "markdown",
      "metadata": {
        "id": "JKzhEaU9nVLp"
      },
      "source": [
        "## 상위 20개의 영화와 tv 시청연령의 분포 차이가 있나?"
      ]
    },
    {
      "cell_type": "code",
      "metadata": {
        "id": "_OXVJiR6ltA9"
      },
      "source": [
        ""
      ],
      "execution_count": null,
      "outputs": []
    },
    {
      "cell_type": "code",
      "metadata": {
        "id": "LCi7XBsJjcEd"
      },
      "source": [
        "df_m = net_df[net_df['Series or Movie'] == 'Movie'].sort_values(by = 'VALUE', ascending=False)\n",
        "df_t = net_df[net_df['Series or Movie'] == 'TV'].sort_values(by = 'VALUE', ascending=False)"
      ],
      "execution_count": null,
      "outputs": []
    },
    {
      "cell_type": "code",
      "metadata": {
        "id": "MNgcrYVSyvIO"
      },
      "source": [
        "# 전체 tv show 시청 연령 분포\n",
        "\n",
        "count_t = df_t['View Rating'].value_counts()\n",
        "fig = go.Figure(data=[go.Bar(\n",
        "    x = count_t.index,\n",
        "    y = count_t,\n",
        "    text = count_t,\n",
        "    textposition='auto'\n",
        ")])\n",
        "fig.update_traces(texttemplate='%{text:.2s}', textposition='outside')\n",
        "fig.update_layout(title_text= 'What is the View Rating of a Tv show on Netflix?',\n",
        "                  yaxis=dict(\n",
        "                  title='count',\n",
        "                  titlefont_size=14),\n",
        "                  xaxis=dict(\n",
        "                  title='Age',\n",
        "                  titlefont_size=14))"
      ],
      "execution_count": null,
      "outputs": []
    },
    {
      "cell_type": "code",
      "metadata": {
        "id": "hSrcxMptyyWr"
      },
      "source": [
        "# 전체 movie 시청연령 분포\n",
        "\n",
        "count_m = df_m['View Rating'].value_counts()\n",
        "fig = go.Figure(data=[go.Bar(\n",
        "    x = count_m.index,\n",
        "    y = count_m,\n",
        "    text = count_m,\n",
        "    textposition='auto'\n",
        ")])\n",
        "fig.update_traces(texttemplate='%{text:.2s}', textposition='outside')\n",
        "fig.update_layout(title_text= 'What is the View Rating of a Movie on Netflix?',\n",
        "                  yaxis=dict(\n",
        "                  title='count',\n",
        "                  titlefont_size=14),\n",
        "                  xaxis=dict(\n",
        "                  title='Age',\n",
        "                  titlefont_size=14))"
      ],
      "execution_count": null,
      "outputs": []
    },
    {
      "cell_type": "code",
      "metadata": {
        "id": "hnJr-oKXlf4S"
      },
      "source": [
        "df_m = df_m[:][:20]\n",
        "df_t = df_t[:][:20]"
      ],
      "execution_count": null,
      "outputs": []
    },
    {
      "cell_type": "code",
      "metadata": {
        "id": "rXyjBsCjputJ"
      },
      "source": [
        "count_t = df_t['View Rating'].value_counts()\n",
        "fig = go.Figure(data=[go.Bar(\n",
        "    x = count_t.index,\n",
        "    y = count_t,\n",
        "    text = count_t,\n",
        "    textposition='auto'\n",
        ")])\n",
        "fig.update_traces(texttemplate='%{text:.2s}', textposition='outside')\n",
        "fig.update_layout(title_text= 'What is the View Rating of a top 20 Tv show on Netflix?',\n",
        "                  yaxis=dict(\n",
        "                  title='count',\n",
        "                  titlefont_size=14),\n",
        "                  xaxis=dict(\n",
        "                  title='Age',\n",
        "                  titlefont_size=14))"
      ],
      "execution_count": null,
      "outputs": []
    },
    {
      "cell_type": "code",
      "metadata": {
        "id": "N-putjHlqid8"
      },
      "source": [
        "count_m = df_m['View Rating'].value_counts()\n",
        "fig = go.Figure(data=[go.Bar(\n",
        "    x = count_m.index,\n",
        "    y = count_m,\n",
        "    text = count_m,\n",
        "    textposition='auto'\n",
        ")])\n",
        "fig.update_traces(texttemplate='%{text:.2s}', textposition='outside')\n",
        "fig.update_layout(title_text= 'What is the View Rating of a top 20 Movie on Netflix?',\n",
        "                  yaxis=dict(\n",
        "                  title='count',\n",
        "                  titlefont_size=14),\n",
        "                  xaxis=dict(\n",
        "                  title='Age',\n",
        "                  titlefont_size=14))"
      ],
      "execution_count": null,
      "outputs": []
    },
    {
      "cell_type": "markdown",
      "metadata": {
        "id": "1xs-rTDwtI66"
      },
      "source": [
        "영상물 등급제도 참조\n",
        "- https://ko.wikipedia.org/wiki/%EC%98%81%EC%83%81%EB%AC%BC_%EB%93%B1%EA%B8%89_%EC%A0%9C%EB%8F%84\n",
        "- G: General Audiences: 모든 관객 (모든 연령층 적합)\n",
        "- PG: Parental Guidance Suggested: 부모 동반 (아동 관람 부적합)\n",
        "- PG-13: Parental Strongly Cautioned: 부모 주의(부분적 13세 미만 부적합)\n",
        "- R: Restricted: 제한 (17세 미만은 부모나 성인 보호자 동반 요망)\n",
        "- NC-17: No One 17 And Under Admitted: 18세 미만은 관람할 수 없는 영화"
      ]
    },
    {
      "cell_type": "markdown",
      "metadata": {
        "id": "Ryndblxf0l_J"
      },
      "source": [
        "- G, PG <- 12세 이하\n",
        "- PG-13 <- 16세 이하\n",
        "- R <- 17세\n",
        "- NC-17 <- 21세"
      ]
    },
    {
      "cell_type": "markdown",
      "metadata": {
        "id": "VMY85o6U02fy"
      },
      "source": [
        "### 결론\n",
        "- 영화같은 경우는 R, PG, PG-13과 같이 어린이들을 위한 전체 연령 컨텐츠들이 viewpoint 기준 상위 컨텐츠에 몰려있었고,\n",
        "- tv_show같은 경우 연령제한이 있는 21세 이상 컨텐츠 TV-MA가 주로 이루었고, TV-PG 와 같이 연령제한이 좀 있는 컨텐츠들이 상위 컨텐츠에 있었다."
      ]
    },
    {
      "cell_type": "code",
      "metadata": {
        "id": "-jtNHQYY0lgA"
      },
      "source": [
        "net_df = netflix[['Title', 'Series or Movie','VALUE', 'View Rating']]"
      ],
      "execution_count": null,
      "outputs": []
    },
    {
      "cell_type": "code",
      "metadata": {
        "id": "-SNKMLq-6YFZ"
      },
      "source": [
        "plt.figure(figsize=(18,14),dpi = 350)\n",
        "sns.barplot(y= net_df['View Rating'].value_counts()[:15].sort_values().index, x=net_df['View Rating'].value_counts()[:15].sort_values().values,palette='gnuplot_r');\n",
        "plt.title('Top View Rating', color='purple', fontsize=30)\n",
        "plt.xticks(net_df['View Rating'].value_counts()[:10].sort_values().values);\n",
        "plt.ylabel('View Rating', fontsize=25);\n",
        "plt.xlabel('View Rating counts', fontsize=25);"
      ],
      "execution_count": null,
      "outputs": []
    },
    {
      "cell_type": "code",
      "metadata": {
        "id": "-QHvJtiLCOrg"
      },
      "source": [
        ""
      ],
      "execution_count": null,
      "outputs": []
    }
  ]
}