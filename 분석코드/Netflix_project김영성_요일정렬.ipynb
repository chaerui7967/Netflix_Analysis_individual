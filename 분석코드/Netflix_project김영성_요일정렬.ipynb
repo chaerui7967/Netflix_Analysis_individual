{
  "nbformat": 4,
  "nbformat_minor": 5,
  "metadata": {
    "hide_input": false,
    "kernelspec": {
      "display_name": "Python 3",
      "language": "python",
      "name": "python3"
    },
    "language_info": {
      "codemirror_mode": {
        "name": "ipython",
        "version": 3
      },
      "file_extension": ".py",
      "mimetype": "text/x-python",
      "name": "python",
      "nbconvert_exporter": "python",
      "pygments_lexer": "ipython3",
      "version": "3.8.8"
    },
    "toc": {
      "base_numbering": 1,
      "nav_menu": {},
      "number_sections": true,
      "sideBar": true,
      "skip_h1_title": false,
      "title_cell": "Table of Contents",
      "title_sidebar": "Contents",
      "toc_cell": false,
      "toc_position": {},
      "toc_section_display": true,
      "toc_window_display": false
    },
    "varInspector": {
      "cols": {
        "lenName": 16,
        "lenType": 16,
        "lenVar": 40
      },
      "kernels_config": {
        "python": {
          "delete_cmd_postfix": "",
          "delete_cmd_prefix": "del ",
          "library": "var_list.py",
          "varRefreshCmd": "print(var_dic_list())"
        },
        "r": {
          "delete_cmd_postfix": ") ",
          "delete_cmd_prefix": "rm(",
          "library": "var_list.r",
          "varRefreshCmd": "cat(var_dic_list()) "
        }
      },
      "types_to_exclude": [
        "module",
        "function",
        "builtin_function_or_method",
        "instance",
        "_Feature"
      ],
      "window_display": false
    },
    "colab": {
      "name": "Netflix_project김영성.ipynb",
      "provenance": []
    }
  },
  "cells": [
    {
      "cell_type": "markdown",
      "metadata": {
        "id": "YlaNVKa3L1M8"
      },
      "source": [
        "# 실행"
      ],
      "id": "YlaNVKa3L1M8"
    },
    {
      "cell_type": "code",
      "metadata": {
        "ExecuteTime": {
          "end_time": "2021-07-13T06:38:44.064692Z",
          "start_time": "2021-07-13T06:38:43.134530Z"
        },
        "id": "15ff7dcf"
      },
      "source": [
        "import pandas as pd\n",
        "import numpy as np\n",
        "import datetime\n",
        "import time\n",
        "import matplotlib.pyplot as plt\n",
        "import seaborn as sns\n",
        "sns.set_style('whitegrid')\n",
        "\n",
        "np.warnings.filterwarnings('ignore')"
      ],
      "id": "15ff7dcf",
      "execution_count": 1,
      "outputs": []
    },
    {
      "cell_type": "markdown",
      "metadata": {
        "id": "66762d18"
      },
      "source": [
        "# 데이터 준비\n",
        "- 컬럼삭제 및 널값제거"
      ],
      "id": "66762d18"
    },
    {
      "cell_type": "code",
      "metadata": {
        "ExecuteTime": {
          "end_time": "2021-07-13T06:38:44.619727Z",
          "start_time": "2021-07-13T06:38:44.572043Z"
        },
        "id": "17dd7886"
      },
      "source": [
        "df = pd.read_csv('use_df.csv')"
      ],
      "id": "17dd7886",
      "execution_count": 4,
      "outputs": []
    },
    {
      "cell_type": "code",
      "metadata": {
        "ExecuteTime": {
          "end_time": "2021-07-13T06:38:45.240634Z",
          "start_time": "2021-07-13T06:38:45.220362Z"
        },
        "id": "a6b6f88f",
        "outputId": "5fde7d96-d64a-4da6-ef78-a01fe08fb7ae",
        "colab": {
          "base_uri": "https://localhost:8080/"
        }
      },
      "source": [
        "df.columns"
      ],
      "id": "a6b6f88f",
      "execution_count": 5,
      "outputs": [
        {
          "output_type": "execute_result",
          "data": {
            "text/plain": [
              "Index(['Unnamed: 0', 'Title', 'Series or Movie', 'COUNTRY', 'Release Date',\n",
              "       'GENRE', 'VALUE', 'Genre_all', 'Tags', 'Languages', 'Hidden Gem Score',\n",
              "       'Country Availability', 'Runtime', 'Director', 'Writer', 'Actors',\n",
              "       'View Rating', 'IMDb Score', 'Rotten Tomatoes Score',\n",
              "       'Metacritic Score', 'Awards Received', 'Awards Nominated For',\n",
              "       'Boxoffice', 'Netflix Release Date', 'Production House', 'Summary',\n",
              "       'IMDb Votes'],\n",
              "      dtype='object')"
            ]
          },
          "metadata": {
            "tags": []
          },
          "execution_count": 5
        }
      ]
    },
    {
      "cell_type": "code",
      "metadata": {
        "ExecuteTime": {
          "end_time": "2021-07-13T06:38:45.797662Z",
          "start_time": "2021-07-13T06:38:45.772493Z"
        },
        "id": "247d92cd",
        "outputId": "da0d4c97-07b6-46f5-acbf-1678634465f1",
        "colab": {
          "base_uri": "https://localhost:8080/",
          "height": 0
        }
      },
      "source": [
        "df.drop(columns=['Genre_all','IMDb Votes','Metacritic Score','Rotten Tomatoes Score','View Rating','COUNTRY','Country Availability','Unnamed: 0','Tags','Actors','Languages','Director','Writer','Boxoffice','Production House','Summary','Awards Nominated For','Runtime','IMDb Score','Hidden Gem Score'],axis=1,inplace=True)\n",
        "df.head(1)"
      ],
      "id": "247d92cd",
      "execution_count": 6,
      "outputs": [
        {
          "output_type": "execute_result",
          "data": {
            "text/html": [
              "<div>\n",
              "<style scoped>\n",
              "    .dataframe tbody tr th:only-of-type {\n",
              "        vertical-align: middle;\n",
              "    }\n",
              "\n",
              "    .dataframe tbody tr th {\n",
              "        vertical-align: top;\n",
              "    }\n",
              "\n",
              "    .dataframe thead th {\n",
              "        text-align: right;\n",
              "    }\n",
              "</style>\n",
              "<table border=\"1\" class=\"dataframe\">\n",
              "  <thead>\n",
              "    <tr style=\"text-align: right;\">\n",
              "      <th></th>\n",
              "      <th>Title</th>\n",
              "      <th>Series or Movie</th>\n",
              "      <th>Release Date</th>\n",
              "      <th>GENRE</th>\n",
              "      <th>VALUE</th>\n",
              "      <th>Awards Received</th>\n",
              "      <th>Netflix Release Date</th>\n",
              "    </tr>\n",
              "  </thead>\n",
              "  <tbody>\n",
              "    <tr>\n",
              "      <th>0</th>\n",
              "      <td>thequeensgambit</td>\n",
              "      <td>TV</td>\n",
              "      <td>2020-10-23</td>\n",
              "      <td>Drama</td>\n",
              "      <td>44867</td>\n",
              "      <td>96.0</td>\n",
              "      <td>2020-10-23</td>\n",
              "    </tr>\n",
              "  </tbody>\n",
              "</table>\n",
              "</div>"
            ],
            "text/plain": [
              "             Title Series or Movie  ... Awards Received Netflix Release Date\n",
              "0  thequeensgambit              TV  ...            96.0           2020-10-23\n",
              "\n",
              "[1 rows x 7 columns]"
            ]
          },
          "metadata": {
            "tags": []
          },
          "execution_count": 6
        }
      ]
    },
    {
      "cell_type": "code",
      "metadata": {
        "ExecuteTime": {
          "end_time": "2021-07-13T06:38:46.523909Z",
          "start_time": "2021-07-13T06:38:46.509966Z"
        },
        "id": "8df69112"
      },
      "source": [
        "df.columns=(['Title', 'Type', 'Made_date', 'Genre', 'Value','Awards_Received','Netflix_date'])"
      ],
      "id": "8df69112",
      "execution_count": 7,
      "outputs": []
    },
    {
      "cell_type": "code",
      "metadata": {
        "ExecuteTime": {
          "end_time": "2021-07-13T06:38:47.621793Z",
          "start_time": "2021-07-13T06:38:47.260935Z"
        },
        "id": "8048b895",
        "outputId": "cd0d5200-7b16-43f5-f333-78de568cbd0c",
        "colab": {
          "base_uri": "https://localhost:8080/",
          "height": 0
        }
      },
      "source": [
        "# 널값확인\n",
        "import missingno as msno\n",
        "color= ['dimgrey','dimgrey','maroon','maroon','dimgrey','red','dimgrey']\n",
        "msno.bar(df,fontsize=10,color=color,figsize=(10,3))\n",
        "plt.title('MISSING VALUES',fontsize=20)"
      ],
      "id": "8048b895",
      "execution_count": 8,
      "outputs": [
        {
          "output_type": "execute_result",
          "data": {
            "text/plain": [
              "Text(0.5, 1.0, 'MISSING VALUES')"
            ]
          },
          "metadata": {
            "tags": []
          },
          "execution_count": 8
        },
        {
          "output_type": "display_data",
          "data": {
            "image/png": "[encoded data removed]",
            "text/plain": [
              "<Figure size 720x216 with 3 Axes>"
            ]
          },
          "metadata": {
            "tags": [],
            "needs_background": "light"
          }
        }
      ]
    },
    {
      "cell_type": "code",
      "metadata": {
        "ExecuteTime": {
          "end_time": "2021-07-13T06:38:48.301331Z",
          "start_time": "2021-07-13T06:38:48.284397Z"
        },
        "id": "854cd659",
        "outputId": "1b96551f-1100-48f8-8b57-a555c0e4d6ae",
        "colab": {
          "base_uri": "https://localhost:8080/"
        }
      },
      "source": [
        "df.isnull().sum()"
      ],
      "id": "854cd659",
      "execution_count": 9,
      "outputs": [
        {
          "output_type": "execute_result",
          "data": {
            "text/plain": [
              "Title                 0\n",
              "Type                  0\n",
              "Made_date            65\n",
              "Genre               377\n",
              "Value                 0\n",
              "Awards_Received    1502\n",
              "Netflix_date          0\n",
              "dtype: int64"
            ]
          },
          "metadata": {
            "tags": []
          },
          "execution_count": 9
        }
      ]
    },
    {
      "cell_type": "code",
      "metadata": {
        "ExecuteTime": {
          "end_time": "2021-07-13T06:38:49.284011Z",
          "start_time": "2021-07-13T06:38:49.268052Z"
        },
        "id": "f8bc11e0"
      },
      "source": [
        "# 장르 부분은 나중에 필요시 널값 제거\n",
        "#Release Date 컬럼 널값 행 제거\n",
        "df.dropna(subset=['Made_date'], inplace=True)\n",
        "# Awards_Received 컬럼 널값 0으로 수정\n",
        "df.Awards_Received.fillna('0',inplace=True)"
      ],
      "id": "f8bc11e0",
      "execution_count": 10,
      "outputs": []
    },
    {
      "cell_type": "code",
      "metadata": {
        "ExecuteTime": {
          "end_time": "2021-07-13T06:38:49.978900Z",
          "start_time": "2021-07-13T06:38:49.963940Z"
        },
        "id": "d81b9e9a",
        "outputId": "a449e4ad-3605-4a5a-d094-bfe6add1ff75",
        "colab": {
          "base_uri": "https://localhost:8080/"
        }
      },
      "source": [
        "df.isnull().sum(), df.shape"
      ],
      "id": "d81b9e9a",
      "execution_count": 11,
      "outputs": [
        {
          "output_type": "execute_result",
          "data": {
            "text/plain": [
              "(Title                0\n",
              " Type                 0\n",
              " Made_date            0\n",
              " Genre              322\n",
              " Value                0\n",
              " Awards_Received      0\n",
              " Netflix_date         0\n",
              " dtype: int64, (2913, 7))"
            ]
          },
          "metadata": {
            "tags": []
          },
          "execution_count": 11
        }
      ]
    },
    {
      "cell_type": "code",
      "metadata": {
        "ExecuteTime": {
          "end_time": "2021-07-13T06:38:50.661950Z",
          "start_time": "2021-07-13T06:38:50.652004Z"
        },
        "id": "f6261f22"
      },
      "source": [
        "netflix = df.copy()"
      ],
      "id": "f6261f22",
      "execution_count": 12,
      "outputs": []
    },
    {
      "cell_type": "code",
      "metadata": {
        "ExecuteTime": {
          "end_time": "2021-07-13T06:38:51.785327Z",
          "start_time": "2021-07-13T06:38:51.772401Z"
        },
        "id": "ce1a4ac8",
        "outputId": "2cf982e7-e2dd-4263-ef1d-1c9f13e5d5e1",
        "colab": {
          "base_uri": "https://localhost:8080/"
        }
      },
      "source": [
        "netflix.duplicated().sum()\n",
        "# 중복값 있으면 밑의 코드로 중복값 제거\n",
        "# netflix_df = netflix.drop_duplicates(keep=False, inplace=False)"
      ],
      "id": "ce1a4ac8",
      "execution_count": 13,
      "outputs": [
        {
          "output_type": "execute_result",
          "data": {
            "text/plain": [
              "0"
            ]
          },
          "metadata": {
            "tags": []
          },
          "execution_count": 13
        }
      ]
    },
    {
      "cell_type": "markdown",
      "metadata": {
        "id": "407346ce"
      },
      "source": [
        "## 데이터 준비 - Netflix_date 인코딩\n",
        "- Year, Month, Day와 요일로 새로운 컬럼 확장"
      ],
      "id": "407346ce"
    },
    {
      "cell_type": "code",
      "metadata": {
        "ExecuteTime": {
          "end_time": "2021-07-13T06:38:53.039082Z",
          "start_time": "2021-07-13T06:38:53.012154Z"
        },
        "id": "1c8fa846",
        "outputId": "07db3376-f931-4356-9b64-32e79407e3b6",
        "colab": {
          "base_uri": "https://localhost:8080/",
          "height": 0
        }
      },
      "source": [
        "netflix[\"Netflix_date\"] = pd.to_datetime(netflix['Netflix_date'])\n",
        "netflix['Year'] = netflix['Netflix_date'].dt.year\n",
        "netflix['Month'] = netflix['Netflix_date'].dt.month\n",
        "netflix['Day'] = netflix['Netflix_date'].dt.day\n",
        "\n",
        "netflix.head(1)"
      ],
      "id": "1c8fa846",
      "execution_count": 14,
      "outputs": [
        {
          "output_type": "execute_result",
          "data": {
            "text/html": [
              "<div>\n",
              "<style scoped>\n",
              "    .dataframe tbody tr th:only-of-type {\n",
              "        vertical-align: middle;\n",
              "    }\n",
              "\n",
              "    .dataframe tbody tr th {\n",
              "        vertical-align: top;\n",
              "    }\n",
              "\n",
              "    .dataframe thead th {\n",
              "        text-align: right;\n",
              "    }\n",
              "</style>\n",
              "<table border=\"1\" class=\"dataframe\">\n",
              "  <thead>\n",
              "    <tr style=\"text-align: right;\">\n",
              "      <th></th>\n",
              "      <th>Title</th>\n",
              "      <th>Type</th>\n",
              "      <th>Made_date</th>\n",
              "      <th>Genre</th>\n",
              "      <th>Value</th>\n",
              "      <th>Awards_Received</th>\n",
              "      <th>Netflix_date</th>\n",
              "      <th>Year</th>\n",
              "      <th>Month</th>\n",
              "      <th>Day</th>\n",
              "    </tr>\n",
              "  </thead>\n",
              "  <tbody>\n",
              "    <tr>\n",
              "      <th>0</th>\n",
              "      <td>thequeensgambit</td>\n",
              "      <td>TV</td>\n",
              "      <td>2020-10-23</td>\n",
              "      <td>Drama</td>\n",
              "      <td>44867</td>\n",
              "      <td>96</td>\n",
              "      <td>2020-10-23</td>\n",
              "      <td>2020</td>\n",
              "      <td>10</td>\n",
              "      <td>23</td>\n",
              "    </tr>\n",
              "  </tbody>\n",
              "</table>\n",
              "</div>"
            ],
            "text/plain": [
              "             Title Type   Made_date  Genre  ...  Netflix_date  Year Month  Day\n",
              "0  thequeensgambit   TV  2020-10-23  Drama  ...    2020-10-23  2020    10   23\n",
              "\n",
              "[1 rows x 10 columns]"
            ]
          },
          "metadata": {
            "tags": []
          },
          "execution_count": 14
        }
      ]
    },
    {
      "cell_type": "markdown",
      "metadata": {
        "id": "4b3b8097"
      },
      "source": [
        "# 시각화\n",
        "- made_Date와 Netflix_Date 를 통해 만든 새로운 컬럼으로 \n",
        "- 3-1 뷰어수와 넷플릭스 릴리즈 데이트 대한 상관관계\n",
        "- 3-1-2 넷플릭스 릴리즈 데이트를 해당날짜의 요일로 변경 후 요일별 컨텐츠 추가에 대한 viewporint와의 상관관계"
      ],
      "id": "4b3b8097"
    },
    {
      "cell_type": "code",
      "metadata": {
        "ExecuteTime": {
          "end_time": "2021-07-13T06:38:54.544790Z",
          "start_time": "2021-07-13T06:38:54.467972Z"
        },
        "id": "2d54e170",
        "outputId": "dce5354f-8c02-40ff-dc50-b8fdbb942c05",
        "colab": {
          "base_uri": "https://localhost:8080/",
          "height": 319
        }
      },
      "source": [
        "plt.figure(figsize=(10,5))\n",
        "plt.title('The percentage of movies and series in Netflix content')\n",
        "g = plt.pie(netflix.Type.value_counts(),explode=(0.025,0.025),\n",
        "            labels=df.Type.value_counts().index, colors=['red','grey'],\n",
        "            autopct='%1.1f%%', startangle=200)\n",
        "plt.show()"
      ],
      "id": "2d54e170",
      "execution_count": 15,
      "outputs": [
        {
          "output_type": "display_data",
          "data": {
            "image/png": "[encoded data removed]",
            "text/plain": [
              "<Figure size 720x360 with 1 Axes>"
            ]
          },
          "metadata": {
            "tags": []
          }
        }
      ]
    },
    {
      "cell_type": "markdown",
      "metadata": {
        "id": "ce64b3ae"
      },
      "source": [
        "### 가설\n",
        "- 귀무가설 : Netflix Release date 는 viewpoint에 영향이 있다\n",
        "- 대립가설 : Netflix Release date 는 viewpoint에 영향이 없다"
      ],
      "id": "ce64b3ae"
    },
    {
      "cell_type": "code",
      "metadata": {
        "ExecuteTime": {
          "end_time": "2021-07-13T06:38:55.723311Z",
          "start_time": "2021-07-13T06:38:55.708373Z"
        },
        "id": "990be3ea"
      },
      "source": [
        "# 무비, 시리즈 분리\n",
        "Movie_df = netflix[netflix['Type']=='Movie']\n",
        "Series_df = netflix[netflix['Type']=='TV']"
      ],
      "id": "990be3ea",
      "execution_count": 16,
      "outputs": []
    },
    {
      "cell_type": "code",
      "metadata": {
        "ExecuteTime": {
          "end_time": "2021-07-13T06:38:56.339338Z",
          "start_time": "2021-07-13T06:38:56.324401Z"
        },
        "scrolled": false,
        "id": "cbb2a9bd",
        "outputId": "3db4ddf6-6e79-49b9-a704-7e5b807e0647",
        "colab": {
          "base_uri": "https://localhost:8080/",
          "height": 80
        }
      },
      "source": [
        "Movie_df.head(1)"
      ],
      "id": "cbb2a9bd",
      "execution_count": 17,
      "outputs": [
        {
          "output_type": "execute_result",
          "data": {
            "text/html": [
              "<div>\n",
              "<style scoped>\n",
              "    .dataframe tbody tr th:only-of-type {\n",
              "        vertical-align: middle;\n",
              "    }\n",
              "\n",
              "    .dataframe tbody tr th {\n",
              "        vertical-align: top;\n",
              "    }\n",
              "\n",
              "    .dataframe thead th {\n",
              "        text-align: right;\n",
              "    }\n",
              "</style>\n",
              "<table border=\"1\" class=\"dataframe\">\n",
              "  <thead>\n",
              "    <tr style=\"text-align: right;\">\n",
              "      <th></th>\n",
              "      <th>Title</th>\n",
              "      <th>Type</th>\n",
              "      <th>Made_date</th>\n",
              "      <th>Genre</th>\n",
              "      <th>Value</th>\n",
              "      <th>Awards_Received</th>\n",
              "      <th>Netflix_date</th>\n",
              "      <th>Year</th>\n",
              "      <th>Month</th>\n",
              "      <th>Day</th>\n",
              "    </tr>\n",
              "  </thead>\n",
              "  <tbody>\n",
              "    <tr>\n",
              "      <th>1</th>\n",
              "      <td>365days</td>\n",
              "      <td>Movie</td>\n",
              "      <td>2020-06-07</td>\n",
              "      <td>Romance</td>\n",
              "      <td>42149</td>\n",
              "      <td>0</td>\n",
              "      <td>2020-04-02</td>\n",
              "      <td>2020</td>\n",
              "      <td>4</td>\n",
              "      <td>2</td>\n",
              "    </tr>\n",
              "  </tbody>\n",
              "</table>\n",
              "</div>"
            ],
            "text/plain": [
              "     Title   Type   Made_date    Genre  ...  Netflix_date  Year Month  Day\n",
              "1  365days  Movie  2020-06-07  Romance  ...    2020-04-02  2020     4    2\n",
              "\n",
              "[1 rows x 10 columns]"
            ]
          },
          "metadata": {
            "tags": []
          },
          "execution_count": 17
        }
      ]
    },
    {
      "cell_type": "code",
      "metadata": {
        "ExecuteTime": {
          "end_time": "2021-07-13T06:38:56.897910Z",
          "start_time": "2021-07-13T06:38:56.883942Z"
        },
        "id": "43ea8551",
        "outputId": "1deccc09-fd55-4512-f1a6-f3d54ccf6491",
        "colab": {
          "base_uri": "https://localhost:8080/",
          "height": 80
        }
      },
      "source": [
        "Series_df.head(1)"
      ],
      "id": "43ea8551",
      "execution_count": 18,
      "outputs": [
        {
          "output_type": "execute_result",
          "data": {
            "text/html": [
              "<div>\n",
              "<style scoped>\n",
              "    .dataframe tbody tr th:only-of-type {\n",
              "        vertical-align: middle;\n",
              "    }\n",
              "\n",
              "    .dataframe tbody tr th {\n",
              "        vertical-align: top;\n",
              "    }\n",
              "\n",
              "    .dataframe thead th {\n",
              "        text-align: right;\n",
              "    }\n",
              "</style>\n",
              "<table border=\"1\" class=\"dataframe\">\n",
              "  <thead>\n",
              "    <tr style=\"text-align: right;\">\n",
              "      <th></th>\n",
              "      <th>Title</th>\n",
              "      <th>Type</th>\n",
              "      <th>Made_date</th>\n",
              "      <th>Genre</th>\n",
              "      <th>Value</th>\n",
              "      <th>Awards_Received</th>\n",
              "      <th>Netflix_date</th>\n",
              "      <th>Year</th>\n",
              "      <th>Month</th>\n",
              "      <th>Day</th>\n",
              "    </tr>\n",
              "  </thead>\n",
              "  <tbody>\n",
              "    <tr>\n",
              "      <th>0</th>\n",
              "      <td>thequeensgambit</td>\n",
              "      <td>TV</td>\n",
              "      <td>2020-10-23</td>\n",
              "      <td>Drama</td>\n",
              "      <td>44867</td>\n",
              "      <td>96</td>\n",
              "      <td>2020-10-23</td>\n",
              "      <td>2020</td>\n",
              "      <td>10</td>\n",
              "      <td>23</td>\n",
              "    </tr>\n",
              "  </tbody>\n",
              "</table>\n",
              "</div>"
            ],
            "text/plain": [
              "             Title Type   Made_date  Genre  ...  Netflix_date  Year Month  Day\n",
              "0  thequeensgambit   TV  2020-10-23  Drama  ...    2020-10-23  2020    10   23\n",
              "\n",
              "[1 rows x 10 columns]"
            ]
          },
          "metadata": {
            "tags": []
          },
          "execution_count": 18
        }
      ]
    },
    {
      "cell_type": "markdown",
      "metadata": {
        "ExecuteTime": {
          "end_time": "2021-07-10T11:35:21.979361Z",
          "start_time": "2021-07-10T11:35:21.961424Z"
        },
        "id": "c2419732"
      },
      "source": [
        "#### 컨텐츠 추가 시기확인"
      ],
      "id": "c2419732"
    },
    {
      "cell_type": "code",
      "metadata": {
        "ExecuteTime": {
          "end_time": "2021-07-13T06:38:58.822358Z",
          "start_time": "2021-07-13T06:38:58.135346Z"
        },
        "id": "b626a81a",
        "outputId": "1e093139-d985-4a89-b95f-c24d8af66599",
        "colab": {
          "base_uri": "https://localhost:8080/",
          "height": 318
        }
      },
      "source": [
        "fig, ax = plt.subplots(1,3, figsize=(20,6))\n",
        "# 컨텐츠 추가 년,월,일별 통계\n",
        "# Year\n",
        "sns.countplot('Year', data=netflix, palette='vlag', ax=ax[0])\n",
        "ax[0].set_title('Year added movie',\n",
        "            fontdict={'fontsize':15})\n",
        "\n",
        "# Month\n",
        "sns.countplot('Month', data=netflix, palette='vlag', ax=ax[1])\n",
        "ax[1].set_title('Month added movie',\n",
        "            fontdict={'fontsize':15})\n",
        "\n",
        "# Day\n",
        "sns.countplot('Day', data=netflix, palette='vlag', ax=ax[2])\n",
        "ax[2].set_title('Day added movie',\n",
        "            fontdict={'fontsize':15})\n",
        "\n",
        "plt.show()"
      ],
      "id": "b626a81a",
      "execution_count": 19,
      "outputs": [
        {
          "output_type": "display_data",
          "data": {
            "image/png": "[encoded data removed]",
            "text/plain": [
              "<Figure size 1440x432 with 3 Axes>"
            ]
          },
          "metadata": {
            "tags": [],
            "needs_background": "light"
          }
        }
      ]
    },
    {
      "cell_type": "markdown",
      "metadata": {
        "id": "88465cd9"
      },
      "source": [
        "- Year : 2015년과 2020년에 평균흐름보다 3배 가량의 컨텐츠 추가량이 보여진다\n",
        "- Month : 년초보단 하반기로 갈수록 점진적으로 많이 늘리는 흐름을 보이고, 4월은 다른달보다 컨텐츠 추가가 월등하게 높다\n",
        "- Day : 흐름을 고르게 보이고 있으나,1일과 14 일은 다른 날보다 많은 컨텐츠를 추가했다"
      ],
      "id": "88465cd9"
    },
    {
      "cell_type": "markdown",
      "metadata": {
        "ExecuteTime": {
          "end_time": "2021-07-11T09:18:57.005123Z",
          "start_time": "2021-07-11T09:18:56.997136Z"
        },
        "id": "7fc96b63"
      },
      "source": [
        "### 년, 월, 일 별 컨텐츠 추가날짜를 통한 Viewpoint 분석"
      ],
      "id": "7fc96b63"
    },
    {
      "cell_type": "code",
      "metadata": {
        "ExecuteTime": {
          "end_time": "2021-07-13T06:39:11.970065Z",
          "start_time": "2021-07-13T06:39:01.971921Z"
        },
        "id": "85585f80",
        "outputId": "7ad60a48-c67b-4c0e-b33f-c69bf7cd181f",
        "colab": {
          "base_uri": "https://localhost:8080/",
          "height": 335
        }
      },
      "source": [
        "fig, ax = plt.subplots(2,2, figsize=(15,5))\n",
        "\n",
        "sns.lineplot(x='Year', y=netflix['Value'], data=netflix, ax=ax[0,0], alpha=0.7)\n",
        "sns.lineplot(x='Month', y=netflix['Value'], data=netflix, ax=ax[0,1], alpha=0.7)\n",
        "sns.lineplot(x='Day', y=netflix['Value'], data=netflix, ax=ax[1,0], alpha=0.7)\n",
        "sns.lineplot(x='Netflix_date', y=netflix['Value'], data=netflix, ax=ax[1,1], alpha=0.7)\n",
        "\n",
        "plt.show()"
      ],
      "id": "85585f80",
      "execution_count": 20,
      "outputs": [
        {
          "output_type": "display_data",
          "data": {
            "image/png": "[encoded data removed]",
            "text/plain": [
              "<Figure size 1080x360 with 4 Axes>"
            ]
          },
          "metadata": {
            "tags": [],
            "needs_background": "light"
          }
        }
      ]
    },
    {
      "cell_type": "code",
      "metadata": {
        "ExecuteTime": {
          "end_time": "2021-07-13T06:39:12.922375Z",
          "start_time": "2021-07-13T06:39:12.900406Z"
        },
        "id": "bb5e57ca",
        "outputId": "9d89a36d-e378-4a23-9339-5ba54dc22980",
        "colab": {
          "base_uri": "https://localhost:8080/",
          "height": 172
        }
      },
      "source": [
        "netflix.corr()"
      ],
      "id": "bb5e57ca",
      "execution_count": 21,
      "outputs": [
        {
          "output_type": "execute_result",
          "data": {
            "text/html": [
              "<div>\n",
              "<style scoped>\n",
              "    .dataframe tbody tr th:only-of-type {\n",
              "        vertical-align: middle;\n",
              "    }\n",
              "\n",
              "    .dataframe tbody tr th {\n",
              "        vertical-align: top;\n",
              "    }\n",
              "\n",
              "    .dataframe thead th {\n",
              "        text-align: right;\n",
              "    }\n",
              "</style>\n",
              "<table border=\"1\" class=\"dataframe\">\n",
              "  <thead>\n",
              "    <tr style=\"text-align: right;\">\n",
              "      <th></th>\n",
              "      <th>Value</th>\n",
              "      <th>Year</th>\n",
              "      <th>Month</th>\n",
              "      <th>Day</th>\n",
              "    </tr>\n",
              "  </thead>\n",
              "  <tbody>\n",
              "    <tr>\n",
              "      <th>Value</th>\n",
              "      <td>1.000000</td>\n",
              "      <td>0.108651</td>\n",
              "      <td>0.044993</td>\n",
              "      <td>0.013330</td>\n",
              "    </tr>\n",
              "    <tr>\n",
              "      <th>Year</th>\n",
              "      <td>0.108651</td>\n",
              "      <td>1.000000</td>\n",
              "      <td>0.330389</td>\n",
              "      <td>0.065654</td>\n",
              "    </tr>\n",
              "    <tr>\n",
              "      <th>Month</th>\n",
              "      <td>0.044993</td>\n",
              "      <td>0.330389</td>\n",
              "      <td>1.000000</td>\n",
              "      <td>0.008790</td>\n",
              "    </tr>\n",
              "    <tr>\n",
              "      <th>Day</th>\n",
              "      <td>0.013330</td>\n",
              "      <td>0.065654</td>\n",
              "      <td>0.008790</td>\n",
              "      <td>1.000000</td>\n",
              "    </tr>\n",
              "  </tbody>\n",
              "</table>\n",
              "</div>"
            ],
            "text/plain": [
              "          Value      Year     Month       Day\n",
              "Value  1.000000  0.108651  0.044993  0.013330\n",
              "Year   0.108651  1.000000  0.330389  0.065654\n",
              "Month  0.044993  0.330389  1.000000  0.008790\n",
              "Day    0.013330  0.065654  0.008790  1.000000"
            ]
          },
          "metadata": {
            "tags": []
          },
          "execution_count": 21
        }
      ]
    },
    {
      "cell_type": "markdown",
      "metadata": {
        "id": "396b0dee"
      },
      "source": [
        "- Year : 2020년에 추가된 컨텐츠와 2017년에 추가된 컨텐츠가 다른 년도에 추가된 컨텐츠보다 viewpoint 가 월등히 높음을 확인할 수 있다. 그럼 20년과 17년에 컨텐츠를 많이 출시 했을지 앞의 년도별 컨텐츠 추가량 그래프를 확인한 결과 20년은 굉장히 많은 컨텐츠를 출시 했지만 17년의 출시한 컨텐츠의 양은 평균 이하수준으로 확인된다\n",
        "\n",
        "- month : 10월과 7월에 추가한 컨텐츠가 다른 월에 출시한 컨텐츠보다 viewpoint 가 높음을 확인할 수 있다. 그럼 10월과 7월에 컨텐츠를 과도하게 많이 출시한건 아닐까? 앞서 분석한 월별 컨텐츠 추가량 그래프를 확인해보면 10월과 7월은 그다지 많이 출시하지 않았다. \n",
        "\n",
        "- Day : 매월 23-24일 사이에 출시된 컨텐츠의 viewpoint가 다른 일에 출시한 viewpoint 보다 월등히 높다. 앞서 day별 추가된 컨텐츠 량을 확인해 보면 1일과 14일에 추가된 컨텐츠의 양이 굉장히 높은걸로 확인된다.\n",
        "\n",
        "- 총평 :넷플릭스 출시 시기와 value(viewpoint)를 한눈에 볼수 있는 그래프가 있다 16년-17년 사이에 출시된 컨텐츠와 20년에 출시된 컨텐츠 들이 대체로 많은 viewpoint 를 기록 중이며, 출시가 빨리 됬다고 뷰포인트가 높은것은 아니다 라는 결론과 출시일정과 상관관계가 적다는 결론을 낼수 있다\n",
        "\n",
        "### 그럼 여기서  조금 방향을 틀어보자. 어느 요일에 더 많은 컨텐츠를 출시 했는가?"
      ],
      "id": "396b0dee"
    },
    {
      "cell_type": "code",
      "metadata": {
        "ExecuteTime": {
          "end_time": "2021-07-13T06:39:20.532933Z",
          "start_time": "2021-07-13T06:39:20.515958Z"
        },
        "id": "5152f5be",
        "outputId": "2d0fe0c9-070d-4400-9d44-47fc4608dabf",
        "colab": {
          "base_uri": "https://localhost:8080/",
          "height": 204
        }
      },
      "source": [
        "#dayofweek(요일)컴럼 추가/ head 5개 값 확인 완료\n",
        "netflix['dayofweek'] = netflix['Netflix_date'].dt.day_name()\n",
        "netflix.head()"
      ],
      "id": "5152f5be",
      "execution_count": 22,
      "outputs": [
        {
          "output_type": "execute_result",
          "data": {
            "text/html": [
              "<div>\n",
              "<style scoped>\n",
              "    .dataframe tbody tr th:only-of-type {\n",
              "        vertical-align: middle;\n",
              "    }\n",
              "\n",
              "    .dataframe tbody tr th {\n",
              "        vertical-align: top;\n",
              "    }\n",
              "\n",
              "    .dataframe thead th {\n",
              "        text-align: right;\n",
              "    }\n",
              "</style>\n",
              "<table border=\"1\" class=\"dataframe\">\n",
              "  <thead>\n",
              "    <tr style=\"text-align: right;\">\n",
              "      <th></th>\n",
              "      <th>Title</th>\n",
              "      <th>Type</th>\n",
              "      <th>Made_date</th>\n",
              "      <th>Genre</th>\n",
              "      <th>Value</th>\n",
              "      <th>Awards_Received</th>\n",
              "      <th>Netflix_date</th>\n",
              "      <th>Year</th>\n",
              "      <th>Month</th>\n",
              "      <th>Day</th>\n",
              "      <th>dayofweek</th>\n",
              "    </tr>\n",
              "  </thead>\n",
              "  <tbody>\n",
              "    <tr>\n",
              "      <th>0</th>\n",
              "      <td>thequeensgambit</td>\n",
              "      <td>TV</td>\n",
              "      <td>2020-10-23</td>\n",
              "      <td>Drama</td>\n",
              "      <td>44867</td>\n",
              "      <td>96</td>\n",
              "      <td>2020-10-23</td>\n",
              "      <td>2020</td>\n",
              "      <td>10</td>\n",
              "      <td>23</td>\n",
              "      <td>Friday</td>\n",
              "    </tr>\n",
              "    <tr>\n",
              "      <th>1</th>\n",
              "      <td>365days</td>\n",
              "      <td>Movie</td>\n",
              "      <td>2020-06-07</td>\n",
              "      <td>Romance</td>\n",
              "      <td>42149</td>\n",
              "      <td>0</td>\n",
              "      <td>2020-04-02</td>\n",
              "      <td>2020</td>\n",
              "      <td>4</td>\n",
              "      <td>2</td>\n",
              "      <td>Thursday</td>\n",
              "    </tr>\n",
              "    <tr>\n",
              "      <th>2</th>\n",
              "      <td>emilyinparis</td>\n",
              "      <td>TV</td>\n",
              "      <td>2020-10-02</td>\n",
              "      <td>Drama</td>\n",
              "      <td>27138</td>\n",
              "      <td>1</td>\n",
              "      <td>2020-10-02</td>\n",
              "      <td>2020</td>\n",
              "      <td>10</td>\n",
              "      <td>2</td>\n",
              "      <td>Friday</td>\n",
              "    </tr>\n",
              "    <tr>\n",
              "      <th>3</th>\n",
              "      <td>lucifer</td>\n",
              "      <td>TV</td>\n",
              "      <td>2016-01-25</td>\n",
              "      <td>Superhero</td>\n",
              "      <td>25729</td>\n",
              "      <td>0</td>\n",
              "      <td>2017-07-24</td>\n",
              "      <td>2017</td>\n",
              "      <td>7</td>\n",
              "      <td>24</td>\n",
              "      <td>Monday</td>\n",
              "    </tr>\n",
              "    <tr>\n",
              "      <th>4</th>\n",
              "      <td>theumbrellaacademy</td>\n",
              "      <td>TV</td>\n",
              "      <td>2019-02-15</td>\n",
              "      <td>Superhero</td>\n",
              "      <td>23480</td>\n",
              "      <td>7</td>\n",
              "      <td>2019-02-15</td>\n",
              "      <td>2019</td>\n",
              "      <td>2</td>\n",
              "      <td>15</td>\n",
              "      <td>Friday</td>\n",
              "    </tr>\n",
              "  </tbody>\n",
              "</table>\n",
              "</div>"
            ],
            "text/plain": [
              "                Title   Type   Made_date      Genre  ...  Year Month Day  dayofweek\n",
              "0     thequeensgambit     TV  2020-10-23      Drama  ...  2020    10  23     Friday\n",
              "1             365days  Movie  2020-06-07    Romance  ...  2020     4   2   Thursday\n",
              "2        emilyinparis     TV  2020-10-02      Drama  ...  2020    10   2     Friday\n",
              "3             lucifer     TV  2016-01-25  Superhero  ...  2017     7  24     Monday\n",
              "4  theumbrellaacademy     TV  2019-02-15  Superhero  ...  2019     2  15     Friday\n",
              "\n",
              "[5 rows x 11 columns]"
            ]
          },
          "metadata": {
            "tags": []
          },
          "execution_count": 22
        }
      ]
    },
    {
      "cell_type": "code",
      "metadata": {
        "ExecuteTime": {
          "end_time": "2021-07-13T06:39:22.021139Z",
          "start_time": "2021-07-13T06:39:21.293932Z"
        },
        "id": "b3e48e9d",
        "outputId": "70eca48c-4377-4f22-ef4e-22b1b2863b3c",
        "colab": {
          "base_uri": "https://localhost:8080/",
          "height": 542
        }
      },
      "source": [
        "import plotly.express as px\n",
        "day_df = netflix['dayofweek'].value_counts().reset_index()\n",
        "\n",
        "fig = px.pie(day_df, values='dayofweek', names='index',color_discrete_sequence=px.colors.sequential.RdBu)\n",
        "fig.update_traces(textposition='inside', textinfo='percent+label',\n",
        "                  marker = dict(line = dict(color = 'white', width = 1)))\n",
        "fig.show()"
      ],
      "id": "b3e48e9d",
      "execution_count": 23,
      "outputs": [
        {
          "output_type": "display_data",
          "data": {
            "text/html": [
              "<html>\n",
              "<head><meta charset=\"utf-8\" /></head>\n",
              "<body>\n",
              "    <div>\n",
              "            <script src=\"https://cdnjs.cloudflare.com/ajax/libs/mathjax/2.7.5/MathJax.js?config=TeX-AMS-MML_SVG\"></script><script type=\"text/javascript\">if (window.MathJax) {MathJax.Hub.Config({SVG: {font: \"STIX-Web\"}});}</script>\n",
              "                <script type=\"text/javascript\">window.PlotlyConfig = {MathJaxConfig: 'local'};</script>\n",
              "        <script src=\"https://cdn.plot.ly/plotly-latest.min.js\"></script>    \n",
              "            <div id=\"52b27abf-c9f4-49db-8a14-aef002960eac\" class=\"plotly-graph-div\" style=\"height:525px; width:100%;\"></div>\n",
              "            <script type=\"text/javascript\">\n",
              "                \n",
              "                    window.PLOTLYENV=window.PLOTLYENV || {};\n",
              "                    \n",
              "                if (document.getElementById(\"52b27abf-c9f4-49db-8a14-aef002960eac\")) {\n",
              "                    Plotly.newPlot(\n",
              "                        '52b27abf-c9f4-49db-8a14-aef002960eac',\n",
              "                        [{\"domain\": {\"x\": [0.0, 1.0], \"y\": [0.0, 1.0]}, \"hoverlabel\": {\"namelength\": 0}, \"hovertemplate\": \"index=%{label}<br>dayofweek=%{value}\", \"labels\": [\"Tuesday\", \"Friday\", \"Wednesday\", \"Thursday\", \"Saturday\", \"Sunday\", \"Monday\"], \"legendgroup\": \"\", \"marker\": {\"line\": {\"color\": \"white\", \"width\": 1}}, \"name\": \"\", \"showlegend\": true, \"textinfo\": \"percent+label\", \"textposition\": \"inside\", \"type\": \"pie\", \"values\": [860, 552, 393, 342, 283, 246, 237]}],\n",
              "                        {\"legend\": {\"tracegroupgap\": 0}, \"margin\": {\"t\": 60}, \"piecolorway\": [\"rgb(103,0,31)\", \"rgb(178,24,43)\", \"rgb(214,96,77)\", \"rgb(244,165,130)\", \"rgb(253,219,199)\", \"rgb(247,247,247)\", \"rgb(209,229,240)\", \"rgb(146,197,222)\", \"rgb(67,147,195)\", \"rgb(33,102,172)\", \"rgb(5,48,97)\"], \"template\": {\"data\": {\"bar\": [{\"error_x\": {\"color\": \"#2a3f5f\"}, \"error_y\": {\"color\": \"#2a3f5f\"}, \"marker\": {\"line\": {\"color\": \"#E5ECF6\", \"width\": 0.5}}, \"type\": \"bar\"}], \"barpolar\": [{\"marker\": {\"line\": {\"color\": \"#E5ECF6\", \"width\": 0.5}}, \"type\": \"barpolar\"}], \"carpet\": [{\"aaxis\": {\"endlinecolor\": \"#2a3f5f\", \"gridcolor\": \"white\", \"linecolor\": \"white\", \"minorgridcolor\": \"white\", \"startlinecolor\": \"#2a3f5f\"}, \"baxis\": {\"endlinecolor\": \"#2a3f5f\", \"gridcolor\": \"white\", \"linecolor\": \"white\", \"minorgridcolor\": \"white\", \"startlinecolor\": \"#2a3f5f\"}, \"type\": \"carpet\"}], \"choropleth\": [{\"colorbar\": {\"outlinewidth\": 0, \"ticks\": \"\"}, \"type\": \"choropleth\"}], \"contour\": [{\"colorbar\": {\"outlinewidth\": 0, \"ticks\": \"\"}, \"colorscale\": [[0.0, \"#0d0887\"], [0.1111111111111111, \"#46039f\"], [0.2222222222222222, \"#7201a8\"], [0.3333333333333333, \"#9c179e\"], [0.4444444444444444, \"#bd3786\"], [0.5555555555555556, \"#d8576b\"], [0.6666666666666666, \"#ed7953\"], [0.7777777777777778, \"#fb9f3a\"], [0.8888888888888888, \"#fdca26\"], [1.0, \"#f0f921\"]], \"type\": \"contour\"}], \"contourcarpet\": [{\"colorbar\": {\"outlinewidth\": 0, \"ticks\": \"\"}, \"type\": \"contourcarpet\"}], \"heatmap\": [{\"colorbar\": {\"outlinewidth\": 0, \"ticks\": \"\"}, \"colorscale\": [[0.0, \"#0d0887\"], [0.1111111111111111, \"#46039f\"], [0.2222222222222222, \"#7201a8\"], [0.3333333333333333, \"#9c179e\"], [0.4444444444444444, \"#bd3786\"], [0.5555555555555556, \"#d8576b\"], [0.6666666666666666, \"#ed7953\"], [0.7777777777777778, \"#fb9f3a\"], [0.8888888888888888, \"#fdca26\"], [1.0, \"#f0f921\"]], \"type\": \"heatmap\"}], \"heatmapgl\": [{\"colorbar\": {\"outlinewidth\": 0, \"ticks\": \"\"}, \"colorscale\": [[0.0, \"#0d0887\"], [0.1111111111111111, \"#46039f\"], [0.2222222222222222, \"#7201a8\"], [0.3333333333333333, \"#9c179e\"], [0.4444444444444444, \"#bd3786\"], [0.5555555555555556, \"#d8576b\"], [0.6666666666666666, \"#ed7953\"], [0.7777777777777778, \"#fb9f3a\"], [0.8888888888888888, \"#fdca26\"], [1.0, \"#f0f921\"]], \"type\": \"heatmapgl\"}], \"histogram\": [{\"marker\": {\"colorbar\": {\"outlinewidth\": 0, \"ticks\": \"\"}}, \"type\": \"histogram\"}], \"histogram2d\": [{\"colorbar\": {\"outlinewidth\": 0, \"ticks\": \"\"}, \"colorscale\": [[0.0, \"#0d0887\"], [0.1111111111111111, \"#46039f\"], [0.2222222222222222, \"#7201a8\"], [0.3333333333333333, \"#9c179e\"], [0.4444444444444444, \"#bd3786\"], [0.5555555555555556, \"#d8576b\"], [0.6666666666666666, \"#ed7953\"], [0.7777777777777778, \"#fb9f3a\"], [0.8888888888888888, \"#fdca26\"], [1.0, \"#f0f921\"]], \"type\": \"histogram2d\"}], \"histogram2dcontour\": [{\"colorbar\": {\"outlinewidth\": 0, \"ticks\": \"\"}, \"colorscale\": [[0.0, \"#0d0887\"], [0.1111111111111111, \"#46039f\"], [0.2222222222222222, \"#7201a8\"], [0.3333333333333333, \"#9c179e\"], [0.4444444444444444, \"#bd3786\"], [0.5555555555555556, \"#d8576b\"], [0.6666666666666666, \"#ed7953\"], [0.7777777777777778, \"#fb9f3a\"], [0.8888888888888888, \"#fdca26\"], [1.0, \"#f0f921\"]], \"type\": \"histogram2dcontour\"}], \"mesh3d\": [{\"colorbar\": {\"outlinewidth\": 0, \"ticks\": \"\"}, \"type\": \"mesh3d\"}], \"parcoords\": [{\"line\": {\"colorbar\": {\"outlinewidth\": 0, \"ticks\": \"\"}}, \"type\": \"parcoords\"}], \"pie\": [{\"automargin\": true, \"type\": \"pie\"}], \"scatter\": [{\"marker\": {\"colorbar\": {\"outlinewidth\": 0, \"ticks\": \"\"}}, \"type\": \"scatter\"}], \"scatter3d\": [{\"line\": {\"colorbar\": {\"outlinewidth\": 0, \"ticks\": \"\"}}, \"marker\": {\"colorbar\": {\"outlinewidth\": 0, \"ticks\": \"\"}}, \"type\": \"scatter3d\"}], \"scattercarpet\": [{\"marker\": {\"colorbar\": {\"outlinewidth\": 0, \"ticks\": \"\"}}, \"type\": \"scattercarpet\"}], \"scattergeo\": [{\"marker\": {\"colorbar\": {\"outlinewidth\": 0, \"ticks\": \"\"}}, \"type\": \"scattergeo\"}], \"scattergl\": [{\"marker\": {\"colorbar\": {\"outlinewidth\": 0, \"ticks\": \"\"}}, \"type\": \"scattergl\"}], \"scattermapbox\": [{\"marker\": {\"colorbar\": {\"outlinewidth\": 0, \"ticks\": \"\"}}, \"type\": \"scattermapbox\"}], \"scatterpolar\": [{\"marker\": {\"colorbar\": {\"outlinewidth\": 0, \"ticks\": \"\"}}, \"type\": \"scatterpolar\"}], \"scatterpolargl\": [{\"marker\": {\"colorbar\": {\"outlinewidth\": 0, \"ticks\": \"\"}}, \"type\": \"scatterpolargl\"}], \"scatterternary\": [{\"marker\": {\"colorbar\": {\"outlinewidth\": 0, \"ticks\": \"\"}}, \"type\": \"scatterternary\"}], \"surface\": [{\"colorbar\": {\"outlinewidth\": 0, \"ticks\": \"\"}, \"colorscale\": [[0.0, \"#0d0887\"], [0.1111111111111111, \"#46039f\"], [0.2222222222222222, \"#7201a8\"], [0.3333333333333333, \"#9c179e\"], [0.4444444444444444, \"#bd3786\"], [0.5555555555555556, \"#d8576b\"], [0.6666666666666666, \"#ed7953\"], [0.7777777777777778, \"#fb9f3a\"], [0.8888888888888888, \"#fdca26\"], [1.0, \"#f0f921\"]], \"type\": \"surface\"}], \"table\": [{\"cells\": {\"fill\": {\"color\": \"#EBF0F8\"}, \"line\": {\"color\": \"white\"}}, \"header\": {\"fill\": {\"color\": \"#C8D4E3\"}, \"line\": {\"color\": \"white\"}}, \"type\": \"table\"}]}, \"layout\": {\"annotationdefaults\": {\"arrowcolor\": \"#2a3f5f\", \"arrowhead\": 0, \"arrowwidth\": 1}, \"coloraxis\": {\"colorbar\": {\"outlinewidth\": 0, \"ticks\": \"\"}}, \"colorscale\": {\"diverging\": [[0, \"#8e0152\"], [0.1, \"#c51b7d\"], [0.2, \"#de77ae\"], [0.3, \"#f1b6da\"], [0.4, \"#fde0ef\"], [0.5, \"#f7f7f7\"], [0.6, \"#e6f5d0\"], [0.7, \"#b8e186\"], [0.8, \"#7fbc41\"], [0.9, \"#4d9221\"], [1, \"#276419\"]], \"sequential\": [[0.0, \"#0d0887\"], [0.1111111111111111, \"#46039f\"], [0.2222222222222222, \"#7201a8\"], [0.3333333333333333, \"#9c179e\"], [0.4444444444444444, \"#bd3786\"], [0.5555555555555556, \"#d8576b\"], [0.6666666666666666, \"#ed7953\"], [0.7777777777777778, \"#fb9f3a\"], [0.8888888888888888, \"#fdca26\"], [1.0, \"#f0f921\"]], \"sequentialminus\": [[0.0, \"#0d0887\"], [0.1111111111111111, \"#46039f\"], [0.2222222222222222, \"#7201a8\"], [0.3333333333333333, \"#9c179e\"], [0.4444444444444444, \"#bd3786\"], [0.5555555555555556, \"#d8576b\"], [0.6666666666666666, \"#ed7953\"], [0.7777777777777778, \"#fb9f3a\"], [0.8888888888888888, \"#fdca26\"], [1.0, \"#f0f921\"]]}, \"colorway\": [\"#636efa\", \"#EF553B\", \"#00cc96\", \"#ab63fa\", \"#FFA15A\", \"#19d3f3\", \"#FF6692\", \"#B6E880\", \"#FF97FF\", \"#FECB52\"], \"font\": {\"color\": \"#2a3f5f\"}, \"geo\": {\"bgcolor\": \"white\", \"lakecolor\": \"white\", \"landcolor\": \"#E5ECF6\", \"showlakes\": true, \"showland\": true, \"subunitcolor\": \"white\"}, \"hoverlabel\": {\"align\": \"left\"}, \"hovermode\": \"closest\", \"mapbox\": {\"style\": \"light\"}, \"paper_bgcolor\": \"white\", \"plot_bgcolor\": \"#E5ECF6\", \"polar\": {\"angularaxis\": {\"gridcolor\": \"white\", \"linecolor\": \"white\", \"ticks\": \"\"}, \"bgcolor\": \"#E5ECF6\", \"radialaxis\": {\"gridcolor\": \"white\", \"linecolor\": \"white\", \"ticks\": \"\"}}, \"scene\": {\"xaxis\": {\"backgroundcolor\": \"#E5ECF6\", \"gridcolor\": \"white\", \"gridwidth\": 2, \"linecolor\": \"white\", \"showbackground\": true, \"ticks\": \"\", \"zerolinecolor\": \"white\"}, \"yaxis\": {\"backgroundcolor\": \"#E5ECF6\", \"gridcolor\": \"white\", \"gridwidth\": 2, \"linecolor\": \"white\", \"showbackground\": true, \"ticks\": \"\", \"zerolinecolor\": \"white\"}, \"zaxis\": {\"backgroundcolor\": \"#E5ECF6\", \"gridcolor\": \"white\", \"gridwidth\": 2, \"linecolor\": \"white\", \"showbackground\": true, \"ticks\": \"\", \"zerolinecolor\": \"white\"}}, \"shapedefaults\": {\"line\": {\"color\": \"#2a3f5f\"}}, \"ternary\": {\"aaxis\": {\"gridcolor\": \"white\", \"linecolor\": \"white\", \"ticks\": \"\"}, \"baxis\": {\"gridcolor\": \"white\", \"linecolor\": \"white\", \"ticks\": \"\"}, \"bgcolor\": \"#E5ECF6\", \"caxis\": {\"gridcolor\": \"white\", \"linecolor\": \"white\", \"ticks\": \"\"}}, \"title\": {\"x\": 0.05}, \"xaxis\": {\"automargin\": true, \"gridcolor\": \"white\", \"linecolor\": \"white\", \"ticks\": \"\", \"title\": {\"standoff\": 15}, \"zerolinecolor\": \"white\", \"zerolinewidth\": 2}, \"yaxis\": {\"automargin\": true, \"gridcolor\": \"white\", \"linecolor\": \"white\", \"ticks\": \"\", \"title\": {\"standoff\": 15}, \"zerolinecolor\": \"white\", \"zerolinewidth\": 2}}}},\n",
              "                        {\"responsive\": true}\n",
              "                    ).then(function(){\n",
              "                            \n",
              "var gd = document.getElementById('52b27abf-c9f4-49db-8a14-aef002960eac');\n",
              "var x = new MutationObserver(function (mutations, observer) {{\n",
              "        var display = window.getComputedStyle(gd).display;\n",
              "        if (!display || display === 'none') {{\n",
              "            console.log([gd, 'removed!']);\n",
              "            Plotly.purge(gd);\n",
              "            observer.disconnect();\n",
              "        }}\n",
              "}});\n",
              "\n",
              "// Listen for the removal of the full notebook cells\n",
              "var notebookContainer = gd.closest('#notebook-container');\n",
              "if (notebookContainer) {{\n",
              "    x.observe(notebookContainer, {childList: true});\n",
              "}}\n",
              "\n",
              "// Listen for the clearing of the current output cell\n",
              "var outputEl = gd.closest('.output');\n",
              "if (outputEl) {{\n",
              "    x.observe(outputEl, {childList: true});\n",
              "}}\n",
              "\n",
              "                        })\n",
              "                };\n",
              "                \n",
              "            </script>\n",
              "        </div>\n",
              "</body>\n",
              "</html>"
            ]
          },
          "metadata": {
            "tags": []
          }
        }
      ]
    },
    {
      "cell_type": "code",
      "metadata": {
        "ExecuteTime": {
          "end_time": "2021-07-13T06:39:22.979074Z",
          "start_time": "2021-07-13T06:39:22.411749Z"
        },
        "id": "603803f9",
        "outputId": "2caa5392-e8c8-4e04-926c-34bbca88fa17",
        "colab": {
          "base_uri": "https://localhost:8080/",
          "height": 329
        }
      },
      "source": [
        "month_day=pd.crosstab(netflix['Month'],netflix['dayofweek'],margins=True).style.background_gradient(cmap='PuBu')\n",
        "month_day"
      ],
      "id": "603803f9",
      "execution_count": 24,
      "outputs": [
        {
          "output_type": "execute_result",
          "data": {
            "text/html": [
              "<style  type=\"text/css\" >\n",
              "#T_aed93bd6_e6f0_11eb_a89d_0242ac1c0002row0_col0,#T_aed93bd6_e6f0_11eb_a89d_0242ac1c0002row0_col3,#T_aed93bd6_e6f0_11eb_a89d_0242ac1c0002row2_col4,#T_aed93bd6_e6f0_11eb_a89d_0242ac1c0002row3_col0,#T_aed93bd6_e6f0_11eb_a89d_0242ac1c0002row4_col7,#T_aed93bd6_e6f0_11eb_a89d_0242ac1c0002row7_col6,#T_aed93bd6_e6f0_11eb_a89d_0242ac1c0002row10_col5,#T_aed93bd6_e6f0_11eb_a89d_0242ac1c0002row10_col6{\n",
              "            background-color:  #fbf4f9;\n",
              "            color:  #000000;\n",
              "        }#T_aed93bd6_e6f0_11eb_a89d_0242ac1c0002row0_col1,#T_aed93bd6_e6f0_11eb_a89d_0242ac1c0002row0_col4,#T_aed93bd6_e6f0_11eb_a89d_0242ac1c0002row0_col5,#T_aed93bd6_e6f0_11eb_a89d_0242ac1c0002row1_col0,#T_aed93bd6_e6f0_11eb_a89d_0242ac1c0002row1_col2,#T_aed93bd6_e6f0_11eb_a89d_0242ac1c0002row1_col3,#T_aed93bd6_e6f0_11eb_a89d_0242ac1c0002row1_col5,#T_aed93bd6_e6f0_11eb_a89d_0242ac1c0002row1_col6,#T_aed93bd6_e6f0_11eb_a89d_0242ac1c0002row1_col7,#T_aed93bd6_e6f0_11eb_a89d_0242ac1c0002row2_col2,#T_aed93bd6_e6f0_11eb_a89d_0242ac1c0002row2_col6,#T_aed93bd6_e6f0_11eb_a89d_0242ac1c0002row3_col2,#T_aed93bd6_e6f0_11eb_a89d_0242ac1c0002row6_col5{\n",
              "            background-color:  #fff7fb;\n",
              "            color:  #000000;\n",
              "        }#T_aed93bd6_e6f0_11eb_a89d_0242ac1c0002row0_col2,#T_aed93bd6_e6f0_11eb_a89d_0242ac1c0002row1_col4,#T_aed93bd6_e6f0_11eb_a89d_0242ac1c0002row2_col7,#T_aed93bd6_e6f0_11eb_a89d_0242ac1c0002row4_col1,#T_aed93bd6_e6f0_11eb_a89d_0242ac1c0002row4_col5,#T_aed93bd6_e6f0_11eb_a89d_0242ac1c0002row9_col5{\n",
              "            background-color:  #fdf5fa;\n",
              "            color:  #000000;\n",
              "        }#T_aed93bd6_e6f0_11eb_a89d_0242ac1c0002row0_col6,#T_aed93bd6_e6f0_11eb_a89d_0242ac1c0002row4_col6,#T_aed93bd6_e6f0_11eb_a89d_0242ac1c0002row8_col0,#T_aed93bd6_e6f0_11eb_a89d_0242ac1c0002row8_col4{\n",
              "            background-color:  #fcf4fa;\n",
              "            color:  #000000;\n",
              "        }#T_aed93bd6_e6f0_11eb_a89d_0242ac1c0002row0_col7,#T_aed93bd6_e6f0_11eb_a89d_0242ac1c0002row1_col1,#T_aed93bd6_e6f0_11eb_a89d_0242ac1c0002row5_col5{\n",
              "            background-color:  #fef6fa;\n",
              "            color:  #000000;\n",
              "        }#T_aed93bd6_e6f0_11eb_a89d_0242ac1c0002row2_col0,#T_aed93bd6_e6f0_11eb_a89d_0242ac1c0002row2_col3,#T_aed93bd6_e6f0_11eb_a89d_0242ac1c0002row4_col4,#T_aed93bd6_e6f0_11eb_a89d_0242ac1c0002row5_col6,#T_aed93bd6_e6f0_11eb_a89d_0242ac1c0002row5_col7,#T_aed93bd6_e6f0_11eb_a89d_0242ac1c0002row6_col7,#T_aed93bd6_e6f0_11eb_a89d_0242ac1c0002row9_col3,#T_aed93bd6_e6f0_11eb_a89d_0242ac1c0002row9_col7,#T_aed93bd6_e6f0_11eb_a89d_0242ac1c0002row11_col5{\n",
              "            background-color:  #f9f2f8;\n",
              "            color:  #000000;\n",
              "        }#T_aed93bd6_e6f0_11eb_a89d_0242ac1c0002row2_col1,#T_aed93bd6_e6f0_11eb_a89d_0242ac1c0002row4_col2,#T_aed93bd6_e6f0_11eb_a89d_0242ac1c0002row6_col4,#T_aed93bd6_e6f0_11eb_a89d_0242ac1c0002row7_col0,#T_aed93bd6_e6f0_11eb_a89d_0242ac1c0002row9_col6,#T_aed93bd6_e6f0_11eb_a89d_0242ac1c0002row10_col1{\n",
              "            background-color:  #faf3f9;\n",
              "            color:  #000000;\n",
              "        }#T_aed93bd6_e6f0_11eb_a89d_0242ac1c0002row2_col5,#T_aed93bd6_e6f0_11eb_a89d_0242ac1c0002row7_col5{\n",
              "            background-color:  #fef6fb;\n",
              "            color:  #000000;\n",
              "        }#T_aed93bd6_e6f0_11eb_a89d_0242ac1c0002row3_col1,#T_aed93bd6_e6f0_11eb_a89d_0242ac1c0002row8_col1{\n",
              "            background-color:  #f2ecf5;\n",
              "            color:  #000000;\n",
              "        }#T_aed93bd6_e6f0_11eb_a89d_0242ac1c0002row3_col3,#T_aed93bd6_e6f0_11eb_a89d_0242ac1c0002row4_col3,#T_aed93bd6_e6f0_11eb_a89d_0242ac1c0002row6_col1,#T_aed93bd6_e6f0_11eb_a89d_0242ac1c0002row10_col7{\n",
              "            background-color:  #f6eff7;\n",
              "            color:  #000000;\n",
              "        }#T_aed93bd6_e6f0_11eb_a89d_0242ac1c0002row3_col4,#T_aed93bd6_e6f0_11eb_a89d_0242ac1c0002row4_col0,#T_aed93bd6_e6f0_11eb_a89d_0242ac1c0002row5_col0,#T_aed93bd6_e6f0_11eb_a89d_0242ac1c0002row7_col1{\n",
              "            background-color:  #fbf3f9;\n",
              "            color:  #000000;\n",
              "        }#T_aed93bd6_e6f0_11eb_a89d_0242ac1c0002row3_col5{\n",
              "            background-color:  #0f76b3;\n",
              "            color:  #f1f1f1;\n",
              "        }#T_aed93bd6_e6f0_11eb_a89d_0242ac1c0002row3_col6,#T_aed93bd6_e6f0_11eb_a89d_0242ac1c0002row10_col4{\n",
              "            background-color:  #f4edf6;\n",
              "            color:  #000000;\n",
              "        }#T_aed93bd6_e6f0_11eb_a89d_0242ac1c0002row3_col7{\n",
              "            background-color:  #d1d2e6;\n",
              "            color:  #000000;\n",
              "        }#T_aed93bd6_e6f0_11eb_a89d_0242ac1c0002row5_col1{\n",
              "            background-color:  #eae6f1;\n",
              "            color:  #000000;\n",
              "        }#T_aed93bd6_e6f0_11eb_a89d_0242ac1c0002row5_col2,#T_aed93bd6_e6f0_11eb_a89d_0242ac1c0002row6_col0,#T_aed93bd6_e6f0_11eb_a89d_0242ac1c0002row8_col6,#T_aed93bd6_e6f0_11eb_a89d_0242ac1c0002row11_col1,#T_aed93bd6_e6f0_11eb_a89d_0242ac1c0002row11_col7{\n",
              "            background-color:  #f5eef6;\n",
              "            color:  #000000;\n",
              "        }#T_aed93bd6_e6f0_11eb_a89d_0242ac1c0002row5_col3,#T_aed93bd6_e6f0_11eb_a89d_0242ac1c0002row6_col2,#T_aed93bd6_e6f0_11eb_a89d_0242ac1c0002row8_col7{\n",
              "            background-color:  #f7f0f7;\n",
              "            color:  #000000;\n",
              "        }#T_aed93bd6_e6f0_11eb_a89d_0242ac1c0002row5_col4,#T_aed93bd6_e6f0_11eb_a89d_0242ac1c0002row6_col3,#T_aed93bd6_e6f0_11eb_a89d_0242ac1c0002row6_col6,#T_aed93bd6_e6f0_11eb_a89d_0242ac1c0002row9_col4,#T_aed93bd6_e6f0_11eb_a89d_0242ac1c0002row11_col4{\n",
              "            background-color:  #f3edf5;\n",
              "            color:  #000000;\n",
              "        }#T_aed93bd6_e6f0_11eb_a89d_0242ac1c0002row7_col2{\n",
              "            background-color:  #eee8f3;\n",
              "            color:  #000000;\n",
              "        }#T_aed93bd6_e6f0_11eb_a89d_0242ac1c0002row7_col3{\n",
              "            background-color:  #ede8f3;\n",
              "            color:  #000000;\n",
              "        }#T_aed93bd6_e6f0_11eb_a89d_0242ac1c0002row7_col4,#T_aed93bd6_e6f0_11eb_a89d_0242ac1c0002row8_col5,#T_aed93bd6_e6f0_11eb_a89d_0242ac1c0002row9_col0,#T_aed93bd6_e6f0_11eb_a89d_0242ac1c0002row9_col2{\n",
              "            background-color:  #f8f1f8;\n",
              "            color:  #000000;\n",
              "        }#T_aed93bd6_e6f0_11eb_a89d_0242ac1c0002row7_col7{\n",
              "            background-color:  #faf2f8;\n",
              "            color:  #000000;\n",
              "        }#T_aed93bd6_e6f0_11eb_a89d_0242ac1c0002row8_col2,#T_aed93bd6_e6f0_11eb_a89d_0242ac1c0002row10_col0{\n",
              "            background-color:  #f1ebf4;\n",
              "            color:  #000000;\n",
              "        }#T_aed93bd6_e6f0_11eb_a89d_0242ac1c0002row8_col3{\n",
              "            background-color:  #ede7f2;\n",
              "            color:  #000000;\n",
              "        }#T_aed93bd6_e6f0_11eb_a89d_0242ac1c0002row9_col1{\n",
              "            background-color:  #f0eaf4;\n",
              "            color:  #000000;\n",
              "        }#T_aed93bd6_e6f0_11eb_a89d_0242ac1c0002row10_col2,#T_aed93bd6_e6f0_11eb_a89d_0242ac1c0002row11_col0{\n",
              "            background-color:  #f5eff6;\n",
              "            color:  #000000;\n",
              "        }#T_aed93bd6_e6f0_11eb_a89d_0242ac1c0002row10_col3{\n",
              "            background-color:  #dedcec;\n",
              "            color:  #000000;\n",
              "        }#T_aed93bd6_e6f0_11eb_a89d_0242ac1c0002row11_col2{\n",
              "            background-color:  #ebe6f2;\n",
              "            color:  #000000;\n",
              "        }#T_aed93bd6_e6f0_11eb_a89d_0242ac1c0002row11_col3{\n",
              "            background-color:  #eee9f3;\n",
              "            color:  #000000;\n",
              "        }#T_aed93bd6_e6f0_11eb_a89d_0242ac1c0002row11_col6{\n",
              "            background-color:  #f4eef6;\n",
              "            color:  #000000;\n",
              "        }#T_aed93bd6_e6f0_11eb_a89d_0242ac1c0002row12_col0,#T_aed93bd6_e6f0_11eb_a89d_0242ac1c0002row12_col1,#T_aed93bd6_e6f0_11eb_a89d_0242ac1c0002row12_col2,#T_aed93bd6_e6f0_11eb_a89d_0242ac1c0002row12_col3,#T_aed93bd6_e6f0_11eb_a89d_0242ac1c0002row12_col4,#T_aed93bd6_e6f0_11eb_a89d_0242ac1c0002row12_col5,#T_aed93bd6_e6f0_11eb_a89d_0242ac1c0002row12_col6,#T_aed93bd6_e6f0_11eb_a89d_0242ac1c0002row12_col7{\n",
              "            background-color:  #023858;\n",
              "            color:  #f1f1f1;\n",
              "        }</style><table id=\"T_aed93bd6_e6f0_11eb_a89d_0242ac1c0002\" ><thead>    <tr>        <th class=\"index_name level0\" >dayofweek</th>        <th class=\"col_heading level0 col0\" >Friday</th>        <th class=\"col_heading level0 col1\" >Monday</th>        <th class=\"col_heading level0 col2\" >Saturday</th>        <th class=\"col_heading level0 col3\" >Sunday</th>        <th class=\"col_heading level0 col4\" >Thursday</th>        <th class=\"col_heading level0 col5\" >Tuesday</th>        <th class=\"col_heading level0 col6\" >Wednesday</th>        <th class=\"col_heading level0 col7\" >All</th>    </tr>    <tr>        <th class=\"index_name level0\" >Month</th>        <th class=\"blank\" ></th>        <th class=\"blank\" ></th>        <th class=\"blank\" ></th>        <th class=\"blank\" ></th>        <th class=\"blank\" ></th>        <th class=\"blank\" ></th>        <th class=\"blank\" ></th>        <th class=\"blank\" ></th>    </tr></thead><tbody>\n",
              "                <tr>\n",
              "                        <th id=\"T_aed93bd6_e6f0_11eb_a89d_0242ac1c0002level0_row0\" class=\"row_heading level0 row0\" >1</th>\n",
              "                        <td id=\"T_aed93bd6_e6f0_11eb_a89d_0242ac1c0002row0_col0\" class=\"data row0 col0\" >39</td>\n",
              "                        <td id=\"T_aed93bd6_e6f0_11eb_a89d_0242ac1c0002row0_col1\" class=\"data row0 col1\" >7</td>\n",
              "                        <td id=\"T_aed93bd6_e6f0_11eb_a89d_0242ac1c0002row0_col2\" class=\"data row0 col2\" >13</td>\n",
              "                        <td id=\"T_aed93bd6_e6f0_11eb_a89d_0242ac1c0002row0_col3\" class=\"data row0 col3\" >8</td>\n",
              "                        <td id=\"T_aed93bd6_e6f0_11eb_a89d_0242ac1c0002row0_col4\" class=\"data row0 col4\" >14</td>\n",
              "                        <td id=\"T_aed93bd6_e6f0_11eb_a89d_0242ac1c0002row0_col5\" class=\"data row0 col5\" >10</td>\n",
              "                        <td id=\"T_aed93bd6_e6f0_11eb_a89d_0242ac1c0002row0_col6\" class=\"data row0 col6\" >26</td>\n",
              "                        <td id=\"T_aed93bd6_e6f0_11eb_a89d_0242ac1c0002row0_col7\" class=\"data row0 col7\" >117</td>\n",
              "            </tr>\n",
              "            <tr>\n",
              "                        <th id=\"T_aed93bd6_e6f0_11eb_a89d_0242ac1c0002level0_row1\" class=\"row_heading level0 row1\" >2</th>\n",
              "                        <td id=\"T_aed93bd6_e6f0_11eb_a89d_0242ac1c0002row1_col0\" class=\"data row1 col0\" >25</td>\n",
              "                        <td id=\"T_aed93bd6_e6f0_11eb_a89d_0242ac1c0002row1_col1\" class=\"data row1 col1\" >9</td>\n",
              "                        <td id=\"T_aed93bd6_e6f0_11eb_a89d_0242ac1c0002row1_col2\" class=\"data row1 col2\" >10</td>\n",
              "                        <td id=\"T_aed93bd6_e6f0_11eb_a89d_0242ac1c0002row1_col3\" class=\"data row1 col3\" >2</td>\n",
              "                        <td id=\"T_aed93bd6_e6f0_11eb_a89d_0242ac1c0002row1_col4\" class=\"data row1 col4\" >20</td>\n",
              "                        <td id=\"T_aed93bd6_e6f0_11eb_a89d_0242ac1c0002row1_col5\" class=\"data row1 col5\" >9</td>\n",
              "                        <td id=\"T_aed93bd6_e6f0_11eb_a89d_0242ac1c0002row1_col6\" class=\"data row1 col6\" >18</td>\n",
              "                        <td id=\"T_aed93bd6_e6f0_11eb_a89d_0242ac1c0002row1_col7\" class=\"data row1 col7\" >93</td>\n",
              "            </tr>\n",
              "            <tr>\n",
              "                        <th id=\"T_aed93bd6_e6f0_11eb_a89d_0242ac1c0002level0_row2\" class=\"row_heading level0 row2\" >3</th>\n",
              "                        <td id=\"T_aed93bd6_e6f0_11eb_a89d_0242ac1c0002row2_col0\" class=\"data row2 col0\" >46</td>\n",
              "                        <td id=\"T_aed93bd6_e6f0_11eb_a89d_0242ac1c0002row2_col1\" class=\"data row2 col1\" >15</td>\n",
              "                        <td id=\"T_aed93bd6_e6f0_11eb_a89d_0242ac1c0002row2_col2\" class=\"data row2 col2\" >10</td>\n",
              "                        <td id=\"T_aed93bd6_e6f0_11eb_a89d_0242ac1c0002row2_col3\" class=\"data row2 col3\" >12</td>\n",
              "                        <td id=\"T_aed93bd6_e6f0_11eb_a89d_0242ac1c0002row2_col4\" class=\"data row2 col4\" >22</td>\n",
              "                        <td id=\"T_aed93bd6_e6f0_11eb_a89d_0242ac1c0002row2_col5\" class=\"data row2 col5\" >13</td>\n",
              "                        <td id=\"T_aed93bd6_e6f0_11eb_a89d_0242ac1c0002row2_col6\" class=\"data row2 col6\" >18</td>\n",
              "                        <td id=\"T_aed93bd6_e6f0_11eb_a89d_0242ac1c0002row2_col7\" class=\"data row2 col7\" >136</td>\n",
              "            </tr>\n",
              "            <tr>\n",
              "                        <th id=\"T_aed93bd6_e6f0_11eb_a89d_0242ac1c0002level0_row3\" class=\"row_heading level0 row3\" >4</th>\n",
              "                        <td id=\"T_aed93bd6_e6f0_11eb_a89d_0242ac1c0002row3_col0\" class=\"data row3 col0\" >39</td>\n",
              "                        <td id=\"T_aed93bd6_e6f0_11eb_a89d_0242ac1c0002row3_col1\" class=\"data row3 col1\" >27</td>\n",
              "                        <td id=\"T_aed93bd6_e6f0_11eb_a89d_0242ac1c0002row3_col2\" class=\"data row3 col2\" >9</td>\n",
              "                        <td id=\"T_aed93bd6_e6f0_11eb_a89d_0242ac1c0002row3_col3\" class=\"data row3 col3\" >17</td>\n",
              "                        <td id=\"T_aed93bd6_e6f0_11eb_a89d_0242ac1c0002row3_col4\" class=\"data row3 col4\" >24</td>\n",
              "                        <td id=\"T_aed93bd6_e6f0_11eb_a89d_0242ac1c0002row3_col5\" class=\"data row3 col5\" >627</td>\n",
              "                        <td id=\"T_aed93bd6_e6f0_11eb_a89d_0242ac1c0002row3_col6\" class=\"data row3 col6\" >47</td>\n",
              "                        <td id=\"T_aed93bd6_e6f0_11eb_a89d_0242ac1c0002row3_col7\" class=\"data row3 col7\" >790</td>\n",
              "            </tr>\n",
              "            <tr>\n",
              "                        <th id=\"T_aed93bd6_e6f0_11eb_a89d_0242ac1c0002level0_row4\" class=\"row_heading level0 row4\" >5</th>\n",
              "                        <td id=\"T_aed93bd6_e6f0_11eb_a89d_0242ac1c0002row4_col0\" class=\"data row4 col0\" >41</td>\n",
              "                        <td id=\"T_aed93bd6_e6f0_11eb_a89d_0242ac1c0002row4_col1\" class=\"data row4 col1\" >11</td>\n",
              "                        <td id=\"T_aed93bd6_e6f0_11eb_a89d_0242ac1c0002row4_col2\" class=\"data row4 col2\" >18</td>\n",
              "                        <td id=\"T_aed93bd6_e6f0_11eb_a89d_0242ac1c0002row4_col3\" class=\"data row4 col3\" >17</td>\n",
              "                        <td id=\"T_aed93bd6_e6f0_11eb_a89d_0242ac1c0002row4_col4\" class=\"data row4 col4\" >28</td>\n",
              "                        <td id=\"T_aed93bd6_e6f0_11eb_a89d_0242ac1c0002row4_col5\" class=\"data row4 col5\" >23</td>\n",
              "                        <td id=\"T_aed93bd6_e6f0_11eb_a89d_0242ac1c0002row4_col6\" class=\"data row4 col6\" >26</td>\n",
              "                        <td id=\"T_aed93bd6_e6f0_11eb_a89d_0242ac1c0002row4_col7\" class=\"data row4 col7\" >164</td>\n",
              "            </tr>\n",
              "            <tr>\n",
              "                        <th id=\"T_aed93bd6_e6f0_11eb_a89d_0242ac1c0002level0_row5\" class=\"row_heading level0 row5\" >6</th>\n",
              "                        <td id=\"T_aed93bd6_e6f0_11eb_a89d_0242ac1c0002row5_col0\" class=\"data row5 col0\" >41</td>\n",
              "                        <td id=\"T_aed93bd6_e6f0_11eb_a89d_0242ac1c0002row5_col1\" class=\"data row5 col1\" >38</td>\n",
              "                        <td id=\"T_aed93bd6_e6f0_11eb_a89d_0242ac1c0002row5_col2\" class=\"data row5 col2\" >28</td>\n",
              "                        <td id=\"T_aed93bd6_e6f0_11eb_a89d_0242ac1c0002row5_col3\" class=\"data row5 col3\" >16</td>\n",
              "                        <td id=\"T_aed93bd6_e6f0_11eb_a89d_0242ac1c0002row5_col4\" class=\"data row5 col4\" >40</td>\n",
              "                        <td id=\"T_aed93bd6_e6f0_11eb_a89d_0242ac1c0002row5_col5\" class=\"data row5 col5\" >17</td>\n",
              "                        <td id=\"T_aed93bd6_e6f0_11eb_a89d_0242ac1c0002row5_col6\" class=\"data row5 col6\" >34</td>\n",
              "                        <td id=\"T_aed93bd6_e6f0_11eb_a89d_0242ac1c0002row5_col7\" class=\"data row5 col7\" >214</td>\n",
              "            </tr>\n",
              "            <tr>\n",
              "                        <th id=\"T_aed93bd6_e6f0_11eb_a89d_0242ac1c0002level0_row6\" class=\"row_heading level0 row6\" >7</th>\n",
              "                        <td id=\"T_aed93bd6_e6f0_11eb_a89d_0242ac1c0002row6_col0\" class=\"data row6 col0\" >61</td>\n",
              "                        <td id=\"T_aed93bd6_e6f0_11eb_a89d_0242ac1c0002row6_col1\" class=\"data row6 col1\" >21</td>\n",
              "                        <td id=\"T_aed93bd6_e6f0_11eb_a89d_0242ac1c0002row6_col2\" class=\"data row6 col2\" >25</td>\n",
              "                        <td id=\"T_aed93bd6_e6f0_11eb_a89d_0242ac1c0002row6_col3\" class=\"data row6 col3\" >22</td>\n",
              "                        <td id=\"T_aed93bd6_e6f0_11eb_a89d_0242ac1c0002row6_col4\" class=\"data row6 col4\" >25</td>\n",
              "                        <td id=\"T_aed93bd6_e6f0_11eb_a89d_0242ac1c0002row6_col5\" class=\"data row6 col5\" >8</td>\n",
              "                        <td id=\"T_aed93bd6_e6f0_11eb_a89d_0242ac1c0002row6_col6\" class=\"data row6 col6\" >48</td>\n",
              "                        <td id=\"T_aed93bd6_e6f0_11eb_a89d_0242ac1c0002row6_col7\" class=\"data row6 col7\" >210</td>\n",
              "            </tr>\n",
              "            <tr>\n",
              "                        <th id=\"T_aed93bd6_e6f0_11eb_a89d_0242ac1c0002level0_row7\" class=\"row_heading level0 row7\" >8</th>\n",
              "                        <td id=\"T_aed93bd6_e6f0_11eb_a89d_0242ac1c0002row7_col0\" class=\"data row7 col0\" >42</td>\n",
              "                        <td id=\"T_aed93bd6_e6f0_11eb_a89d_0242ac1c0002row7_col1\" class=\"data row7 col1\" >14</td>\n",
              "                        <td id=\"T_aed93bd6_e6f0_11eb_a89d_0242ac1c0002row7_col2\" class=\"data row7 col2\" >41</td>\n",
              "                        <td id=\"T_aed93bd6_e6f0_11eb_a89d_0242ac1c0002row7_col3\" class=\"data row7 col3\" >31</td>\n",
              "                        <td id=\"T_aed93bd6_e6f0_11eb_a89d_0242ac1c0002row7_col4\" class=\"data row7 col4\" >29</td>\n",
              "                        <td id=\"T_aed93bd6_e6f0_11eb_a89d_0242ac1c0002row7_col5\" class=\"data row7 col5\" >12</td>\n",
              "                        <td id=\"T_aed93bd6_e6f0_11eb_a89d_0242ac1c0002row7_col6\" class=\"data row7 col6\" >28</td>\n",
              "                        <td id=\"T_aed93bd6_e6f0_11eb_a89d_0242ac1c0002row7_col7\" class=\"data row7 col7\" >197</td>\n",
              "            </tr>\n",
              "            <tr>\n",
              "                        <th id=\"T_aed93bd6_e6f0_11eb_a89d_0242ac1c0002level0_row8\" class=\"row_heading level0 row8\" >9</th>\n",
              "                        <td id=\"T_aed93bd6_e6f0_11eb_a89d_0242ac1c0002row8_col0\" class=\"data row8 col0\" >37</td>\n",
              "                        <td id=\"T_aed93bd6_e6f0_11eb_a89d_0242ac1c0002row8_col1\" class=\"data row8 col1\" >26</td>\n",
              "                        <td id=\"T_aed93bd6_e6f0_11eb_a89d_0242ac1c0002row8_col2\" class=\"data row8 col2\" >35</td>\n",
              "                        <td id=\"T_aed93bd6_e6f0_11eb_a89d_0242ac1c0002row8_col3\" class=\"data row8 col3\" >32</td>\n",
              "                        <td id=\"T_aed93bd6_e6f0_11eb_a89d_0242ac1c0002row8_col4\" class=\"data row8 col4\" >21</td>\n",
              "                        <td id=\"T_aed93bd6_e6f0_11eb_a89d_0242ac1c0002row8_col5\" class=\"data row8 col5\" >45</td>\n",
              "                        <td id=\"T_aed93bd6_e6f0_11eb_a89d_0242ac1c0002row8_col6\" class=\"data row8 col6\" >44</td>\n",
              "                        <td id=\"T_aed93bd6_e6f0_11eb_a89d_0242ac1c0002row8_col7\" class=\"data row8 col7\" >240</td>\n",
              "            </tr>\n",
              "            <tr>\n",
              "                        <th id=\"T_aed93bd6_e6f0_11eb_a89d_0242ac1c0002level0_row9\" class=\"row_heading level0 row9\" >10</th>\n",
              "                        <td id=\"T_aed93bd6_e6f0_11eb_a89d_0242ac1c0002row9_col0\" class=\"data row9 col0\" >48</td>\n",
              "                        <td id=\"T_aed93bd6_e6f0_11eb_a89d_0242ac1c0002row9_col1\" class=\"data row9 col1\" >31</td>\n",
              "                        <td id=\"T_aed93bd6_e6f0_11eb_a89d_0242ac1c0002row9_col2\" class=\"data row9 col2\" >22</td>\n",
              "                        <td id=\"T_aed93bd6_e6f0_11eb_a89d_0242ac1c0002row9_col3\" class=\"data row9 col3\" >12</td>\n",
              "                        <td id=\"T_aed93bd6_e6f0_11eb_a89d_0242ac1c0002row9_col4\" class=\"data row9 col4\" >40</td>\n",
              "                        <td id=\"T_aed93bd6_e6f0_11eb_a89d_0242ac1c0002row9_col5\" class=\"data row9 col5\" >22</td>\n",
              "                        <td id=\"T_aed93bd6_e6f0_11eb_a89d_0242ac1c0002row9_col6\" class=\"data row9 col6\" >31</td>\n",
              "                        <td id=\"T_aed93bd6_e6f0_11eb_a89d_0242ac1c0002row9_col7\" class=\"data row9 col7\" >206</td>\n",
              "            </tr>\n",
              "            <tr>\n",
              "                        <th id=\"T_aed93bd6_e6f0_11eb_a89d_0242ac1c0002level0_row10\" class=\"row_heading level0 row10\" >11</th>\n",
              "                        <td id=\"T_aed93bd6_e6f0_11eb_a89d_0242ac1c0002row10_col0\" class=\"data row10 col0\" >75</td>\n",
              "                        <td id=\"T_aed93bd6_e6f0_11eb_a89d_0242ac1c0002row10_col1\" class=\"data row10 col1\" >15</td>\n",
              "                        <td id=\"T_aed93bd6_e6f0_11eb_a89d_0242ac1c0002row10_col2\" class=\"data row10 col2\" >27</td>\n",
              "                        <td id=\"T_aed93bd6_e6f0_11eb_a89d_0242ac1c0002row10_col3\" class=\"data row10 col3\" >48</td>\n",
              "                        <td id=\"T_aed93bd6_e6f0_11eb_a89d_0242ac1c0002row10_col4\" class=\"data row10 col4\" >39</td>\n",
              "                        <td id=\"T_aed93bd6_e6f0_11eb_a89d_0242ac1c0002row10_col5\" class=\"data row10 col5\" >31</td>\n",
              "                        <td id=\"T_aed93bd6_e6f0_11eb_a89d_0242ac1c0002row10_col6\" class=\"data row10 col6\" >28</td>\n",
              "                        <td id=\"T_aed93bd6_e6f0_11eb_a89d_0242ac1c0002row10_col7\" class=\"data row10 col7\" >263</td>\n",
              "            </tr>\n",
              "            <tr>\n",
              "                        <th id=\"T_aed93bd6_e6f0_11eb_a89d_0242ac1c0002level0_row11\" class=\"row_heading level0 row11\" >12</th>\n",
              "                        <td id=\"T_aed93bd6_e6f0_11eb_a89d_0242ac1c0002row11_col0\" class=\"data row11 col0\" >58</td>\n",
              "                        <td id=\"T_aed93bd6_e6f0_11eb_a89d_0242ac1c0002row11_col1\" class=\"data row11 col1\" >23</td>\n",
              "                        <td id=\"T_aed93bd6_e6f0_11eb_a89d_0242ac1c0002row11_col2\" class=\"data row11 col2\" >45</td>\n",
              "                        <td id=\"T_aed93bd6_e6f0_11eb_a89d_0242ac1c0002row11_col3\" class=\"data row11 col3\" >29</td>\n",
              "                        <td id=\"T_aed93bd6_e6f0_11eb_a89d_0242ac1c0002row11_col4\" class=\"data row11 col4\" >40</td>\n",
              "                        <td id=\"T_aed93bd6_e6f0_11eb_a89d_0242ac1c0002row11_col5\" class=\"data row11 col5\" >43</td>\n",
              "                        <td id=\"T_aed93bd6_e6f0_11eb_a89d_0242ac1c0002row11_col6\" class=\"data row11 col6\" >45</td>\n",
              "                        <td id=\"T_aed93bd6_e6f0_11eb_a89d_0242ac1c0002row11_col7\" class=\"data row11 col7\" >283</td>\n",
              "            </tr>\n",
              "            <tr>\n",
              "                        <th id=\"T_aed93bd6_e6f0_11eb_a89d_0242ac1c0002level0_row12\" class=\"row_heading level0 row12\" >All</th>\n",
              "                        <td id=\"T_aed93bd6_e6f0_11eb_a89d_0242ac1c0002row12_col0\" class=\"data row12 col0\" >552</td>\n",
              "                        <td id=\"T_aed93bd6_e6f0_11eb_a89d_0242ac1c0002row12_col1\" class=\"data row12 col1\" >237</td>\n",
              "                        <td id=\"T_aed93bd6_e6f0_11eb_a89d_0242ac1c0002row12_col2\" class=\"data row12 col2\" >283</td>\n",
              "                        <td id=\"T_aed93bd6_e6f0_11eb_a89d_0242ac1c0002row12_col3\" class=\"data row12 col3\" >246</td>\n",
              "                        <td id=\"T_aed93bd6_e6f0_11eb_a89d_0242ac1c0002row12_col4\" class=\"data row12 col4\" >342</td>\n",
              "                        <td id=\"T_aed93bd6_e6f0_11eb_a89d_0242ac1c0002row12_col5\" class=\"data row12 col5\" >860</td>\n",
              "                        <td id=\"T_aed93bd6_e6f0_11eb_a89d_0242ac1c0002row12_col6\" class=\"data row12 col6\" >393</td>\n",
              "                        <td id=\"T_aed93bd6_e6f0_11eb_a89d_0242ac1c0002row12_col7\" class=\"data row12 col7\" >2913</td>\n",
              "            </tr>\n",
              "    </tbody></table>"
            ],
            "text/plain": [
              "<pandas.io.formats.style.Styler at 0x7fd957d9fd50>"
            ]
          },
          "metadata": {
            "tags": []
          },
          "execution_count": 24
        }
      ]
    },
    {
      "cell_type": "markdown",
      "metadata": {
        "id": "0564318e"
      },
      "source": [
        " - 결과를 보면 넷플릭스의 컨텐츠 출시 요일은 목요일과 금요일이 압도적이다. 그럼 다음 그래프에선 출시 요일별 viewpoint를 한번 보도록하자"
      ],
      "id": "0564318e"
    },
    {
      "cell_type": "code",
      "metadata": {
        "id": "iiwsCUrZPXoW"
      },
      "source": [
        "num = ['Monday', 'Tuesday', 'Wednesday', 'Thursday', 'Friday', 'Saturday', 'Sunday']\n",
        "netflix['num'] = 0\n",
        "for i in range(len(netflix['dayofweek'])):\n",
        "    if netflix['dayofweek'].iloc[i] in num:\n",
        "        netflix['num'].iloc[i] = num.index(netflix['dayofweek'].iloc[i])\n",
        "\n",
        "netflix = netflix.sort_values('num')"
      ],
      "id": "iiwsCUrZPXoW",
      "execution_count": 46,
      "outputs": []
    },
    {
      "cell_type": "code",
      "metadata": {
        "ExecuteTime": {
          "end_time": "2021-07-13T06:39:26.500736Z",
          "start_time": "2021-07-13T06:39:24.811960Z"
        },
        "id": "929ea0b0",
        "outputId": "24e94d54-7cc1-459b-a21c-b1da9646c121",
        "colab": {
          "base_uri": "https://localhost:8080/",
          "height": 334
        }
      },
      "source": [
        "fig, ax = plt.subplots(2,2, figsize=(15,5))\n",
        "\n",
        "sns.lineplot(x='Year', y=netflix['Value'], data=netflix, ax=ax[0,0], alpha=0.7)\n",
        "sns.lineplot(x='Month', y=netflix['Value'], data=netflix, ax=ax[0,1], alpha=0.7)\n",
        "sns.lineplot(x='Day', y=netflix['Value'], data=netflix, ax=ax[1,0], alpha=0.7)\n",
        "sns.lineplot(x=netflix['dayofweek'] , y=netflix['Value'], data=netflix, ax=ax[1,1], alpha=0.7)\n",
        "\n",
        "plt.show()"
      ],
      "id": "929ea0b0",
      "execution_count": 49,
      "outputs": [
        {
          "output_type": "display_data",
          "data": {
            "image/png": "[encoded data removed]",
            "text/plain": [
              "<Figure size 1080x360 with 4 Axes>"
            ]
          },
          "metadata": {
            "tags": [],
            "needs_background": "light"
          }
        }
      ]
    },
    {
      "cell_type": "markdown",
      "metadata": {
        "ExecuteTime": {
          "end_time": "2021-07-13T05:29:24.436760Z",
          "start_time": "2021-07-13T05:29:24.428782Z"
        },
        "id": "73ce75a3"
      },
      "source": [
        "총평 : 넷플릭스 출시 시기와 value(viewpoint)를 한눈에 볼수 있는 그래프가 있다 \n",
        "16년-17년 사이에 출시된 컨텐츠와 20년에 출시된 컨텐츠 들이 대체로 많은 viewpoint 를 기록 중이며, 출시가 빨리 됬다고 뷰포인트가 높은것은 아니다 라는 결론과 출시일정과 상관관계가 적다는 결론을 낼수 있고,\n",
        "요일에 따른 viewpoint를 살펴보면 컨텐츠 출시는 대체적으로 화요일에 컨텐츠 출시를 많이 하고 있지만 목요일과 금요일에 출시한 컨텐츠들이 대체적으로 viewpoint가 높은것으로 나타난다"
      ],
      "id": "73ce75a3"
    },
    {
      "cell_type": "code",
      "metadata": {
        "id": "9553230a"
      },
      "source": [
        ""
      ],
      "id": "9553230a",
      "execution_count": 25,
      "outputs": []
    }
  ]
}