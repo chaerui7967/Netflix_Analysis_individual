{
  "nbformat": 4,
  "nbformat_minor": 0,
  "metadata": {
    "colab": {
      "name": "태그_viewpoint_분석_시각화_완료_둘다.ipynb",
      "private_outputs": true,
      "provenance": [],
      "collapsed_sections": [
        "C26En-ZjVJeL",
        "FPh39Hx7OD_1",
        "7IFFn69bK6MO",
        "70QQnzxAVMWI",
        "wUNrooFnLwDf",
        "yAymxk-M9326"
      ]
    },
    "kernelspec": {
      "name": "python3",
      "display_name": "Python 3"
    },
    "language_info": {
      "name": "python"
    },
    "accelerator": "GPU"
  },
  "cells": [
    {
      "cell_type": "markdown",
      "metadata": {
        "id": "TbaZuUY5JRUP"
      },
      "source": [
        "# Tag_viewpoint 분석"
      ]
    },
    {
      "cell_type": "code",
      "metadata": {
        "id": "jCctCf0mOQxn"
      },
      "source": [
        "import pandas as pd\n",
        "import numpy as np\n",
        "\n",
        "# 데이터 시각화\n",
        "import matplotlib.pyplot as plt\n",
        "import plotly.graph_objects as go\n",
        "import seaborn as sns\n",
        "from wordcloud import WordCloud\n",
        "\n",
        "# 가설검정\n",
        "from scipy import stats\n",
        "\n",
        "# 경고문구 무시\n",
        "import warnings\n",
        "warnings.filterwarnings(\"ignore\")\n",
        "# 자연어 처리\n",
        "# import spacy"
      ],
      "execution_count": null,
      "outputs": []
    },
    {
      "cell_type": "markdown",
      "metadata": {
        "id": "C26En-ZjVJeL"
      },
      "source": [
        "## 데이터 정보확인"
      ]
    },
    {
      "cell_type": "code",
      "metadata": {
        "id": "HVxoUEwcTojk"
      },
      "source": [
        "df = pd.read_csv('use_df.csv')"
      ],
      "execution_count": null,
      "outputs": []
    },
    {
      "cell_type": "code",
      "metadata": {
        "id": "RRwFCTVoT4Ta"
      },
      "source": [
        "df.head(2)"
      ],
      "execution_count": null,
      "outputs": []
    },
    {
      "cell_type": "code",
      "metadata": {
        "id": "BmIDmetlOQk5"
      },
      "source": [
        "df.describe()"
      ],
      "execution_count": null,
      "outputs": []
    },
    {
      "cell_type": "code",
      "metadata": {
        "id": "KqDzopEbTZ6c"
      },
      "source": [
        "colors = ['black',] * 2\n",
        "colors[0] = 'crimson'\n",
        "count = df['Series or Movie'].value_counts()"
      ],
      "execution_count": null,
      "outputs": []
    },
    {
      "cell_type": "code",
      "metadata": {
        "id": "ldoG-Zno60lL"
      },
      "source": [
        "count"
      ],
      "execution_count": null,
      "outputs": []
    },
    {
      "cell_type": "code",
      "metadata": {
        "id": "Lb4v0dacTmoY"
      },
      "source": [
        "# 데이터 시각화 plot.graph_objects 사용\n",
        "fig = go.Figure(data=[go.Bar(\n",
        "    x = count.index,\n",
        "    y = count,\n",
        "    text = count,\n",
        "    textposition='auto',\n",
        "    marker_color=colors \n",
        ")])"
      ],
      "execution_count": null,
      "outputs": []
    },
    {
      "cell_type": "code",
      "metadata": {
        "id": "cuqfVayBURuT"
      },
      "source": [
        "# 바차트 제목 및 y축 라벨, x축 라벨 그리기\n",
        "fig.update_traces(texttemplate='%{text:.2s}', textposition='outside')\n",
        "fig.update_layout(title_text= 'More Movie or Tv Series?',\n",
        "                  yaxis=dict(\n",
        "                  title='Quantity',\n",
        "                  titlefont_size= 14),\n",
        "                  xaxis=dict(\n",
        "                  title='Category',\n",
        "                  titlefont_size= 14)\n",
        "                  )"
      ],
      "execution_count": null,
      "outputs": []
    },
    {
      "cell_type": "markdown",
      "metadata": {
        "id": "FPh39Hx7OD_1"
      },
      "source": [
        "## viewpoint 정규화\n",
        "- min-max 정규화 실시"
      ]
    },
    {
      "cell_type": "code",
      "metadata": {
        "id": "NuxpZ1PFScTx"
      },
      "source": [
        "df['VALUE_std'] = (df['VALUE'] - df['VALUE'].min())/df['VALUE'].max()"
      ],
      "execution_count": null,
      "outputs": []
    },
    {
      "cell_type": "code",
      "metadata": {
        "id": "zKr__lL6nv5V"
      },
      "source": [
        ""
      ],
      "execution_count": null,
      "outputs": []
    },
    {
      "cell_type": "markdown",
      "metadata": {
        "id": "qKdMtuZajniH"
      },
      "source": [
        "- 표준화 실시"
      ]
    },
    {
      "cell_type": "code",
      "metadata": {
        "id": "hNLrmDqujm97"
      },
      "source": [
        "df['VALUE_norm'] = (df['VALUE'] -df['VALUE'].mean())/df['VALUE'].std()"
      ],
      "execution_count": null,
      "outputs": []
    },
    {
      "cell_type": "code",
      "metadata": {
        "id": "J4C3WotoScEN"
      },
      "source": [
        ""
      ],
      "execution_count": null,
      "outputs": []
    },
    {
      "cell_type": "markdown",
      "metadata": {
        "id": "7IFFn69bK6MO"
      },
      "source": [
        "## Tag_count 변수 추가"
      ]
    },
    {
      "cell_type": "code",
      "metadata": {
        "id": "baRFhIMxK7sf"
      },
      "source": [
        "len(str(df.Tags.iloc[0]).split(','))"
      ],
      "execution_count": null,
      "outputs": []
    },
    {
      "cell_type": "code",
      "metadata": {
        "id": "qJuP-GjZLEyP"
      },
      "source": [
        "rows = len(df['Tags'])"
      ],
      "execution_count": null,
      "outputs": []
    },
    {
      "cell_type": "code",
      "metadata": {
        "id": "XCV6JAbsLJ1G"
      },
      "source": [
        "df['Tags'].iloc[0]"
      ],
      "execution_count": null,
      "outputs": []
    },
    {
      "cell_type": "code",
      "metadata": {
        "id": "oDuKjX92SL1K"
      },
      "source": [
        "df['Tag_count'] = 0"
      ],
      "execution_count": null,
      "outputs": []
    },
    {
      "cell_type": "code",
      "metadata": {
        "id": "h_73T16nLJzD"
      },
      "source": [
        "for i in range(rows):\n",
        "    df.Tag_count[i] = len(str(df.Tags.iloc[i]).split(','))"
      ],
      "execution_count": null,
      "outputs": []
    },
    {
      "cell_type": "code",
      "metadata": {
        "id": "G83dXIaTLJv7"
      },
      "source": [
        "df.head(1)"
      ],
      "execution_count": null,
      "outputs": []
    },
    {
      "cell_type": "code",
      "metadata": {
        "id": "i9WEujEoLJez"
      },
      "source": [
        "# 정규화 진행\n",
        "\n",
        "df['Tag_count_norm'] = (df['Tag_count'] - df['Tag_count'].min())/df['Tag_count'].max()  ## "
      ],
      "execution_count": null,
      "outputs": []
    },
    {
      "cell_type": "markdown",
      "metadata": {
        "id": "70QQnzxAVMWI"
      },
      "source": [
        "## movie 데이터와 series 데이터 분리"
      ]
    },
    {
      "cell_type": "code",
      "metadata": {
        "id": "KuSasTQZVPo8"
      },
      "source": [
        "df_movie = df[df['Series or Movie']=='Movie']\n",
        "df_series = df[df[\"Series or Movie\"] == \"TV\"]"
      ],
      "execution_count": null,
      "outputs": []
    },
    {
      "cell_type": "code",
      "metadata": {
        "id": "jjEjcZB46avl"
      },
      "source": [
        "df_series.info()"
      ],
      "execution_count": null,
      "outputs": []
    },
    {
      "cell_type": "code",
      "metadata": {
        "id": "e80Z2nnp6KYP"
      },
      "source": [
        "df_movie.info()"
      ],
      "execution_count": null,
      "outputs": []
    },
    {
      "cell_type": "code",
      "metadata": {
        "id": "iwUX0X6iVipA"
      },
      "source": [
        ""
      ],
      "execution_count": null,
      "outputs": []
    },
    {
      "cell_type": "markdown",
      "metadata": {
        "id": "wUNrooFnLwDf"
      },
      "source": [
        "## movie 태그 수와 viewpoint\n",
        "- 데이터 정리 및 카이제곱 검정(독립성 검사)"
      ]
    },
    {
      "cell_type": "code",
      "metadata": {
        "id": "6Rh3FXyELv0Y"
      },
      "source": [
        "df_movie.head(1)"
      ],
      "execution_count": null,
      "outputs": []
    },
    {
      "cell_type": "code",
      "metadata": {
        "id": "IbWjO7p1ajOb"
      },
      "source": [
        "df_movie[['Title','Tags','VALUE','Tag_count']]"
      ],
      "execution_count": null,
      "outputs": []
    },
    {
      "cell_type": "code",
      "metadata": {
        "id": "IX52lZbrMFCK"
      },
      "source": [
        "df_count = df_movie[['VALUE','Tag_count']]"
      ],
      "execution_count": null,
      "outputs": []
    },
    {
      "cell_type": "code",
      "metadata": {
        "id": "rBwZLMvaMVpR"
      },
      "source": [
        "df_count.isnull().sum()"
      ],
      "execution_count": null,
      "outputs": []
    },
    {
      "cell_type": "code",
      "metadata": {
        "id": "n8sIVyC7Zrfl"
      },
      "source": [
        "df_count.head(10)"
      ],
      "execution_count": null,
      "outputs": []
    },
    {
      "cell_type": "code",
      "metadata": {
        "id": "Us5P7bMmaBzD"
      },
      "source": [
        "len(df_count['Tag_count'].unique())"
      ],
      "execution_count": null,
      "outputs": []
    },
    {
      "cell_type": "code",
      "metadata": {
        "id": "mgZaWNqDMVmd"
      },
      "source": [
        "df_count.describe()"
      ],
      "execution_count": null,
      "outputs": []
    },
    {
      "cell_type": "markdown",
      "metadata": {
        "id": "qamA8UbTfgwX"
      },
      "source": [
        "### 카이제곱검정 \n",
        "- 귀무가설 : 두 변수는 연관성이 없다, 차이가 없다. \n",
        "    - => tag_count의 증감은 value와의 상관성이 없다 \n",
        "- 대립가설 : 두 변수는 연관성이 있다, 차이가 있다\n",
        "    - => tag_count의 증감은 value와의 상관성이 있다"
      ]
    },
    {
      "cell_type": "code",
      "metadata": {
        "id": "KnJto9pSd6Ml"
      },
      "source": [
        "value = list(df_count.VALUE)\n",
        "tag_count = list(df_count.Tag_count)"
      ],
      "execution_count": null,
      "outputs": []
    },
    {
      "cell_type": "code",
      "metadata": {
        "id": "OFWDC1RneQBX"
      },
      "source": [
        "chis= stats.chisquare(value, tag_count)"
      ],
      "execution_count": null,
      "outputs": []
    },
    {
      "cell_type": "code",
      "metadata": {
        "id": "zHJSnEY9ZOwj"
      },
      "source": [
        "statistic,pvalue = chis\n",
        "print(\"static : {}, p-value : {}\".format(statistic,pvalue))\n",
        "if pvalue < 0.05:\n",
        "    print(\"신뢰수준하에서 유의한 관계. 대립가설 채택\")\n",
        "else:\n",
        "    print(\"신뢰수준하에서 무의미한 관계. 귀무가설 채택\")"
      ],
      "execution_count": null,
      "outputs": []
    },
    {
      "cell_type": "code",
      "metadata": {
        "id": "KnnElnzLMVkD"
      },
      "source": [
        "df_count.corr()"
      ],
      "execution_count": null,
      "outputs": []
    },
    {
      "cell_type": "code",
      "metadata": {
        "id": "fxtV8ScTiXvO"
      },
      "source": [
        "plt.figure(figsize=(10,5),dpi=350)\n",
        "plt.scatter(value, tag_count)\n",
        "plt.show()"
      ],
      "execution_count": null,
      "outputs": []
    },
    {
      "cell_type": "markdown",
      "metadata": {
        "id": "VYUs7S8Zpj6i"
      },
      "source": [
        " -  카이제곱검정 결과 두 변수들간의 유의수준 0.05에서 tag_count의 증감은 value와의 상관성이 있다고 할 수 있다.\n",
        " - 산점도와 상관계수 확인을 해봤을 때 약한 양의 상관성이 있다고 볼 수 있다."
      ]
    },
    {
      "cell_type": "code",
      "metadata": {
        "id": "k55bx7pCMVI8"
      },
      "source": [
        ""
      ],
      "execution_count": null,
      "outputs": []
    },
    {
      "cell_type": "markdown",
      "metadata": {
        "id": "V51jaOp4WURQ"
      },
      "source": [
        "## movie 태그들과 viewpoint\n",
        " - 귀무가설 : 태그들은 viewpoint에 영향이 없다\n",
        " - 대립가설 : 태그들은 viewpoint에 영향이 있다"
      ]
    },
    {
      "cell_type": "markdown",
      "metadata": {
        "id": "gEonnekSzszs"
      },
      "source": [
        "### 태그 분할\n",
        "- 태그들과 뷰포인트 부분"
      ]
    },
    {
      "cell_type": "code",
      "metadata": {
        "id": "ogJpQCTs9THI"
      },
      "source": [
        "df_tag = df_movie[['VALUE','Tags']]"
      ],
      "execution_count": null,
      "outputs": []
    },
    {
      "cell_type": "code",
      "metadata": {
        "id": "jvovRNsIdXJs"
      },
      "source": [
        "df_tag.head(1)"
      ],
      "execution_count": null,
      "outputs": []
    },
    {
      "cell_type": "code",
      "metadata": {
        "id": "XG1-OXDZmOtL"
      },
      "source": [
        "df_tag.info()"
      ],
      "execution_count": null,
      "outputs": []
    },
    {
      "cell_type": "code",
      "metadata": {
        "id": "WWOLBeOT9c1j"
      },
      "source": [
        "df_tag.sort_values('VALUE',ascending = False,inplace = True)"
      ],
      "execution_count": null,
      "outputs": []
    },
    {
      "cell_type": "code",
      "metadata": {
        "id": "pcXe2e3j9DRZ"
      },
      "source": [
        "# viewpoint 기준으로 상위 20개의 영화를 가져옴\n",
        "df_view_top20 = df_tag[:][:20]"
      ],
      "execution_count": null,
      "outputs": []
    },
    {
      "cell_type": "markdown",
      "metadata": {
        "id": "yAymxk-M9326"
      },
      "source": [
        "#### viewpoint 기준 top20 tag들을 single tag로 만듬"
      ]
    },
    {
      "cell_type": "code",
      "metadata": {
        "id": "jWAAFHepd1eZ"
      },
      "source": [
        "df_view_top20.set_index('VALUE',inplace=True)"
      ],
      "execution_count": null,
      "outputs": []
    },
    {
      "cell_type": "code",
      "metadata": {
        "id": "35TgOVR6eFgU"
      },
      "source": [
        "df_view_top20.head(10)"
      ],
      "execution_count": null,
      "outputs": []
    },
    {
      "cell_type": "code",
      "metadata": {
        "id": "Su-jVH0TcJva"
      },
      "source": [
        "result = df_view_top20['Tags'].str.split(',')  # 리스트화"
      ],
      "execution_count": null,
      "outputs": []
    },
    {
      "cell_type": "code",
      "metadata": {
        "id": "dqQT7zFHcdEp"
      },
      "source": [
        "result = result.apply(lambda x: pd.Series(x))"
      ],
      "execution_count": null,
      "outputs": []
    },
    {
      "cell_type": "code",
      "metadata": {
        "id": "m7o6T0xLcc8M"
      },
      "source": [
        "# result.stack()\n",
        "# result.stack().reset_index(level=1, drop=True) ## 인덱스 변화 확인"
      ],
      "execution_count": null,
      "outputs": []
    },
    {
      "cell_type": "code",
      "metadata": {
        "id": "WgQFT3y6ccl1"
      },
      "source": [
        "result = result.stack().reset_index(level=1, drop=True).to_frame('Tag_single')\n",
        "result"
      ],
      "execution_count": null,
      "outputs": []
    },
    {
      "cell_type": "code",
      "metadata": {
        "id": "YJQBsQOrdGaM"
      },
      "source": [
        "rs = result.reset_index()"
      ],
      "execution_count": null,
      "outputs": []
    },
    {
      "cell_type": "code",
      "metadata": {
        "id": "w6t-MXdwI_yU"
      },
      "source": [
        "rs.head(1)"
      ],
      "execution_count": null,
      "outputs": []
    },
    {
      "cell_type": "code",
      "metadata": {
        "id": "PHGBUlu1dGXR"
      },
      "source": [
        "rs.count"
      ],
      "execution_count": null,
      "outputs": []
    },
    {
      "cell_type": "code",
      "metadata": {
        "id": "CKZi-krLdGQX"
      },
      "source": [
        "len(rs['Tag_single'].unique())  # top20의 태그들 종류수"
      ],
      "execution_count": null,
      "outputs": []
    },
    {
      "cell_type": "markdown",
      "metadata": {
        "id": "y0odDPCIz1WQ"
      },
      "source": [
        "### 전체 태그별 카운트 수 확인 및 빈도 수를 워드클라우드로 시각화\n"
      ]
    },
    {
      "cell_type": "code",
      "metadata": {
        "id": "_0ovepHkdGNW"
      },
      "source": [
        "from collections import Counter"
      ],
      "execution_count": null,
      "outputs": []
    },
    {
      "cell_type": "code",
      "metadata": {
        "id": "BOtNPPpQ_-cr"
      },
      "source": [
        "# 전체 데이터셋에서 리스트 태그값을 싱글 태그로 변환\n",
        "df_view = df_tag.set_index('VALUE')\n",
        "result_All_tag = df_view['Tags'].str.split(',')\n",
        "result_All_tag = result_All_tag.apply(lambda x: pd.Series(x))\n",
        "result_All_tag = result_All_tag.stack().reset_index(level=1, drop=True).to_frame('Tag_single')\n",
        "result_All_tag = result_All_tag.reset_index()"
      ],
      "execution_count": null,
      "outputs": []
    },
    {
      "cell_type": "code",
      "metadata": {
        "id": "_nCul1SDdGFR"
      },
      "source": [
        "tag_counter = Counter(result_All_tag.Tag_single)"
      ],
      "execution_count": null,
      "outputs": []
    },
    {
      "cell_type": "code",
      "metadata": {
        "id": "hVoRSDmDLgAu"
      },
      "source": [
        "wordcloud = WordCloud(width = 1400, height = 1400, # 단어별 빈도수로 워드 클라우드 작성 \n",
        "                background_color ='lavenderblush',  \n",
        "                min_font_size = 5).generate_from_frequencies(tag_counter)"
      ],
      "execution_count": null,
      "outputs": []
    },
    {
      "cell_type": "code",
      "metadata": {
        "id": "GGbWtNfOLf3e"
      },
      "source": [
        "plt.figure(figsize = (8, 8), facecolor = None, dpi = 350) \n",
        "plt.imshow(wordcloud) \n",
        "plt.axis(\"off\") \n",
        "plt.tight_layout(pad = 0) \n",
        "plt.show()"
      ],
      "execution_count": null,
      "outputs": []
    },
    {
      "cell_type": "markdown",
      "metadata": {
        "id": "0OZBE1wN1H1v"
      },
      "source": [
        "## movie 태그들의 빈도수가 뷰포인트와 상관성이 있을까"
      ]
    },
    {
      "cell_type": "markdown",
      "metadata": {
        "id": "Wm9KHa7U-yKG"
      },
      "source": [
        "뷰포인트 상위 20개의 태그들의 빈도수와 뷰포인트 간의 상관성 시각화"
      ]
    },
    {
      "cell_type": "code",
      "metadata": {
        "id": "XEo5D1r4v_Nu"
      },
      "source": [
        "# 전체 데이터셋에서 태그 개수\n",
        "tag_counter = dict(tag_counter)"
      ],
      "execution_count": null,
      "outputs": []
    },
    {
      "cell_type": "code",
      "metadata": {
        "id": "-dNLnelzwrAK"
      },
      "source": [
        "dfdf = pd.DataFrame(pd.Series(tag_counter), columns=['counter']) "
      ],
      "execution_count": null,
      "outputs": []
    },
    {
      "cell_type": "code",
      "metadata": {
        "id": "DoiD0DiQ7LC0"
      },
      "source": [
        "dfdf.head(1)"
      ],
      "execution_count": null,
      "outputs": []
    },
    {
      "cell_type": "code",
      "metadata": {
        "id": "QKkl6bq0j1qN"
      },
      "source": [
        "# 카운트수를 기준으로 내림차순\n",
        "dfdf.sort_values(by = 'counter',ascending = False,inplace = True)"
      ],
      "execution_count": null,
      "outputs": []
    },
    {
      "cell_type": "code",
      "metadata": {
        "id": "pJmmkkGW7sUN"
      },
      "source": [
        "dfdf = dfdf.reset_index()"
      ],
      "execution_count": null,
      "outputs": []
    },
    {
      "cell_type": "code",
      "metadata": {
        "id": "d-5ZZvPI70o0"
      },
      "source": [
        "dfdf.columns = ['Tag','counter']"
      ],
      "execution_count": null,
      "outputs": []
    },
    {
      "cell_type": "code",
      "metadata": {
        "id": "_FfqCaC1kMTQ"
      },
      "source": [
        "# 전체 데이터셋에서 상위 20개의 태그 수\n",
        "dfdf_top20 = dfdf[:][:20]"
      ],
      "execution_count": null,
      "outputs": []
    },
    {
      "cell_type": "code",
      "metadata": {
        "id": "bc8fVG-jLKJk"
      },
      "source": [
        "dfdf_top20.head(1)"
      ],
      "execution_count": null,
      "outputs": []
    },
    {
      "cell_type": "code",
      "metadata": {
        "id": "jTJGkrNz1kH4"
      },
      "source": [
        "from matplotlib import gridspec\n",
        "\n",
        "# 전체 데이터 셋에서 top 20 태그들의 분포\n",
        "\n",
        "fig = plt.figure(figsize=(20, 6), dpi = 350)\n",
        "gs = gridspec.GridSpec(nrows=1, ncols=2,\n",
        "                       height_ratios=[6], \n",
        "                       width_ratios=[10, 5])\n",
        "\n",
        "ax = plt.subplot(gs[0])\n",
        "sns.barplot(dfdf_top20['Tag'], dfdf_top20['counter'], ax=ax, palette=\"RdGy\")\n",
        "ax.set_xticklabels(dfdf_top20['Tag'], rotation='90')\n",
        "ax.set_title('Top 20 Tag', fontsize=15, fontweight='bold')\n",
        "\n",
        "explode = [0 for _ in range(20)]\n",
        "explode[0] = 0.06\n",
        "\n",
        "ax2 = plt.subplot(gs[1])\n",
        "ax2.pie(dfdf_top20['counter'], labels=dfdf_top20['Tag'],\n",
        "        shadow=True, startangle=0, explode=explode,\n",
        "        colors=sns.color_palette(\"RdGy\", n_colors=20)\n",
        "       )\n",
        "ax2.axis('equal') \n",
        "\n",
        "plt.show()"
      ],
      "execution_count": null,
      "outputs": []
    },
    {
      "cell_type": "code",
      "metadata": {
        "id": "KGPR5gJmHL8k"
      },
      "source": [
        "# top20 뷰포인트의 태그값의 개수\n",
        "view_counter = Counter(rs.Tag_single)"
      ],
      "execution_count": null,
      "outputs": []
    },
    {
      "cell_type": "code",
      "metadata": {
        "id": "mujYeZ7c1j7o"
      },
      "source": [
        "view_dfdf = pd.DataFrame(pd.Series(view_counter), columns=['counter']) "
      ],
      "execution_count": null,
      "outputs": []
    },
    {
      "cell_type": "code",
      "metadata": {
        "id": "wiPMjmkvKAjO"
      },
      "source": [
        "view_dfdf.sort_values(by = 'counter',ascending = False,inplace = True)  # 내림차순 정렬\n",
        "view_dfdf = view_dfdf.reset_index()\n",
        "view_dfdf.columns = ['Tag','counter']"
      ],
      "execution_count": null,
      "outputs": []
    },
    {
      "cell_type": "code",
      "metadata": {
        "id": "GirMXx4ILIGg"
      },
      "source": [
        "view_dfdf['Tag'].count()"
      ],
      "execution_count": null,
      "outputs": []
    },
    {
      "cell_type": "code",
      "metadata": {
        "id": "yoahbEz3KdDQ"
      },
      "source": [
        "# 뷰포인트 기준 top 20 태그들의 분포\n",
        "\n",
        "fig = plt.figure(figsize=(20, 6), dpi =350)\n",
        "gs = gridspec.GridSpec(nrows=1, ncols=2,\n",
        "                       height_ratios=[6], \n",
        "                       width_ratios=[10, 5])\n",
        "\n",
        "ax = plt.subplot(gs[0])\n",
        "sns.barplot(view_dfdf['Tag'], view_dfdf['counter'], ax=ax, palette=\"RdGy\")\n",
        "ax.set_xticklabels(view_dfdf['Tag'], rotation='90')\n",
        "ax.set_title('Top 20 Viewpoint Tag', fontsize=15, fontweight='bold')\n",
        "\n",
        "explode = [0 for _ in range(view_dfdf['Tag'].count())]\n",
        "explode[0] = 0.06\n",
        "\n",
        "ax2 = plt.subplot(gs[1])\n",
        "ax2.pie(view_dfdf['counter'], labels=view_dfdf['Tag'],\n",
        "        shadow=True, startangle=0, explode=explode,\n",
        "        colors=sns.color_palette(\"RdGy\", n_colors=view_dfdf['Tag'].count())\n",
        "       )\n",
        "ax2.axis('equal') \n",
        "\n",
        "plt.show()"
      ],
      "execution_count": null,
      "outputs": []
    },
    {
      "cell_type": "markdown",
      "metadata": {
        "id": "mse3bNcxMLUx"
      },
      "source": [
        "**얼마나 비슷할까?**"
      ]
    },
    {
      "cell_type": "code",
      "metadata": {
        "id": "UYtWxVmAL-Qq"
      },
      "source": [
        "top_count = dfdf_top20['Tag'].count()"
      ],
      "execution_count": null,
      "outputs": []
    },
    {
      "cell_type": "code",
      "metadata": {
        "id": "VEZFmXMlMOYH"
      },
      "source": [
        "check = list(view_dfdf['Tag'].unique())"
      ],
      "execution_count": null,
      "outputs": []
    },
    {
      "cell_type": "code",
      "metadata": {
        "id": "FJJc7PBJMKsx"
      },
      "source": [
        "check_list = []"
      ],
      "execution_count": null,
      "outputs": []
    },
    {
      "cell_type": "code",
      "metadata": {
        "id": "6JuOCMHALy6Q"
      },
      "source": [
        "for i in range(top_count):\n",
        "    if dfdf_top20['Tag'][i] in check :\n",
        "        check_list.append(1)\n",
        "    else:\n",
        "        check_list.append(0)"
      ],
      "execution_count": null,
      "outputs": []
    },
    {
      "cell_type": "code",
      "metadata": {
        "id": "C6OzxVowLy3m"
      },
      "source": [
        "print(sum(check_list)/len(check_list))"
      ],
      "execution_count": null,
      "outputs": []
    },
    {
      "cell_type": "markdown",
      "metadata": {
        "id": "5rZLEYyeNbZq"
      },
      "source": [
        "## 결론\n",
        "- movie 유형에서 한 영화에 들어있는 태그 수와 viewpoint간의 상관성을 확인 하기위해 상관계수를 확인 했는 데 상관계수가 0.06정도로 매우 낮게 나왔다.\n",
        "- 상식적으로 한 영화에 들어있는 태그 종류 수가 많으면 검색결과에서 출현빈도가 높아지므로 한 영화에 들어있는 태그 종류 수가 많을 수록 viewpoint가 높을 것으로 예상되었지만, 상관성을 확인한 결과 아닌것으로 나왔다.\n",
        "\n",
        "- 또한 상위 태그들이 viewpoint가 높은 영화에 얼마나 많이 출현하는 지 확인 하기 위해서 전체 데이터셋에서 각 태그들이 나타나는 빈도를 확인하였고, 상위 20개의 태그들의 빈도를 시각화하여 어떤 태그들이 많이 나타나는지 확인하였다.\n",
        "- 또한, viewpoint기준 상위 20개의 영화의 태그들의 빈도 수를 확인하여 시각화하였고, viewpoint기준 상위 20개의 영화 태그들과 전체 데이터셋의 태그의 빈도 수를 비교해 본 결과 85%의 유사도를 확인 하였다.\n",
        "- 결과적으로 태그가 많을 수록 특정 태그가 있을 수록 상위 viewpoint 영화와 연관이 있을 것으로 보인다."
      ]
    },
    {
      "cell_type": "code",
      "metadata": {
        "id": "YgZmcczYLyvQ"
      },
      "source": [
        ""
      ],
      "execution_count": null,
      "outputs": []
    },
    {
      "cell_type": "markdown",
      "metadata": {
        "id": "oqoJwB1EhJsw"
      },
      "source": [
        "## TV 태그 분석"
      ]
    },
    {
      "cell_type": "code",
      "metadata": {
        "id": "7jQXzFJhhJfO"
      },
      "source": [
        "df_tv = df_series[['Title','Tags','VALUE','Tag_count']]"
      ],
      "execution_count": null,
      "outputs": []
    },
    {
      "cell_type": "code",
      "metadata": {
        "id": "0sGWHT6_hmmt"
      },
      "source": [
        "df_tv.head(1)"
      ],
      "execution_count": null,
      "outputs": []
    },
    {
      "cell_type": "code",
      "metadata": {
        "id": "FWKOf69jhvWh"
      },
      "source": [
        "df_tv_count = df_tv[['VALUE','Tag_count']]"
      ],
      "execution_count": null,
      "outputs": []
    },
    {
      "cell_type": "markdown",
      "metadata": {
        "id": "h4lbq0MNiES4"
      },
      "source": [
        "### 카이제곱 검정\n",
        "\n",
        "- 귀무가설 : 두 변수는 연관성이 없다, 차이가 없다.\n",
        "    - => tag_count의 증감은 value와의 상관성이 없다\n",
        "- 대립가설 : 두 변수는 연관성이 있다, 차이가 있다\n",
        "    - => tag_count의 증감은 value와의 상관성이 있다\n"
      ]
    },
    {
      "cell_type": "code",
      "metadata": {
        "id": "mJ_fP-ZHiDf3"
      },
      "source": [
        "value_tv = list(df_tv_count.VALUE)\n",
        "tag_count_tv = list(df_tv_count.Tag_count)"
      ],
      "execution_count": null,
      "outputs": []
    },
    {
      "cell_type": "code",
      "metadata": {
        "id": "Qi58opa4iW-f"
      },
      "source": [
        "chis= stats.chisquare(value_tv, tag_count_tv)\n",
        "statistic,pvalue = chis\n",
        "print(\"static : {}, p-value : {}\".format(statistic,pvalue))\n",
        "if pvalue < 0.05:\n",
        "    print(\"신뢰수준하에서 유의한 관계. 대립가설 채택\")\n",
        "else:\n",
        "    print(\"신뢰수준하에서 무의미한 관계. 귀무가설 채택\")"
      ],
      "execution_count": null,
      "outputs": []
    },
    {
      "cell_type": "code",
      "metadata": {
        "id": "tKrJlrw4iW7m"
      },
      "source": [
        "plt.scatter(value_tv, tag_count_tv)\n",
        "plt.show()"
      ],
      "execution_count": null,
      "outputs": []
    },
    {
      "cell_type": "code",
      "metadata": {
        "id": "eEEi9HOgiW3P"
      },
      "source": [
        "df_tv_count.corr()"
      ],
      "execution_count": null,
      "outputs": []
    },
    {
      "cell_type": "markdown",
      "metadata": {
        "id": "flj80GJci4EJ"
      },
      "source": [
        "- 카이제곱검정 결과 두 변수들간의 유의수준 0.05에서 tag_count의 증감은 value와의 상관성이 있다고 할 수 있다.\n",
        "- 산점도와 상관계수 확인을 해봤을 때 약한 양의 상관성이 있다고 볼 수 있다."
      ]
    },
    {
      "cell_type": "markdown",
      "metadata": {
        "id": "Yymu5YT-i-FU"
      },
      "source": [
        "## 태그 수와 뷰포인트간의 시각화"
      ]
    },
    {
      "cell_type": "code",
      "metadata": {
        "id": "V-0bwjJbi2x2"
      },
      "source": [
        "# viewpoint 기준으로 상위 20개의 영화의 태그들을 가져옴\n",
        "df_tag_tv = df_tv[['VALUE','Tags']]\n",
        "df_tag_tv.sort_values('VALUE',ascending = False,inplace = True)\n",
        "df_view_tv_top20 = df_tag_tv[:][:20]"
      ],
      "execution_count": null,
      "outputs": []
    },
    {
      "cell_type": "code",
      "metadata": {
        "id": "FyUXL2oFiW0H"
      },
      "source": [
        "# 각 viewpoint의 태그 수를 확인하기 위해 single tag로 변환\n",
        "df_view_tv_top20.set_index('VALUE',inplace=True)\n",
        "result_tv = df_view_tv_top20['Tags'].str.split(',')\n",
        "result_tv = result_tv.apply(lambda x: pd.Series(x))\n",
        "result_tv = result_tv.stack().reset_index(level=1, drop=True).to_frame('Tag_single')\n",
        "rs_tv = result_tv.reset_index()"
      ],
      "execution_count": null,
      "outputs": []
    },
    {
      "cell_type": "code",
      "metadata": {
        "id": "nNITa4ddkuFl"
      },
      "source": [
        "rs_tv.head(1)"
      ],
      "execution_count": null,
      "outputs": []
    },
    {
      "cell_type": "code",
      "metadata": {
        "id": "aQb_17_yiWpy"
      },
      "source": [
        "len(rs_tv['Tag_single'].unique())"
      ],
      "execution_count": null,
      "outputs": []
    },
    {
      "cell_type": "markdown",
      "metadata": {
        "id": "1SQBcjLNl_uy"
      },
      "source": [
        "뷰포인트 기준 상위 20개의 영화의 각 태그당 개수확인"
      ]
    },
    {
      "cell_type": "code",
      "metadata": {
        "id": "RTMf3IXGZU1u"
      },
      "source": [
        "from collections import Counter"
      ],
      "execution_count": null,
      "outputs": []
    },
    {
      "cell_type": "code",
      "metadata": {
        "id": "1f-k4J7alzE8"
      },
      "source": [
        "view_tv_counter = Counter(rs_tv.Tag_single)\n",
        "view_tv_dfdf = pd.DataFrame(pd.Series(view_tv_counter), columns=['counter']) \n",
        "view_tv_dfdf.sort_values(by = 'counter',ascending = False,inplace = True)  # 내림차순 정렬\n",
        "view_tv_dfdf = view_tv_dfdf.reset_index()\n",
        "view_tv_dfdf.columns = ['Tag','counter']"
      ],
      "execution_count": null,
      "outputs": []
    },
    {
      "cell_type": "code",
      "metadata": {
        "id": "F1UT_vvKmeeP"
      },
      "source": [
        "view_tv_dfdf['Tag'].count()"
      ],
      "execution_count": null,
      "outputs": []
    },
    {
      "cell_type": "code",
      "metadata": {
        "id": "lMesAxdIZkgz"
      },
      "source": [
        "from matplotlib import gridspec"
      ],
      "execution_count": null,
      "outputs": []
    },
    {
      "cell_type": "code",
      "metadata": {
        "id": "y3XPwwvZnhM7"
      },
      "source": [
        "# 뷰포인트 기준 top 20 태그들의 분포\n",
        "\n",
        "fig = plt.figure(figsize=(20, 6),dpi = 350)\n",
        "gs = gridspec.GridSpec(nrows=1, ncols=2,\n",
        "                       height_ratios=[6], \n",
        "                       width_ratios=[10, 5])\n",
        "\n",
        "ax = plt.subplot(gs[0])\n",
        "sns.barplot(view_tv_dfdf['Tag'], view_tv_dfdf['counter'], ax=ax, palette=\"RdGy\")\n",
        "ax.set_xticklabels(view_tv_dfdf['Tag'], rotation='90')\n",
        "ax.set_title('Top 20 Viewpoint Tag', fontsize=15, fontweight='bold')\n",
        "\n",
        "explode = [0 for _ in range(view_tv_dfdf['Tag'].count())]\n",
        "explode[0] = 0.06\n",
        "\n",
        "ax2 = plt.subplot(gs[1])\n",
        "ax2.pie(view_tv_dfdf['counter'], labels=view_tv_dfdf['Tag'],\n",
        "        shadow=True, startangle=0, explode=explode,\n",
        "        colors=sns.color_palette(\"RdGy\", n_colors=view_tv_dfdf['Tag'].count())\n",
        "       )\n",
        "ax2.axis('equal') \n",
        "\n",
        "plt.show()"
      ],
      "execution_count": null,
      "outputs": []
    },
    {
      "cell_type": "markdown",
      "metadata": {
        "id": "sB6iKdjpmhr9"
      },
      "source": [
        "태그 카운트 수 기준 상위 20개의 태그들"
      ]
    },
    {
      "cell_type": "code",
      "metadata": {
        "id": "hyeo4erjZt_q"
      },
      "source": [
        "df_tag_tv"
      ],
      "execution_count": null,
      "outputs": []
    },
    {
      "cell_type": "code",
      "metadata": {
        "id": "2yztOGwek1nt"
      },
      "source": [
        "# 전체 tv데이터셋에서 리스트 태그값을 싱글 태그로 변환\n",
        "df_tag_tv = df_tag_tv.set_index('VALUE')\n",
        "result_All_tag_tv = df_tag_tv['Tags'].str.split(',')\n",
        "result_All_tag_tv = result_All_tag_tv.apply(lambda x: pd.Series(x))\n",
        "result_All_tag_tv = result_All_tag_tv.stack().reset_index(level=1, drop=True).to_frame('Tag_single')\n",
        "result_All_tag_tv = result_All_tag_tv.reset_index()"
      ],
      "execution_count": null,
      "outputs": []
    },
    {
      "cell_type": "code",
      "metadata": {
        "id": "2QuM93mWk1TT"
      },
      "source": [
        "tag_counter_tv = Counter(result_All_tag_tv.Tag_single)"
      ],
      "execution_count": null,
      "outputs": []
    },
    {
      "cell_type": "code",
      "metadata": {
        "id": "FXyXa9lJk1Qf"
      },
      "source": [
        "wordcloud = WordCloud(width = 1400, height = 1400, # 단어별 빈도수로 워드 클라우드 작성 \n",
        "                background_color ='lavenderblush',  \n",
        "                min_font_size = 5).generate_from_frequencies(tag_counter_tv)\n",
        "                \n",
        "plt.figure(figsize = (8, 8), facecolor = None, dpi = 350)\n",
        "plt.imshow(wordcloud)\n",
        "plt.axis(\"off\")\n",
        "plt.tight_layout(pad = 0)\n",
        "plt.show()"
      ],
      "execution_count": null,
      "outputs": []
    },
    {
      "cell_type": "code",
      "metadata": {
        "id": "r_LYi1kTk1NJ"
      },
      "source": [
        "tag_dfdf_1 = pd.DataFrame(pd.Series(tag_counter_tv), columns=['counter']).reset_index()"
      ],
      "execution_count": null,
      "outputs": []
    },
    {
      "cell_type": "code",
      "metadata": {
        "id": "yL_iL6L-k1Iz"
      },
      "source": [
        "tag_dfdf_1.columns = ['Tag','counter']\n",
        "tag_dfdf_1.sort_values(by = 'counter',ascending = False,inplace = True)\n",
        "tag_dfdf_top20 = tag_dfdf_1[:][:20]"
      ],
      "execution_count": null,
      "outputs": []
    },
    {
      "cell_type": "code",
      "metadata": {
        "id": "RLTtRpy4YZlK"
      },
      "source": [
        "tag_dfdf_top20"
      ],
      "execution_count": null,
      "outputs": []
    },
    {
      "cell_type": "code",
      "metadata": {
        "id": "rgMqvPMvk1D9"
      },
      "source": [
        "# 전체 데이터 셋에서 top 20 태그들의 분포\n",
        "\n",
        "fig = plt.figure(figsize=(20, 6), dpi =350)\n",
        "gs = gridspec.GridSpec(nrows=1, ncols=2,\n",
        "                       height_ratios=[6], \n",
        "                       width_ratios=[10, 5])\n",
        "\n",
        "ax = plt.subplot(gs[0])\n",
        "sns.barplot(tag_dfdf_top20['Tag'], tag_dfdf_top20['counter'], ax=ax, palette=\"RdGy\")\n",
        "ax.set_xticklabels(tag_dfdf_top20['Tag'], rotation='90')\n",
        "ax.set_title('Top 20 Tag', fontsize=15, fontweight='bold')\n",
        "\n",
        "explode = [0 for _ in range(20)]\n",
        "explode[0] = 0.06\n",
        "\n",
        "ax2 = plt.subplot(gs[1])\n",
        "ax2.pie(tag_dfdf_top20['counter'], labels=tag_dfdf_top20['Tag'],\n",
        "        shadow=True, startangle=0, explode=explode,\n",
        "        colors=sns.color_palette(\"RdGy\", n_colors=20)\n",
        "       )\n",
        "ax2.axis('equal') \n",
        "\n",
        "plt.show()"
      ],
      "execution_count": null,
      "outputs": []
    },
    {
      "cell_type": "markdown",
      "metadata": {
        "id": "ElNGgYg9pm7-"
      },
      "source": [
        "**얼마나 비슷할까?**"
      ]
    },
    {
      "cell_type": "code",
      "metadata": {
        "id": "8fksOaDSpphE"
      },
      "source": [
        "top_count = tag_dfdf_top20['Tag'].count()\n",
        "check = list(view_tv_dfdf['Tag'].unique())\n",
        "check_list = []"
      ],
      "execution_count": null,
      "outputs": []
    },
    {
      "cell_type": "code",
      "metadata": {
        "id": "H2lNUzFqaiCf"
      },
      "source": [
        "tag_dfdf_top20['Tag'].iloc[0]"
      ],
      "execution_count": null,
      "outputs": []
    },
    {
      "cell_type": "code",
      "metadata": {
        "id": "E8L2WLUVppdH"
      },
      "source": [
        "for i in range(top_count):\n",
        "    if tag_dfdf_top20['Tag'].iloc[i] in check :\n",
        "        check_list.append(1)\n",
        "    else:\n",
        "        check_list.append(0)"
      ],
      "execution_count": null,
      "outputs": []
    },
    {
      "cell_type": "code",
      "metadata": {
        "id": "GrYcdgAuppZu"
      },
      "source": [
        "print(sum(check_list)/len(check_list))"
      ],
      "execution_count": null,
      "outputs": []
    },
    {
      "cell_type": "markdown",
      "metadata": {
        "id": "TV4ye_mWqWhJ"
      },
      "source": [
        "## 결론\n",
        "- tv 유형에서 한 show에 들어있는 태그 수와 viewpoint간의 상관성을 확인 하기 위해 상관 계수를 확인했는 데 상관계수가 0.04정도로 매우 낮게 나왔다.\n",
        "\n",
        "- 상식적으로 한 영화에 들어있는 태그 종류 수가 많으면 검색결과에서 출현빈도가 높아지므로 한 영화에 들어있는 태그 종류 수가 많을 수록 viewpoint가 높을 것으로 예상되었지만, 상관성을 확인한 결과 아닌것으로 나왔다.\n",
        "\n",
        "- 또한 상위 태그들이 viewpoint가 높은 영화에 얼마나 많이 출현하는 지 확인 하기 위해서 전체 데이터셋에서 각 태그들이 나타나는 빈도를 확인하였고, 상위 20개의 태그들의 빈도를 시각화하여 어떤 태그들이 많이 나타나는지 확인하였다.\n",
        "\n",
        "- viewpoint기준 상위 20개의 tv_show의 태그들의 빈도 수를 확인하여 시각화하였고, viewpoint기준 상위 20개의 tv_show 태그들과 전체 tv_show 데이터셋의 태그의 빈도 수를 비교해 본 결과 85%의 유사도를 확인 하였다.\n",
        "\n",
        "- 결과적으로 태그가 많을 수록 상위 viewpoint tv_show와 연관이 있을 것으로 보이고, 특정 태그가 상위 viewpoint tv_show에 연관성이 있다고 보인다."
      ]
    },
    {
      "cell_type": "code",
      "metadata": {
        "id": "4tCxLitVppW7"
      },
      "source": [
        ""
      ],
      "execution_count": null,
      "outputs": []
    },
    {
      "cell_type": "code",
      "metadata": {
        "id": "LOXp6elWWh9A"
      },
      "source": [
        ""
      ],
      "execution_count": null,
      "outputs": []
    }
  ]
}