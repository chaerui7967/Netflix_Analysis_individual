{
  "nbformat": 4,
  "nbformat_minor": 0,
  "metadata": {
    "colab": {
      "name": "Untitled12.ipynb",
      "private_outputs": true,
      "provenance": []
    },
    "kernelspec": {
      "name": "python3",
      "display_name": "Python 3"
    },
    "language_info": {
      "name": "python"
    }
  },
  "cells": [
    {
      "cell_type": "markdown",
      "metadata": {
        "id": "NXajqH9bI7Tz"
      },
      "source": [
        "# Netflix runtime 분석"
      ]
    },
    {
      "cell_type": "code",
      "metadata": {
        "id": "02sCQRO1JE59"
      },
      "source": [
        "import pandas as pd\n",
        "import numpy as np\n",
        "import warnings\n",
        "warnings.filterwarnings(\"ignore\")\n",
        "\n",
        "# 시각화\n",
        "import plotly.graph_objects as go\n",
        "import matplotlib.pyplot as plt\n",
        "import seaborn as sns"
      ],
      "execution_count": null,
      "outputs": []
    },
    {
      "cell_type": "code",
      "metadata": {
        "id": "yo_NJQyqIlcQ"
      },
      "source": [
        "netflix = pd.read_csv('./use_df.csv')"
      ],
      "execution_count": null,
      "outputs": []
    },
    {
      "cell_type": "code",
      "metadata": {
        "id": "WAfPMG53JPBI"
      },
      "source": [
        "net_run = netflix[['Title', 'Series or Movie', 'Runtime', 'VALUE']]"
      ],
      "execution_count": null,
      "outputs": []
    },
    {
      "cell_type": "code",
      "metadata": {
        "id": "EBWiTVJ_JRcK"
      },
      "source": [
        "movie_run = net_run[net_run['Series or Movie'] == 'Movie']\n",
        "Tv_run = net_run[net_run['Series or Movie'] == 'TV']"
      ],
      "execution_count": null,
      "outputs": []
    },
    {
      "cell_type": "code",
      "metadata": {
        "id": "CTh8Uzc3MLCd"
      },
      "source": [
        "colors_10 = ['DarkRed', 'FireBrick','Red', 'Crimson',\n",
        "             'IndianRed', 'slategray', 'gray', 'dimgrey',\n",
        "             'DarkSlateGrey', 'black']"
      ],
      "execution_count": null,
      "outputs": []
    },
    {
      "cell_type": "markdown",
      "metadata": {
        "id": "tyJTgiJhLcEy"
      },
      "source": [
        "## Tv runtime 분석"
      ]
    },
    {
      "cell_type": "markdown",
      "metadata": {
        "id": "DEP6Ai3DM83c"
      },
      "source": [
        "### 전체 tv show 런타임의 분포는 어떻게 될까"
      ]
    },
    {
      "cell_type": "code",
      "metadata": {
        "id": "6k3w_TryLa4Q"
      },
      "source": [
        "Tv_run.isnull().sum()"
      ],
      "execution_count": null,
      "outputs": []
    },
    {
      "cell_type": "code",
      "metadata": {
        "id": "KrnKPXr_LiXq"
      },
      "source": [
        "Tv_run['Runtime'].value_counts()"
      ],
      "execution_count": null,
      "outputs": []
    },
    {
      "cell_type": "code",
      "metadata": {
        "id": "zEih3jK2LpPO"
      },
      "source": [
        "count_tv = Tv_run['Runtime'].value_counts()\n",
        "fig = go.Figure(data=[go.Bar(\n",
        "    x = count_tv.index,\n",
        "    y = count_tv,\n",
        "    text = count_tv,\n",
        "    textposition='auto',\n",
        "    marker_color=colors_10 \n",
        ")])\n",
        "fig.update_traces(texttemplate='%{text:.2s}', textposition='outside')\n",
        "fig.update_layout(title_text= 'What is the average duration of a Tv show on Netflix?',\n",
        "                  yaxis=dict(\n",
        "                  title='Quantity',\n",
        "                  titlefont_size=14),\n",
        "                  xaxis=dict(\n",
        "                  title='Duration',\n",
        "                  titlefont_size=14))"
      ],
      "execution_count": null,
      "outputs": []
    },
    {
      "cell_type": "markdown",
      "metadata": {
        "id": "M5g1tjheNLSW"
      },
      "source": [
        "### viewpoint 기준 상위 20개의 런타임 분포는 ?"
      ]
    },
    {
      "cell_type": "code",
      "metadata": {
        "id": "PgNmWfACNEeK"
      },
      "source": [
        "Tv_run.sort_values('VALUE',ascending = False,inplace = True) # 뷰포인트 기준으로 내림차순 정렬"
      ],
      "execution_count": null,
      "outputs": []
    },
    {
      "cell_type": "code",
      "metadata": {
        "id": "ivduZJNvNqNf"
      },
      "source": [
        "Tv_run_top20 = Tv_run[:][:20]"
      ],
      "execution_count": null,
      "outputs": []
    },
    {
      "cell_type": "code",
      "metadata": {
        "id": "1YAjU9fzNsdG"
      },
      "source": [
        "count_tv_top20 = Tv_run_top20['Runtime'].value_counts()\n",
        "fig = go.Figure(data=[go.Bar(\n",
        "    x = count_tv_top20.index,\n",
        "    y = count_tv_top20,\n",
        "    text = count_tv_top20,\n",
        "    textposition='auto',\n",
        "    marker_color=colors_10 \n",
        ")])\n",
        "fig.update_traces(texttemplate='%{text:.2s}', textposition='outside')\n",
        "fig.update_layout(title_text= 'What is the average duration of a Tv show on Netflix?',\n",
        "                  yaxis=dict(\n",
        "                  title='Quantity',\n",
        "                  titlefont_size=14),\n",
        "                  xaxis=dict(\n",
        "                  title='Duration',\n",
        "                  titlefont_size=14))"
      ],
      "execution_count": null,
      "outputs": []
    },
    {
      "cell_type": "markdown",
      "metadata": {
        "id": "fE1PXfPTOG7M"
      },
      "source": [
        "#### 결론\n",
        "- **시각화 결과 viewpoint 기준 상위 20개의 tvshow의 runtime들의 분포와 전체 tvshow runtime의 분포에서 runtime이 30분 미만인 tvshow가 대부분이였다.**\n",
        "-  결과적으로 30분 미만의 runtime을 가지는 tvshow가 viewpoint가 높은 경향이 있다."
      ]
    },
    {
      "cell_type": "code",
      "metadata": {
        "id": "aVw4CAFvOhto"
      },
      "source": [
        ""
      ],
      "execution_count": null,
      "outputs": []
    },
    {
      "cell_type": "markdown",
      "metadata": {
        "id": "j1Gz-D86Olb3"
      },
      "source": [
        "## Movie runtime 분석"
      ]
    },
    {
      "cell_type": "markdown",
      "metadata": {
        "id": "8h2Hs_WoO9Uk"
      },
      "source": [
        "### movie 데이터의 전체 runtime의 분포는 어떻게 될까?"
      ]
    },
    {
      "cell_type": "code",
      "metadata": {
        "id": "ae4vIPq3O8yM"
      },
      "source": [
        "count_movie = movie_run['Runtime'].value_counts()\n",
        "fig = go.Figure(data=[go.Bar(\n",
        "    x = count_movie.index,\n",
        "    y = count_movie,\n",
        "    text = count_movie,\n",
        "    textposition='auto',\n",
        "    marker_color=colors_10 \n",
        ")])\n",
        "fig.update_traces(texttemplate='%{text:.2s}', textposition='outside')\n",
        "fig.update_layout(title_text= 'What is the average duration of a Tv show on Netflix?',\n",
        "                  yaxis=dict(\n",
        "                  title='Quantity',\n",
        "                  titlefont_size=14),\n",
        "                  xaxis=dict(\n",
        "                  title='Duration',\n",
        "                  titlefont_size=14))"
      ],
      "execution_count": null,
      "outputs": []
    },
    {
      "cell_type": "markdown",
      "metadata": {
        "id": "cYtG4bMpPh-x"
      },
      "source": [
        "### viewpoint 기준 상위 20개의 영화의 runtime 분포는?"
      ]
    },
    {
      "cell_type": "code",
      "metadata": {
        "id": "CArhp_4SO3QP"
      },
      "source": [
        "movie_run.sort_values('VALUE',ascending = False,inplace = True)\n",
        "movie_run_top20 = movie_run[:][:20]\n",
        "\n",
        "count_movie_top20 = movie_run_top20['Runtime'].value_counts()\n",
        "fig = go.Figure(data=[go.Bar(\n",
        "    x = count_movie_top20.index,\n",
        "    y = count_movie_top20,\n",
        "    text = count_movie_top20,\n",
        "    textposition='auto',\n",
        "    marker_color=colors_10 \n",
        ")])\n",
        "fig.update_traces(texttemplate='%{text:.2s}', textposition='outside')\n",
        "fig.update_layout(title_text= 'What is the average duration of a Tv show on Netflix?',\n",
        "                  yaxis=dict(\n",
        "                  title='Quantity',\n",
        "                  titlefont_size=14),\n",
        "                  xaxis=dict(\n",
        "                  title='Duration',\n",
        "                  titlefont_size=14))"
      ],
      "execution_count": null,
      "outputs": []
    },
    {
      "cell_type": "markdown",
      "metadata": {
        "id": "i4Ys7Lh_QXjc"
      },
      "source": [
        "#### 결론\n",
        "- **시각화 결과 viewpoint 기준 상위 20개의 movie의 runtime의 분포와 전체 movie runtime의 분포에서 runtime이 1시간이상 2시간 미만인 영화가 대부분이였다.**\n",
        "- 결과적으로 1시간이상 2시간 미만의 runtime을 가지는 영화가 viewpoint가 높은 경향이 있다고 할 수 있다.\n"
      ]
    },
    {
      "cell_type": "code",
      "metadata": {
        "id": "rxG29i5MPmzG"
      },
      "source": [
        ""
      ],
      "execution_count": null,
      "outputs": []
    }
  ]
}