{
  "nbformat": 4,
  "nbformat_minor": 0,
  "metadata": {
    "colab": {
      "name": "Untitled.ipynb",
      "provenance": []
    },
    "language_info": {
      "name": "python"
    },
    "kernelspec": {
      "name": "python3",
      "display_name": "Python 3"
    }
  },
  "cells": [
    {
      "cell_type": "code",
      "metadata": {
        "id": "2x5I66HmxSox"
      },
      "source": [
        "# api_source = https://developers.themoviedb.org/3/getting-started/introduction"
      ],
      "execution_count": null,
      "outputs": []
    },
    {
      "cell_type": "code",
      "metadata": {
        "id": "wuXIn0iaxMqv"
      },
      "source": [
        "api = '?api_key=68b6cf96a3586cb114c084cf332dd835'"
      ],
      "execution_count": 1,
      "outputs": []
    },
    {
      "cell_type": "code",
      "metadata": {
        "id": "snJYpm8PxZnS"
      },
      "source": [
        "url = 'https://api.themoviedb.org/3/movie/'"
      ],
      "execution_count": 2,
      "outputs": []
    },
    {
      "cell_type": "code",
      "metadata": {
        "id": "yBXo5hrYzbFh"
      },
      "source": [
        "import urllib.request"
      ],
      "execution_count": 5,
      "outputs": []
    },
    {
      "cell_type": "code",
      "metadata": {
        "id": "YqaUvB3tzf8p"
      },
      "source": [
        "a= url + '100' + api\n",
        "b= urllib.request.urlopen(a)\n",
        "json_str = b.read().decode(\"utf-8\")"
      ],
      "execution_count": 17,
      "outputs": []
    },
    {
      "cell_type": "code",
      "metadata": {
        "colab": {
          "base_uri": "https://localhost:8080/",
          "height": 248
        },
        "id": "ud-pvMFkB4QM",
        "outputId": "d1f6e730-84f0-4f4b-fc49-783c913ef7da"
      },
      "source": [
        "json_str"
      ],
      "execution_count": 36,
      "outputs": [
        {
          "output_type": "execute_result",
          "data": {
            "application/vnd.google.colaboratory.intrinsic+json": {
              "type": "string"
            },
            "text/plain": [
              "'{\"adult\":false,\"backdrop_path\":\"/2eBL3wXDZqemW8SJ1RNxqtx6bgJ.jpg\",\"belongs_to_collection\":{\"id\":131,\"name\":\"Three Colors Collection\",\"poster_path\":\"/ph9rRSTG4xL8nubxNrK00VUMn5l.jpg\",\"backdrop_path\":\"/AeHExfHIl70SZCea907KfEoSkfJ.jpg\"},\"budget\":0,\"genres\":[{\"id\":35,\"name\":\"Comedy\"},{\"id\":18,\"name\":\"Drama\"},{\"id\":9648,\"name\":\"Mystery\"}],\"homepage\":\"\",\"id\":109,\"imdb_id\":\"tt0111507\",\"original_language\":\"fr\",\"original_title\":\"Trois couleurs : Blanc\",\"overview\":\"Polish immigrant Karol Karol finds himself out of a marriage, a job and a country when his French wife, Dominique, divorces him after six months due to his impotence. Forced to leave France after losing the business they jointly owned, Karol enlists fellow Polish expatriate Mikolah to smuggle him back to their homeland.\",\"popularity\":10.184,\"poster_path\":\"/4YGo9kIpaAgXns1xDjoCU0nKm4O.jpg\",\"production_companies\":[{\"id\":183,\"logo_path\":null,\"name\":\"Le Studio Canal+\",\"origin_country\":\"FR\"},{\"id\":591,\"logo_path\":\"/q5I5RDwMEiqoNmfaJgd2LraEOJY.png\",\"name\":\"France 3 Cinéma\",\"origin_country\":\"FR\"},{\"id\":850,\"logo_path\":\"/aF7qajGJGtMpdrtvssM9g90YanX.png\",\"name\":\"Eurimages\",\"origin_country\":\"FR\"}],\"production_countries\":[{\"iso_3166_1\":\"FR\",\"name\":\"France\"},{\"iso_3166_1\":\"PL\",\"name\":\"Poland\"}],\"release_date\":\"1994-01-26\",\"revenue\":0,\"runtime\":92,\"spoken_languages\":[{\"english_name\":\"Polish\",\"iso_639_1\":\"pl\",\"name\":\"Polski\"},{\"english_name\":\"French\",\"iso_639_1\":\"fr\",\"name\":\"Français\"},{\"english_name\":\"Hungarian\",\"iso_639_1\":\"hu\",\"name\":\"Magyar\"}],\"status\":\"Released\",\"tagline\":\"\",\"title\":\"Three Colors: White\",\"video\":false,\"vote_average\":7.5,\"vote_count\":740}'"
            ]
          },
          "metadata": {
            "tags": []
          },
          "execution_count": 36
        }
      ]
    },
    {
      "cell_type": "code",
      "metadata": {
        "id": "9DB44L7q2f4z"
      },
      "source": [
        "import json\n",
        "json_object = json.loads(json_str)"
      ],
      "execution_count": 19,
      "outputs": []
    },
    {
      "cell_type": "code",
      "metadata": {
        "colab": {
          "base_uri": "https://localhost:8080/",
          "height": 35
        },
        "id": "SCRZe4W03Qcd",
        "outputId": "3a449a2b-11db-4f2f-ee9f-871175b5f08a"
      },
      "source": [
        "json_object['adult']\n",
        "json_object['genres']\n",
        "json_object['original_title']\n"
      ],
      "execution_count": 59,
      "outputs": [
        {
          "output_type": "execute_result",
          "data": {
            "application/vnd.google.colaboratory.intrinsic+json": {
              "type": "string"
            },
            "text/plain": [
              "'Trois couleurs : Blanc'"
            ]
          },
          "metadata": {
            "tags": []
          },
          "execution_count": 59
        }
      ]
    },
    {
      "cell_type": "code",
      "metadata": {
        "id": "Eli7Mrxw2znH"
      },
      "source": [
        "from pandas.io.json import json_normalize"
      ],
      "execution_count": null,
      "outputs": []
    },
    {
      "cell_type": "code",
      "metadata": {
        "id": "JZT3elDjy0h3"
      },
      "source": [
        "movie_list = {}"
      ],
      "execution_count": 61,
      "outputs": []
    },
    {
      "cell_type": "code",
      "metadata": {
        "id": "aI25VimVywEQ"
      },
      "source": [
        "for i in range(100,110):\n",
        "    a= url + str(i) + api\n",
        "    b= urllib.request.urlopen(a)\n",
        "    json_str = b.read().decode(\"utf-8\")\n",
        "    json_object = json.loads(json_str)\n",
        "    adult = json_object['adult']\n",
        "    genres = json_object['genres']\n",
        "    original = json_object['original_title']\n",
        "    movie_list['adult'] = adult\n",
        "    movie_list['genres'] = genres\n",
        "    movie_list['original_title'] = original\n",
        "    "
      ],
      "execution_count": 62,
      "outputs": []
    },
    {
      "cell_type": "code",
      "metadata": {
        "colab": {
          "base_uri": "https://localhost:8080/"
        },
        "id": "YhJMxcAIBo5D",
        "outputId": "9ece760d-08c3-4694-eb48-39449c41c9da"
      },
      "source": [
        "movie_list"
      ],
      "execution_count": 63,
      "outputs": [
        {
          "output_type": "execute_result",
          "data": {
            "text/plain": [
              "{'adult': False,\n",
              " 'genres': [{'id': 35, 'name': 'Comedy'},\n",
              "  {'id': 18, 'name': 'Drama'},\n",
              "  {'id': 9648, 'name': 'Mystery'}],\n",
              " 'original_title': 'Trois couleurs : Blanc'}"
            ]
          },
          "metadata": {
            "tags": []
          },
          "execution_count": 63
        }
      ]
    },
    {
      "cell_type": "code",
      "metadata": {
        "id": "ijqrA0_Py9HM"
      },
      "source": [
        "import pandas as pd\n",
        "\n",
        "df = pd.DataFrame(movie_list)"
      ],
      "execution_count": 64,
      "outputs": []
    },
    {
      "cell_type": "code",
      "metadata": {
        "colab": {
          "base_uri": "https://localhost:8080/",
          "height": 142
        },
        "id": "7b2C6rZbzwKB",
        "outputId": "0fcbf571-c710-4dff-94e8-d0971e033df2"
      },
      "source": [
        "df"
      ],
      "execution_count": 66,
      "outputs": [
        {
          "output_type": "execute_result",
          "data": {
            "text/html": [
              "<div>\n",
              "<style scoped>\n",
              "    .dataframe tbody tr th:only-of-type {\n",
              "        vertical-align: middle;\n",
              "    }\n",
              "\n",
              "    .dataframe tbody tr th {\n",
              "        vertical-align: top;\n",
              "    }\n",
              "\n",
              "    .dataframe thead th {\n",
              "        text-align: right;\n",
              "    }\n",
              "</style>\n",
              "<table border=\"1\" class=\"dataframe\">\n",
              "  <thead>\n",
              "    <tr style=\"text-align: right;\">\n",
              "      <th></th>\n",
              "      <th>adult</th>\n",
              "      <th>genres</th>\n",
              "      <th>original_title</th>\n",
              "    </tr>\n",
              "  </thead>\n",
              "  <tbody>\n",
              "    <tr>\n",
              "      <th>0</th>\n",
              "      <td>False</td>\n",
              "      <td>{'id': 35, 'name': 'Comedy'}</td>\n",
              "      <td>Trois couleurs : Blanc</td>\n",
              "    </tr>\n",
              "    <tr>\n",
              "      <th>1</th>\n",
              "      <td>False</td>\n",
              "      <td>{'id': 18, 'name': 'Drama'}</td>\n",
              "      <td>Trois couleurs : Blanc</td>\n",
              "    </tr>\n",
              "    <tr>\n",
              "      <th>2</th>\n",
              "      <td>False</td>\n",
              "      <td>{'id': 9648, 'name': 'Mystery'}</td>\n",
              "      <td>Trois couleurs : Blanc</td>\n",
              "    </tr>\n",
              "  </tbody>\n",
              "</table>\n",
              "</div>"
            ],
            "text/plain": [
              "   adult                           genres          original_title\n",
              "0  False     {'id': 35, 'name': 'Comedy'}  Trois couleurs : Blanc\n",
              "1  False      {'id': 18, 'name': 'Drama'}  Trois couleurs : Blanc\n",
              "2  False  {'id': 9648, 'name': 'Mystery'}  Trois couleurs : Blanc"
            ]
          },
          "metadata": {
            "tags": []
          },
          "execution_count": 66
        }
      ]
    },
    {
      "cell_type": "code",
      "metadata": {
        "id": "VV-5ibXo2R8Q"
      },
      "source": [
        ""
      ],
      "execution_count": null,
      "outputs": []
    }
  ]
}