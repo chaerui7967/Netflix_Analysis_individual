{
  "nbformat": 4,
  "nbformat_minor": 0,
  "metadata": {
    "colab": {
      "name": "Untitled1.ipynb",
      "private_outputs": true,
      "provenance": [],
      "collapsed_sections": []
    },
    "kernelspec": {
      "name": "python3",
      "display_name": "Python 3"
    },
    "language_info": {
      "name": "python"
    },
    "accelerator": "GPU"
  },
  "cells": [
    {
      "cell_type": "markdown",
      "metadata": {
        "id": "SnaRXrik108Y"
      },
      "source": [
        "## netfilx 데이터 전처리"
      ]
    },
    {
      "cell_type": "code",
      "metadata": {
        "id": "Wq0fpJ5NjhOG"
      },
      "source": [
        "import numpy as np\n",
        "import pandas as pd\n",
        "import seaborn as sns\n",
        "import warnings\n",
        "warnings.filterwarnings(\"ignore\")\n",
        "\n",
        "from numpy import isnan\n",
        "from sklearn.impute import SimpleImputer"
      ],
      "execution_count": null,
      "outputs": []
    },
    {
      "cell_type": "code",
      "metadata": {
        "id": "tRV6vBREk41W"
      },
      "source": [
        "x_list = pd.read_csv('netflix_list.csv')\n",
        "x_list.head(1)"
      ],
      "execution_count": null,
      "outputs": []
    },
    {
      "cell_type": "code",
      "metadata": {
        "id": "VaIIJLyslLGO"
      },
      "source": [
        "x_list.drop(['title','imdb_id','runtime','certificate','episodes','orign_country', 'language', 'plot','summary','genres','isAdult','cast','image_url'], axis=1, inplace=True)\n",
        "x_list.head(1)"
      ],
      "execution_count": null,
      "outputs": []
    },
    {
      "cell_type": "markdown",
      "metadata": {
        "id": "UjTvbIlB2nFR"
      },
      "source": [
        "### null 값처리"
      ]
    },
    {
      "cell_type": "code",
      "metadata": {
        "id": "G6Ttn1mSxi3v"
      },
      "source": [
        "x_list.isnull().sum()"
      ],
      "execution_count": null,
      "outputs": []
    },
    {
      "cell_type": "code",
      "metadata": {
        "id": "hd4Jw__N0AUj"
      },
      "source": [
        "x_start = x_list.iloc[:,1:3]"
      ],
      "execution_count": null,
      "outputs": []
    },
    {
      "cell_type": "code",
      "metadata": {
        "id": "lohjVmIK0tIv"
      },
      "source": [
        "x_start.head(1)"
      ],
      "execution_count": null,
      "outputs": []
    },
    {
      "cell_type": "code",
      "metadata": {
        "id": "zW4_PYAuytwQ"
      },
      "source": [
        "imputer = SimpleImputer(strategy = 'constant')  # 0으로 대체\n",
        "imputer.fit(x_start)\n",
        "x_start = pd.DataFrame(imputer.transform(x_start))"
      ],
      "execution_count": null,
      "outputs": []
    },
    {
      "cell_type": "code",
      "metadata": {
        "id": "7dfbwnOw1Vly"
      },
      "source": [
        "x_start.columns = ['startYear','endYear']"
      ],
      "execution_count": null,
      "outputs": []
    },
    {
      "cell_type": "code",
      "metadata": {
        "id": "Ug4MvoeF0-hx"
      },
      "source": [
        "x_list.startYear = x_start.startYear\n",
        "x_list.endYear = x_start.endYear"
      ],
      "execution_count": null,
      "outputs": []
    },
    {
      "cell_type": "code",
      "metadata": {
        "id": "jSQiinGD2yd_"
      },
      "source": [
        "x_list.isnull().sum()"
      ],
      "execution_count": null,
      "outputs": []
    },
    {
      "cell_type": "code",
      "metadata": {
        "id": "8IgKuAErmBHK"
      },
      "source": [
        "x_list.info()"
      ],
      "execution_count": null,
      "outputs": []
    },
    {
      "cell_type": "code",
      "metadata": {
        "id": "2UFEcDYC4KM7"
      },
      "source": [
        ""
      ],
      "execution_count": null,
      "outputs": []
    },
    {
      "cell_type": "markdown",
      "metadata": {
        "id": "I2rI2VVH4Mbb"
      },
      "source": [
        "### 인코딩"
      ]
    },
    {
      "cell_type": "code",
      "metadata": {
        "id": "Sm9mdyvMn18b"
      },
      "source": [
        "x_list.type.unique()"
      ],
      "execution_count": null,
      "outputs": []
    },
    {
      "cell_type": "code",
      "metadata": {
        "id": "mA-Of3jr3cA2"
      },
      "source": [
        "x_list.head(1)"
      ],
      "execution_count": null,
      "outputs": []
    },
    {
      "cell_type": "code",
      "metadata": {
        "id": "N8RwiOiq4pvR"
      },
      "source": [
        "x_list.tail(1)"
      ],
      "execution_count": null,
      "outputs": []
    },
    {
      "cell_type": "code",
      "metadata": {
        "id": "N_hw9vi0mo6z"
      },
      "source": [
        "x_list['startYear'] = x_list['startYear'].astype('int64')\n",
        "x_list['endYear'] = x_list['endYear'].astype('int64')"
      ],
      "execution_count": null,
      "outputs": []
    },
    {
      "cell_type": "code",
      "metadata": {
        "id": "MWNrO8fYnK1Z"
      },
      "source": [
        "x_list[\"type\"] = x_list[\"type\"].replace({\"movie\" : 0, 'tvSeries' : 1,'tvSpecial' : 1, 'tvMiniSeries' : 1, 'short' : 1,'video':1,\n",
        "                                         'tvMovie':0,'tvShort':1,'videoGame':1,'tvEpisode':1,'nan':4})"
      ],
      "execution_count": null,
      "outputs": []
    },
    {
      "cell_type": "code",
      "metadata": {
        "id": "VJsgOUnRqN8N"
      },
      "source": [
        "x_list.popular_rank.unique()"
      ],
      "execution_count": null,
      "outputs": []
    },
    {
      "cell_type": "code",
      "metadata": {
        "id": "qX-LWz23vLnk"
      },
      "source": [
        "x_list['popular_rank'] = x_list['popular_rank'].str.replace(',', '').astype('int64')"
      ],
      "execution_count": null,
      "outputs": []
    },
    {
      "cell_type": "code",
      "metadata": {
        "id": "yj2GrLTpq9Jw"
      },
      "source": [
        "x_list.info()"
      ],
      "execution_count": null,
      "outputs": []
    },
    {
      "cell_type": "code",
      "metadata": {
        "id": "IGRxARQUvUbB"
      },
      "source": [
        ""
      ],
      "execution_count": null,
      "outputs": []
    },
    {
      "cell_type": "markdown",
      "metadata": {
        "id": "_SPt0PFo19A_"
      },
      "source": [
        "## 분석"
      ]
    },
    {
      "cell_type": "code",
      "metadata": {
        "id": "vhErsxIr18PO"
      },
      "source": [
        "y = x_list.type\n",
        "x = x_list.drop(['type'],axis =1)"
      ],
      "execution_count": null,
      "outputs": []
    },
    {
      "cell_type": "code",
      "metadata": {
        "id": "81LOmRFh2SAE"
      },
      "source": [
        "x.corr()"
      ],
      "execution_count": null,
      "outputs": []
    },
    {
      "cell_type": "code",
      "metadata": {
        "id": "0vJgKN0c5Rwq"
      },
      "source": [
        ""
      ],
      "execution_count": null,
      "outputs": []
    },
    {
      "cell_type": "markdown",
      "metadata": {
        "id": "fpvoXmj35zOa"
      },
      "source": [
        "### type과 startYear 관계 확인"
      ]
    },
    {
      "cell_type": "code",
      "metadata": {
        "id": "3lInDUlN5yjC"
      },
      "source": [
        "x_t = x['startYear'] >= 2016\n",
        "y = y != 4\n",
        "x_a = x_list.loc[(x_list['startYear'] >= 2016)&(x_list['type'] != 4)]\n",
        "x_a = x_a[['startYear','type']]"
      ],
      "execution_count": null,
      "outputs": []
    },
    {
      "cell_type": "code",
      "metadata": {
        "id": "EqWzizvX6Huy"
      },
      "source": [
        "from matplotlib import pyplot as plt"
      ],
      "execution_count": null,
      "outputs": []
    },
    {
      "cell_type": "code",
      "metadata": {
        "id": "L7vHddRG8coI"
      },
      "source": [
        "x_a.hist()"
      ],
      "execution_count": null,
      "outputs": []
    },
    {
      "cell_type": "code",
      "metadata": {
        "id": "RAg_r4__8Cf8"
      },
      "source": [
        ""
      ],
      "execution_count": null,
      "outputs": []
    }
  ]
}