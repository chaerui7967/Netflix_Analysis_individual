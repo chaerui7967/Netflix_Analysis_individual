{
  "nbformat": 4,
  "nbformat_minor": 0,
  "metadata": {
    "colab": {
      "name": "데이터셋merge_기본코드 (1).ipynb",
      "private_outputs": true,
      "provenance": []
    },
    "kernelspec": {
      "name": "python3",
      "display_name": "Python 3"
    },
    "language_info": {
      "name": "python"
    }
  },
  "cells": [
    {
      "cell_type": "code",
      "metadata": {
        "id": "71iN5rEjd77x"
      },
      "source": [
        "import pandas as pd"
      ],
      "execution_count": null,
      "outputs": []
    },
    {
      "cell_type": "code",
      "metadata": {
        "id": "AmzuVtQCfhkG"
      },
      "source": [
        "flix = pd.read_csv('./1_flixpatrol_viewPoint_2020.csv',sep=';')\n",
        "flix_under = pd.read_excel('./2_flixpatrol_3610.xlsx')\n",
        "netflix = pd.read_csv('./netflix-rotten-tomatoes-metacritic-imdb.csv')"
      ],
      "execution_count": null,
      "outputs": []
    },
    {
      "cell_type": "code",
      "metadata": {
        "id": "hhGwNCIvyAgf"
      },
      "source": [
        "flix.head(1)"
      ],
      "execution_count": null,
      "outputs": []
    },
    {
      "cell_type": "code",
      "metadata": {
        "id": "4k9ArFUjyDl6"
      },
      "source": [
        "flix_under.head(1)"
      ],
      "execution_count": null,
      "outputs": []
    },
    {
      "cell_type": "code",
      "metadata": {
        "id": "u2JrcukE3s2P"
      },
      "source": [
        "flix_under.info()"
      ],
      "execution_count": null,
      "outputs": []
    },
    {
      "cell_type": "code",
      "metadata": {
        "id": "tpqaTZvM3xxv"
      },
      "source": [
        "flix_under.isnull().sum()"
      ],
      "execution_count": null,
      "outputs": []
    },
    {
      "cell_type": "code",
      "metadata": {
        "id": "KvlYFiu0xOst"
      },
      "source": [
        "df_new_flix = flix.append(flix_under,ignore_index=True)"
      ],
      "execution_count": null,
      "outputs": []
    },
    {
      "cell_type": "code",
      "metadata": {
        "id": "kdYXVU01z_c6"
      },
      "source": [
        "df_new_flix"
      ],
      "execution_count": null,
      "outputs": []
    },
    {
      "cell_type": "code",
      "metadata": {
        "id": "UMKSQ3Fdf68a"
      },
      "source": [
        "df_new_flix.columns = ['#', 'Title', 'TYPE', 'COUNTRY', 'RELEASE', 'GENRE', 'COMPANY','VALUE']\n",
        "df_new_flix.head(1)"
      ],
      "execution_count": null,
      "outputs": []
    },
    {
      "cell_type": "code",
      "metadata": {
        "id": "UCAXVVnt09ik"
      },
      "source": [
        "df_new_flix.drop(columns = ['TYPE', 'RELEASE','GENRE','COMPANY'],axis =1,inplace=True)"
      ],
      "execution_count": null,
      "outputs": []
    },
    {
      "cell_type": "code",
      "metadata": {
        "id": "eGww_frG1nai"
      },
      "source": [
        "df_new_flix.head(1)"
      ],
      "execution_count": null,
      "outputs": []
    },
    {
      "cell_type": "code",
      "metadata": {
        "id": "7Ydl3DuYgCut"
      },
      "source": [
        "netflix.head(1)"
      ],
      "execution_count": null,
      "outputs": []
    },
    {
      "cell_type": "code",
      "metadata": {
        "id": "p1Yn7T9kgaSO"
      },
      "source": [
        "df = df_new_flix.copy()"
      ],
      "execution_count": null,
      "outputs": []
    },
    {
      "cell_type": "code",
      "metadata": {
        "id": "ORp2HeNlglNR"
      },
      "source": [
        "merge_set = pd.merge(df,netflix, on='Title')"
      ],
      "execution_count": null,
      "outputs": []
    },
    {
      "cell_type": "code",
      "metadata": {
        "id": "sLKaMx_UhlnH"
      },
      "source": [
        "use_df = merge_set.drop(columns = ['#','Netflix Link', 'IMDb Link',\n",
        "                        'Poster', 'TMDb Trailer', 'Trailer Site','Image'], axis =1)"
      ],
      "execution_count": null,
      "outputs": []
    },
    {
      "cell_type": "code",
      "metadata": {
        "id": "SFxVvBdW3Hj_"
      },
      "source": [
        "use_df.info()"
      ],
      "execution_count": null,
      "outputs": []
    },
    {
      "cell_type": "code",
      "metadata": {
        "id": "89UTzbhyjnHq"
      },
      "source": [
        "use_df.isnull().sum()"
      ],
      "execution_count": null,
      "outputs": []
    },
    {
      "cell_type": "code",
      "metadata": {
        "id": "wK8VTE0A2Cf8"
      },
      "source": [
        "use_df.head(1)"
      ],
      "execution_count": null,
      "outputs": []
    },
    {
      "cell_type": "code",
      "metadata": {
        "id": "yfhyDZKqkFif"
      },
      "source": [
        "use_df.to_csv('use_df.csv')"
      ],
      "execution_count": null,
      "outputs": []
    },
    {
      "cell_type": "code",
      "metadata": {
        "id": "k0IbQtQhlU1z"
      },
      "source": [
        "use_df.corr()"
      ],
      "execution_count": null,
      "outputs": []
    },
    {
      "cell_type": "code",
      "metadata": {
        "id": "DdmPpIWg6oUE"
      },
      "source": [
        ""
      ],
      "execution_count": null,
      "outputs": []
    }
  ]
}