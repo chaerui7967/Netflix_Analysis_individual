{
  "nbformat": 4,
  "nbformat_minor": 0,
  "metadata": {
    "colab": {
      "name": "Untitled7.ipynb",
      "private_outputs": true,
      "provenance": []
    },
    "kernelspec": {
      "name": "python3",
      "display_name": "Python 3"
    },
    "language_info": {
      "name": "python"
    },
    "accelerator": "GPU"
  },
  "cells": [
    {
      "cell_type": "code",
      "metadata": {
        "id": "moVZ_7G6BJAu"
      },
      "source": [
        "# 데이터 읽기\n",
        "import pandas as pd\n",
        "import numpy as np\n",
        "\n",
        "# 데이터 시각화\n",
        "import plotly.graph_objects as go  # 시각화\n",
        "import plotly.express as px  # 데이터 타이틀 스타일 지정\n",
        "import spacy "
      ],
      "execution_count": null,
      "outputs": []
    },
    {
      "cell_type": "code",
      "metadata": {
        "id": "o9Nz-1JTBj1D"
      },
      "source": [
        "data = pd.read_csv('netflix-rotten-tomatoes-metacritic-imdb.csv')"
      ],
      "execution_count": null,
      "outputs": []
    },
    {
      "cell_type": "code",
      "metadata": {
        "id": "i6LtnHFFBrfl"
      },
      "source": [
        "df = data.copy()"
      ],
      "execution_count": null,
      "outputs": []
    },
    {
      "cell_type": "markdown",
      "metadata": {
        "id": "fv_uVsl9B-Vr"
      },
      "source": [
        "## 기본 데이터 정보확인"
      ]
    },
    {
      "cell_type": "markdown",
      "metadata": {
        "id": "2RVsdLISDLcz"
      },
      "source": [
        "- title : 제목\n",
        "- genre : 장르\n",
        "- tags : 태그\n",
        "- languages : 언어\n",
        "- series or movie : 시리즈 or 영화\n",
        "- hidden gem score : 영화가 숨겨진 보석인지 확인하는 점수\n",
        "- country availability : 영화 가용성, 사용가능한 국가\n",
        "- runtime : 영화 런타임\n",
        "- director : 감독\n",
        "- writer : 작가\n",
        "- actors : 배우들\n",
        "- view rating : 시청등급\n",
        "- imdb score : imdb 점수\n",
        "- rotten tomatoes score : 로튼토마토 점수\n",
        "- metacritic score : Metacritic 점수\n",
        "- awards received : 받은 평점\n",
        "- awards nominated for : 아카데미에서 받은 점수\n",
        "- boxoffice : 총 매출\n",
        "- release date : 개봉일\n",
        "- netflix release date : 넷플릭스 출시일\n",
        "- production house : 제작사\n",
        "- netflix link : 넷플릭스 링크\n",
        "- imdb link : imdb 링크\n",
        "- imdb votes : imdb 투표수\n",
        "- image : 이미지링크\n",
        "- poster : 포스터 링크\n",
        "- tmdb trailer : tmdb 트레일러 링크\n",
        "- trailer site : 공식 트레일러 링크"
      ]
    },
    {
      "cell_type": "code",
      "metadata": {
        "id": "imTIj33PBt07"
      },
      "source": [
        "df.head(1)"
      ],
      "execution_count": null,
      "outputs": []
    },
    {
      "cell_type": "code",
      "metadata": {
        "id": "kO9lOGIoBu7N"
      },
      "source": [
        "df.info()"
      ],
      "execution_count": null,
      "outputs": []
    },
    {
      "cell_type": "code",
      "metadata": {
        "id": "pG2FTdg7Bxhf"
      },
      "source": [
        "# null값 확인\n",
        "df.isnull().sum()"
      ],
      "execution_count": null,
      "outputs": []
    },
    {
      "cell_type": "code",
      "metadata": {
        "id": "JUWZnZdBDIsE"
      },
      "source": [
        ""
      ],
      "execution_count": null,
      "outputs": []
    },
    {
      "cell_type": "markdown",
      "metadata": {
        "id": "yRujZmb_CFj-"
      },
      "source": [
        "## 데이터 전처리"
      ]
    },
    {
      "cell_type": "markdown",
      "metadata": {
        "id": "_dA8GPw8GQXv"
      },
      "source": [
        "**분석시 불필요한 열 삭제**\n",
        "- 트레일러 영상이나 이미지, 포스터, 링크 등은 데이터를 분석하는 데 불필요할 것 같아서 삭제했다.\n",
        "- 날짜와 장르 등을 중점으로 분석하기 위해서 제작사와 매출액들은 제외했다.\n",
        "- 점수를 통일하기 위해서 metacritic Score를 삭제했다. "
      ]
    },
    {
      "cell_type": "code",
      "metadata": {
        "id": "ZfHmVoEuCFY0"
      },
      "source": [
        "df = df.drop(columns = [ 'Metacritic Score', 'Boxoffice',\n",
        "                        'Production House', 'Netflix Link', 'IMDb Link',\n",
        "                        'Poster', 'TMDb Trailer', 'Trailer Site'], axis = 1)"
      ],
      "execution_count": null,
      "outputs": []
    },
    {
      "cell_type": "code",
      "metadata": {
        "id": "JiTQgGFcB7N7"
      },
      "source": [
        "df.head(1)"
      ],
      "execution_count": null,
      "outputs": []
    },
    {
      "cell_type": "markdown",
      "metadata": {
        "id": "sGPPw84wJovs"
      },
      "source": [
        "**날짜 데이터 인코딩**"
      ]
    },
    {
      "cell_type": "code",
      "metadata": {
        "id": "KTEyxG7LHUNP"
      },
      "source": [
        "df['Relese Date'] = pd.to_datetime(df['Release Date'])\n",
        "df['Netflix Release Date'] = pd.to_datetime(df['Netflix Release Date'])"
      ],
      "execution_count": null,
      "outputs": []
    },
    {
      "cell_type": "code",
      "metadata": {
        "id": "_u5oTPDDKDXI"
      },
      "source": [
        "df[['Relese Date', 'Netflix Release Date']].head(1)"
      ],
      "execution_count": null,
      "outputs": []
    },
    {
      "cell_type": "markdown",
      "metadata": {
        "id": "LLxp_V9-ct-8"
      },
      "source": [
        "## 데이터 값 빈도 확인"
      ]
    },
    {
      "cell_type": "code",
      "metadata": {
        "id": "xC3SzIEjKK8q"
      },
      "source": [
        "colors = ['black',] * 2\n",
        "colors[0] = 'crimson'"
      ],
      "execution_count": null,
      "outputs": []
    },
    {
      "cell_type": "code",
      "metadata": {
        "id": "-ROROD0-dBqQ"
      },
      "source": [
        "count = df['Series or Movie'].value_counts()"
      ],
      "execution_count": null,
      "outputs": []
    },
    {
      "cell_type": "code",
      "metadata": {
        "id": "YlYPe6YkdGvu"
      },
      "source": [
        "count"
      ],
      "execution_count": null,
      "outputs": []
    },
    {
      "cell_type": "code",
      "metadata": {
        "id": "D_TscbNDdHiM"
      },
      "source": [
        "# 데이터 시각화 plot.graph_objects 사용\n",
        "fig = go.Figure(data=[go.Bar(\n",
        "    x = df[\"Series or Movie\"],\n",
        "    y = count,\n",
        "    text = count,\n",
        "    textposition='auto',\n",
        "    marker_color=colors \n",
        ")])\n"
      ],
      "execution_count": null,
      "outputs": []
    },
    {
      "cell_type": "code",
      "metadata": {
        "id": "5w_yN1POeWyq"
      },
      "source": [
        "# 바차트 제목 및 y축 라벨, x축 라벨 그리기\n",
        "fig.update_traces(texttemplate='%{text:.2s}', textposition='outside')\n",
        "fig.update_layout(title_text= 'More Movie or Tv Series?',\n",
        "                  yaxis=dict(\n",
        "                  title='Quantity',\n",
        "                  titlefont_size= 14),\n",
        "                  xaxis=dict(\n",
        "                  title='Category',\n",
        "                  titlefont_size= 14)\n",
        "                  )"
      ],
      "execution_count": null,
      "outputs": []
    },
    {
      "cell_type": "markdown",
      "metadata": {
        "id": "Pn7X7Na-iAAs"
      },
      "source": [
        "### movie인 데이터와 series 데이터 분리"
      ]
    },
    {
      "cell_type": "code",
      "metadata": {
        "id": "nN37QxhsgMWY"
      },
      "source": [
        "df_movie = df[df['Series or Movie']=='Movie']\n",
        "df_movie.head(1)"
      ],
      "execution_count": null,
      "outputs": []
    },
    {
      "cell_type": "code",
      "metadata": {
        "id": "MW4IqBQpiRti"
      },
      "source": [
        "df_series = df[df[\"Series or Movie\"] == \"Series\"]\n",
        "df_series.head(1)"
      ],
      "execution_count": null,
      "outputs": []
    },
    {
      "cell_type": "markdown",
      "metadata": {
        "id": "FLGxqmswiWEx"
      },
      "source": [
        "## series 장르 분석 및 시각화"
      ]
    },
    {
      "cell_type": "code",
      "metadata": {
        "id": "h8Mjb0iMidt5"
      },
      "source": [
        "df_series_gen = df_series.dropna(subset=['Genre'])  # 장르에서 null값 삭제"
      ],
      "execution_count": null,
      "outputs": []
    },
    {
      "cell_type": "code",
      "metadata": {
        "id": "zhWcK14bik-m"
      },
      "source": [
        "colors_10 = ['DarkRed', 'FireBrick','Red', 'Crimson',\n",
        "             'IndianRed', 'slategray', 'gray', 'dimgrey',\n",
        "             'DarkSlateGrey', 'black']"
      ],
      "execution_count": null,
      "outputs": []
    },
    {
      "cell_type": "code",
      "metadata": {
        "id": "xoeNapgCiqCT"
      },
      "source": [
        "series_gen_list = df_series_gen.Genre.str.split(',')  # 여러 개 장르가 있는 각 데이터를 리스트로 변환"
      ],
      "execution_count": null,
      "outputs": []
    },
    {
      "cell_type": "code",
      "metadata": {
        "id": "BgbC588ki0_d"
      },
      "source": [
        "series_gen_list"
      ],
      "execution_count": null,
      "outputs": []
    },
    {
      "cell_type": "code",
      "metadata": {
        "id": "AMggczqni24p"
      },
      "source": [
        "s_gen_list = {}  # 장르 데이터 정리 { 장르명 : 개수}"
      ],
      "execution_count": null,
      "outputs": []
    },
    {
      "cell_type": "code",
      "metadata": {
        "id": "yD3Q4Vi5jCC_"
      },
      "source": [
        "for i in series_gen_list:  # 분할된 장르 리스트을 하나씩 불러옴\n",
        "    for j in i:  # 분할된 장르 리스트에서 값들을 하나씩 불러옴\n",
        "        if j in s_gen_list:  # 해당 장르가 리스트에 있다면\n",
        "            s_gen_list[j] += 1  # 장르 count + 1\n",
        "        else:\n",
        "            s_gen_list[j] = 1  # 없으면 해당 장르 생성 후 count +1"
      ],
      "execution_count": null,
      "outputs": []
    },
    {
      "cell_type": "code",
      "metadata": {
        "id": "u7Ehn-jsj2Tz"
      },
      "source": [
        "# 정리된 장르들을 데이터프레임으로 만듬\n",
        "s_gen_df = pd.DataFrame(s_gen_list.values(), index= s_gen_list.keys(), columns = {'Counts of Genres in Tv Series'})"
      ],
      "execution_count": null,
      "outputs": []
    },
    {
      "cell_type": "code",
      "metadata": {
        "id": "JFqmxSxwkA2R"
      },
      "source": [
        "s_gen_df.head(1)"
      ],
      "execution_count": null,
      "outputs": []
    },
    {
      "cell_type": "code",
      "metadata": {
        "id": "POamU2l2kGzJ"
      },
      "source": [
        "# 카운트를 기준으로 데이터를 내림차순 정렬\n",
        "s_gen_df.sort_values(by = 'Counts of Genres in Tv Series',ascending = False,inplace = True)"
      ],
      "execution_count": null,
      "outputs": []
    },
    {
      "cell_type": "code",
      "metadata": {
        "id": "5_AyboPRkiG3"
      },
      "source": [
        "s_gen_df.head(1)"
      ],
      "execution_count": null,
      "outputs": []
    },
    {
      "cell_type": "code",
      "metadata": {
        "id": "kpiSn-EYklcW"
      },
      "source": [
        "# 상위 10개 장르 추출\n",
        "top_10_s_gen = s_gen_df[0:10] "
      ],
      "execution_count": null,
      "outputs": []
    },
    {
      "cell_type": "code",
      "metadata": {
        "id": "bKo4-xXvkocS"
      },
      "source": [
        "# 그래프에 상위 10개 장르의 개수들을 넣고 시각화\n",
        "fig = go.Figure(data=[go.Bar(\n",
        "    x = top_10_s_gen.index,\n",
        "    y = top_10_s_gen['Counts of Genres in Tv Series'],\n",
        "    text = top_10_s_gen['Counts of Genres in Tv Series'],\n",
        "    textposition='auto',\n",
        "    marker_color=colors_10\n",
        ")])"
      ],
      "execution_count": null,
      "outputs": []
    },
    {
      "cell_type": "code",
      "metadata": {
        "id": "E8S3-ZDuk3qy"
      },
      "source": [
        "fig.update_traces(texttemplate='%{text:.2s}', textposition='outside')\n",
        "fig.update_layout(title_text= 'Which are the most popular genres in Tv Series?',\n",
        "                  yaxis=dict(\n",
        "                  title='Quantity',\n",
        "                  titlefont_size=14),\n",
        "                  xaxis=dict(\n",
        "                  title='Genres',\n",
        "                  titlefont_size=14))"
      ],
      "execution_count": null,
      "outputs": []
    }
  ]
}