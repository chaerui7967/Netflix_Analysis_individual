{
  "nbformat": 4,
  "nbformat_minor": 0,
  "metadata": {
    "colab": {
      "name": "Untitled9.ipynb",
      "private_outputs": true,
      "provenance": []
    },
    "kernelspec": {
      "name": "python3",
      "display_name": "Python 3"
    },
    "language_info": {
      "name": "python"
    }
  },
  "cells": [
    {
      "cell_type": "code",
      "metadata": {
        "id": "jCctCf0mOQxn"
      },
      "source": [
        "import pandas as pd\n",
        "\n",
        "# 데이터 시각화\n",
        "import matplotlib.pyplot as plt\n",
        "import plotly.graph_objects as go\n",
        "\n",
        "# 자연어 처리\n",
        "import spacy"
      ],
      "execution_count": null,
      "outputs": []
    },
    {
      "cell_type": "markdown",
      "metadata": {
        "id": "C26En-ZjVJeL"
      },
      "source": [
        "## 데이터 정리"
      ]
    },
    {
      "cell_type": "code",
      "metadata": {
        "id": "HVxoUEwcTojk"
      },
      "source": [
        "df = pd.read_csv('use_df.csv')"
      ],
      "execution_count": null,
      "outputs": []
    },
    {
      "cell_type": "code",
      "metadata": {
        "id": "RRwFCTVoT4Ta"
      },
      "source": [
        "df.head(1)"
      ],
      "execution_count": null,
      "outputs": []
    },
    {
      "cell_type": "code",
      "metadata": {
        "id": "KqDzopEbTZ6c"
      },
      "source": [
        "colors = ['black',] * 2\n",
        "colors[0] = 'crimson'\n",
        "count = df['Series or Movie'].value_counts()"
      ],
      "execution_count": null,
      "outputs": []
    },
    {
      "cell_type": "code",
      "metadata": {
        "id": "Lb4v0dacTmoY"
      },
      "source": [
        "# 데이터 시각화 plot.graph_objects 사용\n",
        "fig = go.Figure(data=[go.Bar(\n",
        "    x = df[\"Series or Movie\"],\n",
        "    y = count,\n",
        "    text = count,\n",
        "    textposition='auto',\n",
        "    marker_color=colors \n",
        ")])"
      ],
      "execution_count": null,
      "outputs": []
    },
    {
      "cell_type": "code",
      "metadata": {
        "id": "cuqfVayBURuT"
      },
      "source": [
        "# 바차트 제목 및 y축 라벨, x축 라벨 그리기\n",
        "fig.update_traces(texttemplate='%{text:.2s}', textposition='outside')\n",
        "fig.update_layout(title_text= 'More Movie or Tv Series?',\n",
        "                  yaxis=dict(\n",
        "                  title='Quantity',\n",
        "                  titlefont_size= 14),\n",
        "                  xaxis=dict(\n",
        "                  title='Category',\n",
        "                  titlefont_size= 14)\n",
        "                  )"
      ],
      "execution_count": null,
      "outputs": []
    },
    {
      "cell_type": "markdown",
      "metadata": {
        "id": "70QQnzxAVMWI"
      },
      "source": [
        "## movie 데이터와 series 데이터 분리"
      ]
    },
    {
      "cell_type": "code",
      "metadata": {
        "id": "KuSasTQZVPo8"
      },
      "source": [
        "df_movie = df[df['Series or Movie']=='Movie']\n",
        "df_series = df[df[\"Series or Movie\"] == \"Series\"]"
      ],
      "execution_count": null,
      "outputs": []
    },
    {
      "cell_type": "code",
      "metadata": {
        "id": "iwUX0X6iVipA"
      },
      "source": [
        ""
      ],
      "execution_count": null,
      "outputs": []
    },
    {
      "cell_type": "markdown",
      "metadata": {
        "id": "V51jaOp4WURQ"
      },
      "source": [
        "## movie 태그들과 viewpoint\n",
        " - 귀무가설 : 태그들은 viewpoint에 영향이 없다\n",
        " - 대립가설 : 태그들은 viewpoint에 영향이 있다"
      ]
    },
    {
      "cell_type": "code",
      "metadata": {
        "id": "5JfK8XyUWTw-"
      },
      "source": [
        "df_movie.head(1)"
      ],
      "execution_count": null,
      "outputs": []
    },
    {
      "cell_type": "code",
      "metadata": {
        "id": "VQFDriERbao5"
      },
      "source": [
        "df_tag = df_movie[['VALUE','Tags']]"
      ],
      "execution_count": null,
      "outputs": []
    },
    {
      "cell_type": "code",
      "metadata": {
        "id": "jvovRNsIdXJs"
      },
      "source": [
        "df_tag.head(10)"
      ],
      "execution_count": null,
      "outputs": []
    },
    {
      "cell_type": "code",
      "metadata": {
        "id": "XG1-OXDZmOtL"
      },
      "source": [
        "df_tag.info()"
      ],
      "execution_count": null,
      "outputs": []
    },
    {
      "cell_type": "code",
      "metadata": {
        "id": "ll47t9kmcBlZ"
      },
      "source": [
        "df_tag.Tags[0]"
      ],
      "execution_count": null,
      "outputs": []
    },
    {
      "cell_type": "code",
      "metadata": {
        "id": "jWAAFHepd1eZ"
      },
      "source": [
        "df_tag.set_index('VALUE',inplace=True)"
      ],
      "execution_count": null,
      "outputs": []
    },
    {
      "cell_type": "code",
      "metadata": {
        "id": "35TgOVR6eFgU"
      },
      "source": [
        "df_tag.head(10)"
      ],
      "execution_count": null,
      "outputs": []
    },
    {
      "cell_type": "code",
      "metadata": {
        "id": "Su-jVH0TcJva"
      },
      "source": [
        "result = df_tag['Tags'].str.split(',')  # 리스트화"
      ],
      "execution_count": null,
      "outputs": []
    },
    {
      "cell_type": "code",
      "metadata": {
        "id": "dqQT7zFHcdEp"
      },
      "source": [
        "result = result.apply(lambda x: pd.Series(x))"
      ],
      "execution_count": null,
      "outputs": []
    },
    {
      "cell_type": "code",
      "metadata": {
        "id": "m7o6T0xLcc8M"
      },
      "source": [
        "result.stack()"
      ],
      "execution_count": null,
      "outputs": []
    },
    {
      "cell_type": "code",
      "metadata": {
        "id": "6K0XGl8ZcczK"
      },
      "source": [
        "result.stack().reset_index(level=1, drop=True)"
      ],
      "execution_count": null,
      "outputs": []
    },
    {
      "cell_type": "code",
      "metadata": {
        "id": "WgQFT3y6ccl1"
      },
      "source": [
        "result = result.stack().reset_index(level=1, drop=True).to_frame('Tag_single')\n",
        "result"
      ],
      "execution_count": null,
      "outputs": []
    },
    {
      "cell_type": "code",
      "metadata": {
        "id": "YJQBsQOrdGaM"
      },
      "source": [
        "rs = result.reset_index()"
      ],
      "execution_count": null,
      "outputs": []
    },
    {
      "cell_type": "code",
      "metadata": {
        "id": "PHGBUlu1dGXR"
      },
      "source": [
        "rs.head(5)"
      ],
      "execution_count": null,
      "outputs": []
    },
    {
      "cell_type": "code",
      "metadata": {
        "id": "CKZi-krLdGQX"
      },
      "source": [
        ""
      ],
      "execution_count": null,
      "outputs": []
    },
    {
      "cell_type": "code",
      "metadata": {
        "id": "_0ovepHkdGNW"
      },
      "source": [
        ""
      ],
      "execution_count": null,
      "outputs": []
    },
    {
      "cell_type": "code",
      "metadata": {
        "id": "_nCul1SDdGFR"
      },
      "source": [
        ""
      ],
      "execution_count": null,
      "outputs": []
    },
    {
      "cell_type": "code",
      "metadata": {
        "id": "u6AvkEFBdF4I"
      },
      "source": [
        ""
      ],
      "execution_count": null,
      "outputs": []
    },
    {
      "cell_type": "code",
      "metadata": {
        "id": "FHoevWcDZepw"
      },
      "source": [
        ""
      ],
      "execution_count": null,
      "outputs": []
    }
  ]
}