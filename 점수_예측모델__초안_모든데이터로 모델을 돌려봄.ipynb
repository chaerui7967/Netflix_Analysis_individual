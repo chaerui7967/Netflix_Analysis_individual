{
  "nbformat": 4,
  "nbformat_minor": 0,
  "metadata": {
    "colab": {
      "name": "점수 예측모델_데이터 전처리ipynb",
      "private_outputs": true,
      "provenance": []
    },
    "kernelspec": {
      "name": "python3",
      "display_name": "Python 3"
    },
    "language_info": {
      "name": "python"
    },
    "accelerator": "GPU"
  },
  "cells": [
    {
      "cell_type": "markdown",
      "metadata": {
        "id": "2fUnpWpeyVoy"
      },
      "source": [
        "\n",
        "\n",
        "## 기본 패키지 및 데이터 정보 로드\n"
      ]
    },
    {
      "cell_type": "code",
      "metadata": {
        "id": "ac9gEBTdXCR7"
      },
      "source": [
        "import pandas as pd\n",
        "import warnings\n",
        "warnings.filterwarnings(\"ignore\")\n",
        "\n",
        "\n",
        "import matplotlib.pyplot as plt\n",
        "import missingno # 널값 바차트로 시각화"
      ],
      "execution_count": null,
      "outputs": []
    },
    {
      "cell_type": "code",
      "metadata": {
        "id": "dWWQxvmdXPxj"
      },
      "source": [
        "netflix = pd.read_csv('./use_df.csv')"
      ],
      "execution_count": null,
      "outputs": []
    },
    {
      "cell_type": "code",
      "metadata": {
        "id": "lT5WzMOnX7y8"
      },
      "source": [
        "netflix.head(1)"
      ],
      "execution_count": null,
      "outputs": []
    },
    {
      "cell_type": "code",
      "metadata": {
        "id": "22gqaaxRYXPz"
      },
      "source": [
        "netflix.columns"
      ],
      "execution_count": null,
      "outputs": []
    },
    {
      "cell_type": "code",
      "metadata": {
        "id": "Frc4rmJ4YDia"
      },
      "source": [
        "df_net = netflix.drop(columns = ['Unnamed: 0'],axis =1)"
      ],
      "execution_count": null,
      "outputs": []
    },
    {
      "cell_type": "code",
      "metadata": {
        "id": "ZOKlgeIRYjaD"
      },
      "source": [
        "df_net.isnull().sum()"
      ],
      "execution_count": null,
      "outputs": []
    },
    {
      "cell_type": "code",
      "metadata": {
        "id": "oHzOzExpY1Oq"
      },
      "source": [
        "color= ['dimgrey','dimgrey','blue','blue','blue','dimgrey','blue','blue','blue','blue','blue',\n",
        "        'dimgrey','blue','blue','blue','blue','blue','blue','blue','blue','blue','blue','dimgrey',\n",
        "        'blue','blue','blue']\n",
        "missingno.bar(df_net,fontsize=10,color=color,figsize=(10,5))\n",
        "plt.title('COLUMN MISSING VALUES',fontsize=20)"
      ],
      "execution_count": null,
      "outputs": []
    },
    {
      "cell_type": "code",
      "metadata": {
        "id": "s6nBF3QVvjhS"
      },
      "source": [
        ""
      ],
      "execution_count": null,
      "outputs": []
    },
    {
      "cell_type": "markdown",
      "metadata": {
        "id": "r2fXJPsnydRM"
      },
      "source": [
        "## 인코딩"
      ]
    },
    {
      "cell_type": "markdown",
      "metadata": {
        "id": "5SCCwsTiad2X"
      },
      "source": [
        "viewpoint 예측에 사용될 변수들을 일단은 타입, 생산 국가, 상영 국가와 장르, 태그, 출시 일, 런타임, 연령, imdb 투표수와 점수, 로튼토마토의 숨겨진 명작 점수들을 가지고 먼저 예측초기모델을 만들어보자"
      ]
    },
    {
      "cell_type": "markdown",
      "metadata": {
        "id": "kt8iQSKovkvA"
      },
      "source": [
        "null값 처리"
      ]
    },
    {
      "cell_type": "code",
      "metadata": {
        "id": "WEcOB3lOaQAC"
      },
      "source": [
        "df = df_net[['Series or Movie', 'COUNTRY', 'Country Availability', 'Hidden Gem Score',\n",
        "             'Release Date', 'GENRE','Tags',\n",
        "             'View Rating', 'Runtime','VALUE','IMDb Score', 'IMDb Votes']]"
      ],
      "execution_count": null,
      "outputs": []
    },
    {
      "cell_type": "code",
      "metadata": {
        "id": "u2aCmKDSwGV_"
      },
      "source": [
        "df.isnull().sum()"
      ],
      "execution_count": null,
      "outputs": []
    },
    {
      "cell_type": "code",
      "metadata": {
        "id": "_FjwDPTPyjnB"
      },
      "source": [
        "df['Release Date'] = df['Release Date'].fillna(0)  # 날짜 데이터는 null값을 0으로 채움"
      ],
      "execution_count": null,
      "outputs": []
    },
    {
      "cell_type": "code",
      "metadata": {
        "id": "As1o2zLxyuGz"
      },
      "source": [
        "df[\"Release Date\"] = pd.to_datetime(df['Release Date'])\n",
        "df['month'] = df['Release Date'].dt.month\n",
        "df = df.drop(columns = ['Release Date'],axis =1)"
      ],
      "execution_count": null,
      "outputs": []
    },
    {
      "cell_type": "code",
      "metadata": {
        "id": "gp9vVrrMTqoX"
      },
      "source": [
        "df['Series or Movie'] = df['Series or Movie'].replace({'Movie': 1, 'TV': 2})  # type은 1,2로 인코딩"
      ],
      "execution_count": null,
      "outputs": []
    },
    {
      "cell_type": "code",
      "metadata": {
        "id": "67UX839lUbqD"
      },
      "source": [
        "df['Series or Movie'].value_counts() # 영화 데이터가 4배정도 많은 걸로 나타남"
      ],
      "execution_count": null,
      "outputs": []
    },
    {
      "cell_type": "code",
      "metadata": {
        "id": "KIvJJVW9U68a"
      },
      "source": [
        "df['COUNTRY'] = df['COUNTRY'].fillna('NA')  # 국가의 널값은 NA로 대체"
      ],
      "execution_count": null,
      "outputs": []
    },
    {
      "cell_type": "code",
      "metadata": {
        "id": "MYPiSMVBVMX_"
      },
      "source": [
        "df['GENRE'] = df['GENRE'].fillna('NA') # 장르의 널값도 NA로 대체"
      ],
      "execution_count": null,
      "outputs": []
    },
    {
      "cell_type": "code",
      "metadata": {
        "id": "V7bfU6Rse9Tt"
      },
      "source": [
        "rows = len(df['Tags'])  # 태그는 태그 수를 사용\n",
        "df['Tag_count'] = 0\n",
        "for i in range(rows):\n",
        "    df.Tag_count[i] = len(str(df.Tags.iloc[i]).split(','))\n",
        "df = df.drop(['Tags'], axis = 1)"
      ],
      "execution_count": null,
      "outputs": []
    },
    {
      "cell_type": "code",
      "metadata": {
        "id": "XLgOzaaaiu6N"
      },
      "source": [
        "rows = len(df['Country Availability'])  # 상영국가는 상영국가 수를 사용\n",
        "df['C_count'] = 0\n",
        "for i in range(rows):\n",
        "    df.C_count[i] = len(str(df['Country Availability'].iloc[i]).split(','))\n",
        "df = df.drop(['Country Availability'], axis = 1)"
      ],
      "execution_count": null,
      "outputs": []
    },
    {
      "cell_type": "code",
      "metadata": {
        "id": "RAKcVPHWodb_"
      },
      "source": [
        "for i in range(rows):\n",
        "    if df['View Rating'][i] in ['PG', 'TV-PG', 'TV-G', 'TV-Y7', 'TV-Y', 'G', 'Unrated', 'TV-Y7-FV', 'Approved']:\n",
        "        df['View Rating'][i] = 1  # 어린이 컨텐츠 = 1\n",
        "    elif df['View Rating'][i] in ['PG-13', 'TV-14', 'R', 'GP', 'Passed', 'X']:\n",
        "        df['View Rating'][i] = 2  # 청소년 컨텐츠 = 2\n",
        "    elif df['View Rating'][i] in ['TV-MA', 'Not Rated','NC-17']:\n",
        "        df['View Rating'][i] = 3  # 성인컨텐츠 = 3\n",
        "    else:\n",
        "        df['View Rating'][i] = 0 # null값을 0으로 처리\n"
      ],
      "execution_count": null,
      "outputs": []
    },
    {
      "cell_type": "code",
      "metadata": {
        "id": "PqHQsQ4DzyoD"
      },
      "source": [
        "df['View Rating'] = df['View Rating'].astype(int)"
      ],
      "execution_count": null,
      "outputs": []
    },
    {
      "cell_type": "code",
      "metadata": {
        "id": "0WOdrmz9up_Q"
      },
      "source": [
        "df['Runtime'] = df['Runtime'].replace({'< 30 minutes' : 0,\n",
        "                                             '30-60 mins' : 1,\n",
        "                                             '1-2 hour' : 2,\n",
        "                                             '> 2 hrs' : 3 })"
      ],
      "execution_count": null,
      "outputs": []
    },
    {
      "cell_type": "code",
      "metadata": {
        "id": "0udx52rQy-e4"
      },
      "source": [
        "df['Runtime'] = df['Runtime'].astype(int)"
      ],
      "execution_count": null,
      "outputs": []
    },
    {
      "cell_type": "code",
      "metadata": {
        "id": "rA1nlyx5uyyv"
      },
      "source": [
        "df['Runtime'].value_counts()"
      ],
      "execution_count": null,
      "outputs": []
    },
    {
      "cell_type": "code",
      "metadata": {
        "id": "UFxehHG-tHRo"
      },
      "source": [
        "df.isnull().sum()"
      ],
      "execution_count": null,
      "outputs": []
    },
    {
      "cell_type": "code",
      "metadata": {
        "id": "RP5tEXLwsvqP"
      },
      "source": [
        "df = df.dropna(how='any',axis=0)  # hidden gem score, imdb score, imdb vote의 null값이 같으므로 널값이 있는 행을 지움"
      ],
      "execution_count": null,
      "outputs": []
    },
    {
      "cell_type": "code",
      "metadata": {
        "id": "5ZKnD_PNuL9T"
      },
      "source": [
        "df.info()"
      ],
      "execution_count": null,
      "outputs": []
    },
    {
      "cell_type": "markdown",
      "metadata": {
        "id": "CMzUzmPHz-9O"
      },
      "source": [
        "### 장르와 제작국가는 원핫인코딩으로 인코딩"
      ]
    },
    {
      "cell_type": "code",
      "metadata": {
        "id": "XrOZrlTez-Y9"
      },
      "source": [
        "pd_df = pd.get_dummies(df[['COUNTRY','GENRE']])\n",
        "df_result = pd.concat([df, pd_df], axis=1)"
      ],
      "execution_count": null,
      "outputs": []
    },
    {
      "cell_type": "code",
      "metadata": {
        "id": "jdVSfgP-0iDa"
      },
      "source": [
        "df_result = df_result.drop(['COUNTRY','GENRE'], axis = 1)"
      ],
      "execution_count": null,
      "outputs": []
    },
    {
      "cell_type": "code",
      "metadata": {
        "id": "Z-jC3MZ81E1t"
      },
      "source": [
        "df_taget = df_result['VALUE']\n",
        "df_result = df_result.drop(['VALUE'], axis = 1)"
      ],
      "execution_count": null,
      "outputs": []
    },
    {
      "cell_type": "code",
      "metadata": {
        "id": "5tcIgXt5oNSU"
      },
      "source": [
        "df_result.head(1)"
      ],
      "execution_count": null,
      "outputs": []
    },
    {
      "cell_type": "code",
      "metadata": {
        "id": "sXCO7PL01RBu"
      },
      "source": [
        "df_taget.head(1)"
      ],
      "execution_count": null,
      "outputs": []
    },
    {
      "cell_type": "markdown",
      "metadata": {
        "id": "W4iuLNPG1yjF"
      },
      "source": [
        "## 딥러닝을 통해 모든 변수들을 넣고 예측"
      ]
    },
    {
      "cell_type": "code",
      "metadata": {
        "id": "Ianq98fAPcEs"
      },
      "source": [
        "from sklearn.preprocessing import StandardScaler"
      ],
      "execution_count": null,
      "outputs": []
    },
    {
      "cell_type": "code",
      "metadata": {
        "id": "IRCLYukAQrPi"
      },
      "source": [
        "X = df_result.iloc[:].values\n",
        "y = df_taget.iloc[:].values"
      ],
      "execution_count": null,
      "outputs": []
    },
    {
      "cell_type": "code",
      "metadata": {
        "id": "VZiLnt2eROg4"
      },
      "source": [
        "y = y.reshape(-1,1)"
      ],
      "execution_count": null,
      "outputs": []
    },
    {
      "cell_type": "code",
      "metadata": {
        "id": "eU0WLRGERfYa"
      },
      "source": [
        "y"
      ],
      "execution_count": null,
      "outputs": []
    },
    {
      "cell_type": "code",
      "metadata": {
        "id": "4eOmWZ9QQrCb"
      },
      "source": [
        "sc = StandardScaler()\n",
        "X_train = sc.fit_transform(X)\n",
        "y_train = sc.fit_transform(y)"
      ],
      "execution_count": null,
      "outputs": []
    },
    {
      "cell_type": "code",
      "metadata": {
        "id": "1IERxvklRsIv"
      },
      "source": [
        ""
      ],
      "execution_count": null,
      "outputs": []
    },
    {
      "cell_type": "code",
      "metadata": {
        "id": "FCAgRBPeqRFq"
      },
      "source": [
        "from keras import models\n",
        "from keras import layers"
      ],
      "execution_count": null,
      "outputs": []
    },
    {
      "cell_type": "code",
      "metadata": {
        "id": "nm6g-SpjucIj"
      },
      "source": [
        "from keras.layers.core import Dropout\n",
        "def build_model():\n",
        "    model = models.Sequential()\n",
        "    model.add(layers.Dense(150, activation='relu',\n",
        "                           input_shape=(X_train.shape[1],)))\n",
        "    model.add(layers.Dense(280, activation='relu'))\n",
        "    model.add(layers.Dropout(0.3))\n",
        "    model.add(layers.Dense(128, activation='relu'))\n",
        "    model.add(layers.Dropout(0.3))\n",
        "    model.add(layers.Dense(99, activation='relu'))\n",
        "    model.add(layers.Dropout(0.3))\n",
        "    model.add(layers.Dense(24, activation='relu'))\n",
        "    model.add(layers.Dense(1))\n",
        "    model.compile(optimizer='rmsprop', loss='mse', metrics=['mae'])\n",
        "    return model"
      ],
      "execution_count": null,
      "outputs": []
    },
    {
      "cell_type": "code",
      "metadata": {
        "id": "6ZN_FhszZ0Eu"
      },
      "source": [
        "X_train.shape"
      ],
      "execution_count": null,
      "outputs": []
    },
    {
      "cell_type": "code",
      "metadata": {
        "id": "SKUuKqnEuz4D"
      },
      "source": [
        "import numpy as np\n",
        "\n",
        "k = 4\n",
        "all_mae_histories = []\n",
        "\n",
        "num_val_samples = len(X_train) // k\n",
        "num_epochs = 300\n",
        "all_scores = []\n",
        "for i in range(k):\n",
        "    print('처리중인 폴드 #', i)\n",
        "    val_data = X_train[i * num_val_samples: (i + 1) * num_val_samples]  # 검증 데이터 준비: k번째 분할\n",
        "    val_targets = y_train[i * num_val_samples: (i + 1) * num_val_samples]\n",
        "\n",
        "    partial_train_data = np.concatenate(  # 훈련 데이터 준비: 다른 분할 전체\n",
        "        [X_train[:i * num_val_samples],\n",
        "         X_train[(i + 1) * num_val_samples:]],\n",
        "        axis=0)\n",
        "    partial_train_targets = np.concatenate(\n",
        "        [y_train[:i * num_val_samples],\n",
        "         y_train[(i + 1) * num_val_samples:]],\n",
        "        axis=0)\n",
        "\n",
        "model = build_model()  # 케라스 모델 구성(컴파일 포함)\n",
        "history = model.fit(partial_train_data, partial_train_targets,  # 모델 훈련(verbose=0이므로 훈련 과정이 출력되지 않습니다.)\n",
        "                    validation_data=(val_data, val_targets),\n",
        "                    epochs=num_epochs, batch_size=1, verbose=True)\n",
        "mae_history = history.history['val_mae']\n",
        "all_mae_histories.append(mae_history)\n",
        "\n",
        "val_mse, val_mae = model.evaluate(val_data, val_targets, verbose=0)  # 검증 세트로 모델 평가\n",
        "all_scores.append(val_mae)"
      ],
      "execution_count": null,
      "outputs": []
    },
    {
      "cell_type": "code",
      "metadata": {
        "id": "WZ2sK-HJzaK8"
      },
      "source": [
        "all_scores"
      ],
      "execution_count": null,
      "outputs": []
    },
    {
      "cell_type": "code",
      "metadata": {
        "id": "dB7ksjB5i6Lv"
      },
      "source": [
        "average_mae_history = [\n",
        "    np.mean([x[i] for x in all_mae_histories]) for i in range(num_epochs)]"
      ],
      "execution_count": null,
      "outputs": []
    },
    {
      "cell_type": "code",
      "metadata": {
        "id": "h_mp6iSWi5-T"
      },
      "source": [
        "import matplotlib.pyplot as plt\n",
        "\n",
        "plt.plot(range(1, len(average_mae_history) + 1), average_mae_history)\n",
        "plt.xlabel('Epochs')\n",
        "plt.ylabel('Validation MAE')\n",
        "plt.show()"
      ],
      "execution_count": null,
      "outputs": []
    },
    {
      "cell_type": "code",
      "metadata": {
        "id": "WNRE5dn3i5sG"
      },
      "source": [
        "def smooth_curve(points, factor=0.9):\n",
        "    smoothed_points = []\n",
        "    for point in points:\n",
        "        if smoothed_points:\n",
        "            previous = smoothed_points[-1]\n",
        "            smoothed_points.append(previous * factor + point * (1 - factor))\n",
        "        else:\n",
        "            smoothed_points.append(point)\n",
        "    return smoothed_points\n",
        "\n",
        "smooth_mae_history = smooth_curve(average_mae_history[10:])\n",
        "\n",
        "plt.plot(range(1, len(smooth_mae_history) + 1), smooth_mae_history)\n",
        "plt.xlabel('Epochs')\n",
        "plt.ylabel('Validation MAE')\n",
        "plt.show()"
      ],
      "execution_count": null,
      "outputs": []
    },
    {
      "cell_type": "markdown",
      "metadata": {
        "id": "vhdFJ5h_88rP"
      },
      "source": [
        "**에포크 300으로 딥러닝을 진행했을 때 오차가 0.227, 227정도로 viewpoint가 1~40000인것을 감안하면 오차가 좀 큰걸로 나옴**\n",
        "- all_scores = [0.2270810753107071]"
      ]
    },
    {
      "cell_type": "code",
      "metadata": {
        "id": "hkfoJj71zaIE"
      },
      "source": [
        "num_epochs = 150\n",
        "all_mae_histories = []\n",
        "for i in range(k):\n",
        "    print('처리중인 폴드 #', i)\n",
        "    val_data = X_train[i * num_val_samples: (i + 1) * num_val_samples]  #검증 데이터 준비: k번째 분할    val_targets = train_targets[i * num_val_samples: (i + 1) * num_val_samples]\n",
        "    partial_train_data = np.concatenate(  # 훈련 데이터 준비: 다른 분할 전체\n",
        "        [X_train[:i * num_val_samples],\n",
        "         X_train[(i + 1) * num_val_samples:]],\n",
        "        axis=0)\n",
        "    partial_train_targets = np.concatenate(\n",
        "        [y_train[:i * num_val_samples],\n",
        "         y_train[(i + 1) * num_val_samples:]],\n",
        "        axis=0)\n",
        "\n",
        "model = build_model()  # 케라스 모델 구성(컴파일 포함)\n",
        "history = model.fit(partial_train_data, partial_train_targets,  # 모델 훈련(verbose=0이므로 훈련 과정이 출력되지 않습니다.)\n",
        "                    validation_data=(val_data, val_targets),\n",
        "                    epochs=num_epochs, batch_size=1, verbose=True)\n",
        "mae_history = history.history['val_mae']\n",
        "all_mae_histories.append(mae_history)"
      ],
      "execution_count": null,
      "outputs": []
    },
    {
      "cell_type": "code",
      "metadata": {
        "id": "tWn5ITwsBY77"
      },
      "source": [
        "mae_history = history.history['val_mae']\n",
        "all_mae_histories.append(mae_history)"
      ],
      "execution_count": null,
      "outputs": []
    },
    {
      "cell_type": "code",
      "metadata": {
        "id": "jh-2gGzazaFG"
      },
      "source": [
        "average_mae_history = [\n",
        "    np.mean([x[i] for x in all_mae_histories]) for i in range(num_epochs)]"
      ],
      "execution_count": null,
      "outputs": []
    },
    {
      "cell_type": "code",
      "metadata": {
        "id": "F1W_94tUzaBS"
      },
      "source": [
        "import matplotlib.pyplot as plt\n",
        "\n",
        "plt.plot(range(1, len(average_mae_history) + 1), average_mae_history)\n",
        "plt.xlabel('Epochs')\n",
        "plt.ylabel('Validation MAE')\n",
        "plt.show()"
      ],
      "execution_count": null,
      "outputs": []
    },
    {
      "cell_type": "code",
      "metadata": {
        "id": "yD5wO9sezZ-t"
      },
      "source": [
        "def smooth_curve(points, factor=0.9):\n",
        "    smoothed_points = []\n",
        "    for point in points:\n",
        "        if smoothed_points:\n",
        "            previous = smoothed_points[-1]\n",
        "            smoothed_points.append(previous * factor + point * (1 - factor))\n",
        "        else:\n",
        "            smoothed_points.append(point)\n",
        "    return smoothed_points\n",
        "\n",
        "smooth_mae_history = smooth_curve(average_mae_history[10:])\n",
        "\n",
        "plt.plot(range(1, len(smooth_mae_history) + 1), smooth_mae_history)\n",
        "plt.xlabel('Epochs')\n",
        "plt.ylabel('Validation MAE')\n",
        "plt.show()"
      ],
      "execution_count": null,
      "outputs": []
    },
    {
      "cell_type": "markdown",
      "metadata": {
        "id": "eaNqQIjv0JIH"
      },
      "source": [
        "에포크 90정도 지점부터 오차가 줄어들지 않는것으로 보인다. 이 지점이 과대적합 지점이라고 생각하고 새로운 모델을 만들어서 테스트 해보았다."
      ]
    },
    {
      "cell_type": "code",
      "metadata": {
        "id": "mKJ9sg-ezZvG"
      },
      "source": [
        ""
      ],
      "execution_count": null,
      "outputs": []
    },
    {
      "cell_type": "code",
      "metadata": {
        "id": "Wm04o6bXzZrN"
      },
      "source": [
        "model = build_model()  # 새롭게 컴파일된 모델을 얻습니다.\n",
        "model.fit(X_train, y_train,  # 전체 데이터로 훈련시킵니다.\n",
        "          epochs=90, batch_size=16, verbose=0)\n",
        "test_mse_score, test_mae_score = model.evaluate(X_train, y_train)"
      ],
      "execution_count": null,
      "outputs": []
    },
    {
      "cell_type": "code",
      "metadata": {
        "id": "Cw2kTvnAx-9L"
      },
      "source": [
        "# batch_size = 1\n",
        "# test_mse_score, test_mae_score = model.evaluate(X_train, y_train)\n",
        "# 89/89 [==============================] - 0s 2ms/step - loss: 1.0165 - mae: 0.3206\n",
        "# test_mae_score = 0.3206084668636322"
      ],
      "execution_count": null,
      "outputs": []
    },
    {
      "cell_type": "code",
      "metadata": {
        "id": "X5YL_F9x2z_L"
      },
      "source": [
        "test_mae_score"
      ],
      "execution_count": null,
      "outputs": []
    },
    {
      "cell_type": "markdown",
      "metadata": {
        "id": "_D4m8XrRCqUr"
      },
      "source": [
        "##### 최종 결과\n",
        "- batch_size = 16 , epochs = 90\n",
        "\n",
        "- 89/89 [==============================] - 0s 2ms/step - loss: 0.2012 - mae: 0.1685\n",
        "- test_mae_score = 0.1685454249382019\n",
        "\n",
        "- 최종 결과 epochs 90지점에서 오차가 0.169정도로 나왔고, 최종 오차는 169정도 나는걸로 보인다.\n",
        "\n",
        "- 데이터셋이 부족하여 오차를 더 줄이기는 어려워 보인다.\n",
        "- 추후에 데이터셋을 더 추가하고, 딥러닝 코드를 손을 보면 더 좋은 예측모델이 나올것으로 보인다."
      ]
    },
    {
      "cell_type": "code",
      "metadata": {
        "id": "y4peD-Me2z5m"
      },
      "source": [
        ""
      ],
      "execution_count": null,
      "outputs": []
    },
    {
      "cell_type": "code",
      "metadata": {
        "id": "aE4e9lJ_XXJ2"
      },
      "source": [
        "# pd_df = pd.get_dummies(df_net['Tags'])\n",
        "# df_result = pd.concat([df_net, pd_df], axis=1)"
      ],
      "execution_count": null,
      "outputs": []
    },
    {
      "cell_type": "code",
      "metadata": {
        "id": "G6w3gvNbfYa9"
      },
      "source": [
        ""
      ],
      "execution_count": null,
      "outputs": []
    },
    {
      "cell_type": "code",
      "metadata": {
        "id": "h-HKWcVbfaNz"
      },
      "source": [
        ""
      ],
      "execution_count": null,
      "outputs": []
    }
  ]
}