{
  "nbformat": 4,
  "nbformat_minor": 0,
  "metadata": {
    "colab": {
      "name": "Untitled8.ipynb",
      "private_outputs": true,
      "provenance": []
    },
    "kernelspec": {
      "name": "python3",
      "display_name": "Python 3"
    },
    "language_info": {
      "name": "python"
    }
  },
  "cells": [
    {
      "cell_type": "code",
      "metadata": {
        "id": "71iN5rEjd77x"
      },
      "source": [
        "import pandas as pd"
      ],
      "execution_count": null,
      "outputs": []
    },
    {
      "cell_type": "code",
      "metadata": {
        "id": "AmzuVtQCfhkG"
      },
      "source": [
        "flix = pd.read_csv('./flixpatrol_viewpoint.csv',sep=';')\n",
        "netflix = pd.read_csv('./netflix-rotten-tomatoes-metacritic-imdb.csv')"
      ],
      "execution_count": null,
      "outputs": []
    },
    {
      "cell_type": "code",
      "metadata": {
        "id": "UMKSQ3Fdf68a"
      },
      "source": [
        "flix.columns = ['#', 'Title', 'TYPE', 'COUNTRY', 'RELEASE', 'GENRE', 'COMPANY',\n",
        "       'VALUE']\n",
        "flix.head(1)"
      ],
      "execution_count": null,
      "outputs": []
    },
    {
      "cell_type": "code",
      "metadata": {
        "id": "_rlZaYEPkI-S"
      },
      "source": [
        ""
      ],
      "execution_count": null,
      "outputs": []
    },
    {
      "cell_type": "code",
      "metadata": {
        "id": "7Ydl3DuYgCut"
      },
      "source": [
        "netflix.head(1)"
      ],
      "execution_count": null,
      "outputs": []
    },
    {
      "cell_type": "code",
      "metadata": {
        "id": "p1Yn7T9kgaSO"
      },
      "source": [
        "df = flix.copy()"
      ],
      "execution_count": null,
      "outputs": []
    },
    {
      "cell_type": "code",
      "metadata": {
        "id": "ORp2HeNlglNR"
      },
      "source": [
        "merge_set = pd.merge(df,netflix, on='Title')"
      ],
      "execution_count": null,
      "outputs": []
    },
    {
      "cell_type": "code",
      "metadata": {
        "id": "sLKaMx_UhlnH"
      },
      "source": [
        "use_df = merge_set.drop(columns = ['#','Netflix Link', 'IMDb Link',\n",
        "                        'Poster', 'TMDb Trailer', 'Trailer Site'], axis =1)"
      ],
      "execution_count": null,
      "outputs": []
    },
    {
      "cell_type": "code",
      "metadata": {
        "id": "89UTzbhyjnHq"
      },
      "source": [
        "use_df.isnull().sum()"
      ],
      "execution_count": null,
      "outputs": []
    },
    {
      "cell_type": "code",
      "metadata": {
        "id": "yfhyDZKqkFif"
      },
      "source": [
        "use_df.to_csv('use_df.csv')"
      ],
      "execution_count": null,
      "outputs": []
    },
    {
      "cell_type": "code",
      "metadata": {
        "id": "k0IbQtQhlU1z"
      },
      "source": [
        ""
      ],
      "execution_count": null,
      "outputs": []
    }
  ]
}