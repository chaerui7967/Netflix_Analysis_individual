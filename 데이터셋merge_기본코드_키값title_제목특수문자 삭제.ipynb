{
  "nbformat": 4,
  "nbformat_minor": 0,
  "metadata": {
    "colab": {
      "name": "데이터셋merge_기본코드 (1).ipynb",
      "private_outputs": true,
      "provenance": []
    },
    "kernelspec": {
      "name": "python3",
      "display_name": "Python 3"
    },
    "language_info": {
      "name": "python"
    }
  },
  "cells": [
    {
      "cell_type": "markdown",
      "metadata": {
        "id": "S3GYyaDoD_NL"
      },
      "source": [
        "# 데이터셋 머지 실행"
      ]
    },
    {
      "cell_type": "code",
      "metadata": {
        "id": "71iN5rEjd77x"
      },
      "source": [
        "import pandas as pd"
      ],
      "execution_count": null,
      "outputs": []
    },
    {
      "cell_type": "code",
      "metadata": {
        "id": "AmzuVtQCfhkG"
      },
      "source": [
        "flix= pd.read_excel('./1. flixpatrol_1.xlsx')\n",
        "netflix = pd.read_csv('./2. netflix-rotten-tomatoes-metacritic-imdb.csv')"
      ],
      "execution_count": null,
      "outputs": []
    },
    {
      "cell_type": "markdown",
      "metadata": {
        "id": "Cknk_vXP_s37"
      },
      "source": [
        "## 데이터 확인"
      ]
    },
    {
      "cell_type": "code",
      "metadata": {
        "id": "hhGwNCIvyAgf"
      },
      "source": [
        "flix.isnull().sum()"
      ],
      "execution_count": null,
      "outputs": []
    },
    {
      "cell_type": "code",
      "metadata": {
        "id": "hob8l7Mn7zCK"
      },
      "source": [
        "flix.head(1)"
      ],
      "execution_count": null,
      "outputs": []
    },
    {
      "cell_type": "code",
      "metadata": {
        "id": "k9n8Rh2zADNK"
      },
      "source": [
        "netflix.isnull().sum()"
      ],
      "execution_count": null,
      "outputs": []
    },
    {
      "cell_type": "code",
      "metadata": {
        "id": "x_9eoSyEAG1p"
      },
      "source": [
        "netflix.head(1)"
      ],
      "execution_count": null,
      "outputs": []
    },
    {
      "cell_type": "markdown",
      "metadata": {
        "id": "F64XK7Wb_2a3"
      },
      "source": [
        "## flix데이터 컬럼 정리"
      ]
    },
    {
      "cell_type": "code",
      "metadata": {
        "id": "sAlYIZp14yXt"
      },
      "source": [
        "df_new_flix = flix.copy()"
      ],
      "execution_count": null,
      "outputs": []
    },
    {
      "cell_type": "code",
      "metadata": {
        "id": "yvKHRJzTg_f9"
      },
      "source": [
        "df_new_flix.isnull().sum()"
      ],
      "execution_count": null,
      "outputs": []
    },
    {
      "cell_type": "code",
      "metadata": {
        "id": "UMKSQ3Fdf68a"
      },
      "source": [
        "# 컬럼 이름 초기화\n",
        "df_new_flix.columns = ['#', 'Title', 'Series or Movie', 'COUNTRY', 'Release Date', 'GENRE', 'COMPANY','VALUE']\n",
        "df_new_flix.head(2)"
      ],
      "execution_count": null,
      "outputs": []
    },
    {
      "cell_type": "code",
      "metadata": {
        "id": "UCAXVVnt09ik"
      },
      "source": [
        "df_new_flix.drop(columns = ['#','COMPANY'],axis =1,inplace=True)  # 랭킹 값과 정확하지 않은 제작사 컬럼 드랍"
      ],
      "execution_count": null,
      "outputs": []
    },
    {
      "cell_type": "code",
      "metadata": {
        "id": "eGww_frG1nai"
      },
      "source": [
        "df_new_flix.head(2)"
      ],
      "execution_count": null,
      "outputs": []
    },
    {
      "cell_type": "markdown",
      "metadata": {
        "id": "4GNJu1bWAM1Q"
      },
      "source": [
        "## 데이터 인코딩"
      ]
    },
    {
      "cell_type": "code",
      "metadata": {
        "id": "6k9_9bZYBhw4"
      },
      "source": [
        "df_new_flix['Title'] = df_new_flix['Title'].str.replace(pat=r'[^\\w]', repl=r'', regex=True)\n",
        "df_new_flix['Title'].iloc[0]"
      ],
      "execution_count": null,
      "outputs": []
    },
    {
      "cell_type": "code",
      "metadata": {
        "id": "KsT--L5V2uij"
      },
      "source": [
        "df_new_flix['Release Date'] = pd.to_datetime(df_new_flix['Release Date'])\n",
        "netflix['Netflix Release Date'] = pd.to_datetime(netflix['Netflix Release Date'])"
      ],
      "execution_count": null,
      "outputs": []
    },
    {
      "cell_type": "code",
      "metadata": {
        "id": "BB134xpv_HrC"
      },
      "source": [
        "netflix['Title'] = netflix['Title'].str.replace(pat=r'[^\\w]', repl=r'', regex=True)\n",
        "netflix['Title'].iloc[0]"
      ],
      "execution_count": null,
      "outputs": []
    },
    {
      "cell_type": "code",
      "metadata": {
        "id": "zTeDhOcmGDEy"
      },
      "source": [
        "df_new_flix['Title'].iloc[0]"
      ],
      "execution_count": null,
      "outputs": []
    },
    {
      "cell_type": "code",
      "metadata": {
        "id": "2F3wXgFT2Spo"
      },
      "source": [
        "for i in range(len(df_new_flix['Title'])):\n",
        "    df_new_flix['Title'].iloc[i]= df_new_flix['Title'].iloc[i].lower()\n",
        "for i in range(len(netflix['Title'])):\n",
        "    netflix['Title'].iloc[i] = netflix['Title'].iloc[i].lower()"
      ],
      "execution_count": null,
      "outputs": []
    },
    {
      "cell_type": "markdown",
      "metadata": {
        "id": "96svd3Z3ARDe"
      },
      "source": [
        "## 넷플릭스 데이터 정리"
      ]
    },
    {
      "cell_type": "code",
      "metadata": {
        "id": "7Ydl3DuYgCut"
      },
      "source": [
        "netflix.head(1)"
      ],
      "execution_count": null,
      "outputs": []
    },
    {
      "cell_type": "code",
      "metadata": {
        "id": "AVID8qYn_H4P"
      },
      "source": [
        "netflix.drop(columns = ['Series or Movie','Release Date'],axis =1,inplace=True)  # 정확하지 않은 type 행과 출시일 제거"
      ],
      "execution_count": null,
      "outputs": []
    },
    {
      "cell_type": "code",
      "metadata": {
        "id": "cufJddFFDItP"
      },
      "source": [
        "netflix.columns"
      ],
      "execution_count": null,
      "outputs": []
    },
    {
      "cell_type": "code",
      "metadata": {
        "id": "y4yGw6EEDOyT"
      },
      "source": [
        "netflix.columns = ['Title', 'Genre_all', 'Tags', 'Languages', 'Hidden Gem Score',\n",
        "       'Country Availability', 'Runtime', 'Director', 'Writer', 'Actors',\n",
        "       'View Rating', 'IMDb Score', 'Rotten Tomatoes Score',\n",
        "       'Metacritic Score', 'Awards Received', 'Awards Nominated For',\n",
        "       'Boxoffice', 'Netflix Release Date', 'Production House', 'Netflix Link',\n",
        "       'IMDb Link', 'Summary', 'IMDb Votes', 'Image', 'Poster', 'TMDb Trailer',\n",
        "       'Trailer Site']"
      ],
      "execution_count": null,
      "outputs": []
    },
    {
      "cell_type": "code",
      "metadata": {
        "id": "zv0yXr9C_H1s"
      },
      "source": [
        "netflix.head(1)"
      ],
      "execution_count": null,
      "outputs": []
    },
    {
      "cell_type": "markdown",
      "metadata": {
        "id": "J8HCC3rmAXWU"
      },
      "source": [
        "## 데이터 merge"
      ]
    },
    {
      "cell_type": "code",
      "metadata": {
        "id": "p1Yn7T9kgaSO"
      },
      "source": [
        "df = df_new_flix.copy()  # 정리된 flix 데이터 복사"
      ],
      "execution_count": null,
      "outputs": []
    },
    {
      "cell_type": "code",
      "metadata": {
        "id": "10LHjF0nAj_M"
      },
      "source": [
        "df.info()"
      ],
      "execution_count": null,
      "outputs": []
    },
    {
      "cell_type": "code",
      "metadata": {
        "id": "ORp2HeNlglNR"
      },
      "source": [
        "merge_set = pd.merge(df,netflix, on=['Title'])  # 제목을 기준으로 머지"
      ],
      "execution_count": null,
      "outputs": []
    },
    {
      "cell_type": "code",
      "metadata": {
        "id": "z-Yu2xnFhOU5"
      },
      "source": [
        "merge_set.isnull().sum()"
      ],
      "execution_count": null,
      "outputs": []
    },
    {
      "cell_type": "code",
      "metadata": {
        "id": "Z43YxXEDhsZY"
      },
      "source": [
        "merge_set.head(1)"
      ],
      "execution_count": null,
      "outputs": []
    },
    {
      "cell_type": "code",
      "metadata": {
        "id": "bRr870wsA5Eq"
      },
      "source": [
        ""
      ],
      "execution_count": null,
      "outputs": []
    },
    {
      "cell_type": "code",
      "metadata": {
        "id": "sLKaMx_UhlnH"
      },
      "source": [
        "use_df = merge_set.drop(columns = ['Netflix Link', 'IMDb Link',\n",
        "                        'Poster', 'TMDb Trailer', 'Trailer Site','Image'], axis =1)"
      ],
      "execution_count": null,
      "outputs": []
    },
    {
      "cell_type": "code",
      "metadata": {
        "id": "SFxVvBdW3Hj_"
      },
      "source": [
        "use_df.info()"
      ],
      "execution_count": null,
      "outputs": []
    },
    {
      "cell_type": "code",
      "metadata": {
        "id": "89UTzbhyjnHq"
      },
      "source": [
        "use_df.isnull().sum()"
      ],
      "execution_count": null,
      "outputs": []
    },
    {
      "cell_type": "code",
      "metadata": {
        "id": "wK8VTE0A2Cf8"
      },
      "source": [
        "use_df.head(1)"
      ],
      "execution_count": null,
      "outputs": []
    },
    {
      "cell_type": "code",
      "metadata": {
        "id": "yfhyDZKqkFif"
      },
      "source": [
        "use_df.to_csv('use_df.csv')"
      ],
      "execution_count": null,
      "outputs": []
    },
    {
      "cell_type": "code",
      "metadata": {
        "id": "k0IbQtQhlU1z"
      },
      "source": [
        "use_df.corr()"
      ],
      "execution_count": null,
      "outputs": []
    },
    {
      "cell_type": "code",
      "metadata": {
        "id": "DdmPpIWg6oUE"
      },
      "source": [
        ""
      ],
      "execution_count": null,
      "outputs": []
    }
  ]
}