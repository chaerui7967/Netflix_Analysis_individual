{
  "nbformat": 4,
  "nbformat_minor": 0,
  "metadata": {
    "colab": {
      "name": "장르_계절별 뷰포인트 변화확인.ipynb",
      "private_outputs": true,
      "provenance": [],
      "authorship_tag": "ABX9TyMEJKi9eNIKWeaDONIkjDpl",
      "include_colab_link": true
    },
    "kernelspec": {
      "name": "python3",
      "display_name": "Python 3"
    },
    "language_info": {
      "name": "python"
    }
  },
  "cells": [
    {
      "cell_type": "markdown",
      "metadata": {
        "id": "view-in-github",
        "colab_type": "text"
      },
      "source": [
        "<a href=\"https://colab.research.google.com/github/chaerui7967/Netflix_Analysis_individual/blob/master/%EC%9E%A5%EB%A5%B4_%EA%B3%84%EC%A0%88%EB%B3%84_%EB%B7%B0%ED%8F%AC%EC%9D%B8%ED%8A%B8_%EB%B3%80%ED%99%94%ED%99%95%EC%9D%B8.ipynb\" target=\"_parent\"><img src=\"https://colab.research.google.com/assets/colab-badge.svg\" alt=\"Open In Colab\"/></a>"
      ]
    },
    {
      "cell_type": "markdown",
      "metadata": {
        "id": "WsdMtbLKCuFg"
      },
      "source": [
        "key 이슈랑 목차 정리"
      ]
    },
    {
      "cell_type": "code",
      "metadata": {
        "id": "TjXUcx-kCFKZ"
      },
      "source": [
        "# 계절 별로 장르 뷰포인트 , 시간나면 요일별 장르 뷰포인트"
      ],
      "execution_count": null,
      "outputs": []
    },
    {
      "cell_type": "code",
      "metadata": {
        "id": "quDXRhv0Cbwk"
      },
      "source": [
        "import pandas as pd\n",
        "import numpy as np\n",
        "import warnings\n",
        "warnings.filterwarnings('ignore')\n",
        "\n",
        "import plotly.express as px"
      ],
      "execution_count": null,
      "outputs": []
    },
    {
      "cell_type": "code",
      "metadata": {
        "id": "wRLfTL4JCbrh"
      },
      "source": [
        "df = pd.read_excel('./1. flixpatrol_1.xlsx')"
      ],
      "execution_count": null,
      "outputs": []
    },
    {
      "cell_type": "code",
      "metadata": {
        "id": "vDlixBtACblb"
      },
      "source": [
        "df.head(1)"
      ],
      "execution_count": null,
      "outputs": []
    },
    {
      "cell_type": "code",
      "metadata": {
        "id": "8IBrRUURCbhg"
      },
      "source": [
        "df.isnull().sum()"
      ],
      "execution_count": null,
      "outputs": []
    },
    {
      "cell_type": "code",
      "metadata": {
        "id": "xFq5kuKfCbfC"
      },
      "source": [
        "df = df[['TITLE', 'RELEASE', 'GENRE', 'VALUE']]"
      ],
      "execution_count": null,
      "outputs": []
    },
    {
      "cell_type": "code",
      "metadata": {
        "id": "xaj9i4zWCbTi"
      },
      "source": [
        "df = df.dropna()"
      ],
      "execution_count": null,
      "outputs": []
    },
    {
      "cell_type": "code",
      "metadata": {
        "id": "o2B4Xdu5U6Rp"
      },
      "source": [
        "df.info()"
      ],
      "execution_count": null,
      "outputs": []
    },
    {
      "cell_type": "code",
      "metadata": {
        "id": "hvxU0PVdWc4R"
      },
      "source": [
        "df['RELEASE'] =df['RELEASE'].dt.month.astype(int)"
      ],
      "execution_count": null,
      "outputs": []
    },
    {
      "cell_type": "code",
      "metadata": {
        "id": "DXNZwlc_bIBw"
      },
      "source": [
        "df.head(5)"
      ],
      "execution_count": null,
      "outputs": []
    },
    {
      "cell_type": "code",
      "metadata": {
        "id": "s55AFDOSa-ZQ"
      },
      "source": [
        "df['RELEASE'].iloc[0]"
      ],
      "execution_count": null,
      "outputs": []
    },
    {
      "cell_type": "code",
      "metadata": {
        "id": "pj5Yoq-fXiUs"
      },
      "source": [
        "bins = [3,6,9,12] # 3~5 봄: 1, 6~8 여름 : 2, 9~ 11 가을 : 3, 나머지 겨울 : 4\n",
        "\n",
        "df['R_Q'] = np.digitize(df['RELEASE'], bins)\n",
        "df['R_Q'].replace({0:4},inplace = True)"
      ],
      "execution_count": null,
      "outputs": []
    },
    {
      "cell_type": "code",
      "metadata": {
        "id": "sgmnSrWZdWPe"
      },
      "source": [
        "fig = px.scatter(df, x=\"R_Q\", y=\"GENRE\",\n",
        "                 size='VALUE',\n",
        "                 title='Scatter Plot'\n",
        "                )\n",
        "fig.show()"
      ],
      "execution_count": null,
      "outputs": []
    },
    {
      "cell_type": "code",
      "metadata": {
        "id": "3oKhrVCmfQPE"
      },
      "source": [
        "# value 기준 탑 20개\n",
        "df_top20 = df[:][:20]"
      ],
      "execution_count": null,
      "outputs": []
    },
    {
      "cell_type": "code",
      "metadata": {
        "id": "jGRLQ09ffQLP"
      },
      "source": [
        "fig = px.scatter(df_top20, x=\"R_Q\", y=\"GENRE\",\n",
        "                 size='VALUE',\n",
        "                 title='Scatter Plot'\n",
        "                )\n",
        "fig.show()"
      ],
      "execution_count": null,
      "outputs": []
    },
    {
      "cell_type": "code",
      "metadata": {
        "id": "v1eVFGHcgE3U"
      },
      "source": [
        ""
      ],
      "execution_count": null,
      "outputs": []
    },
    {
      "cell_type": "code",
      "metadata": {
        "id": "ZUd7gxGpfQEw"
      },
      "source": [
        ""
      ],
      "execution_count": null,
      "outputs": []
    },
    {
      "cell_type": "code",
      "metadata": {
        "id": "pWTH7pjXXemn"
      },
      "source": [
        "rs = df.groupby(['R_Q','GENRE']).count()"
      ],
      "execution_count": null,
      "outputs": []
    },
    {
      "cell_type": "code",
      "metadata": {
        "id": "pp9qUrdkcdhu"
      },
      "source": [
        "df_rs=pd.DataFrame(rs)"
      ],
      "execution_count": null,
      "outputs": []
    },
    {
      "cell_type": "code",
      "metadata": {
        "id": "QC9bLRiqiIWn"
      },
      "source": [
        ""
      ],
      "execution_count": null,
      "outputs": []
    },
    {
      "cell_type": "code",
      "metadata": {
        "id": "u0doAX90dAfK"
      },
      "source": [
        ""
      ],
      "execution_count": null,
      "outputs": []
    }
  ]
}