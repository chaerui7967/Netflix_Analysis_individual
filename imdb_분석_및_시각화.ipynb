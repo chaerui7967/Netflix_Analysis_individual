{
  "nbformat": 4,
  "nbformat_minor": 0,
  "metadata": {
    "colab": {
      "name": "imdb 분석 및 시각화.ipynb",
      "private_outputs": true,
      "provenance": []
    },
    "kernelspec": {
      "name": "python3",
      "display_name": "Python 3"
    },
    "language_info": {
      "name": "python"
    }
  },
  "cells": [
    {
      "cell_type": "code",
      "metadata": {
        "id": "WoQablwp3_s6"
      },
      "source": [
        "import pandas as pd\n",
        "import numpy as np\n",
        "import warnings\n",
        "warnings.filterwarnings(\"ignore\")\n",
        "\n",
        "\n",
        "import plotly.express as px\n",
        "import seaborn as sns"
      ],
      "execution_count": null,
      "outputs": []
    },
    {
      "cell_type": "code",
      "metadata": {
        "id": "zeTlAkDi5lDP"
      },
      "source": [
        "df = pd.read_csv('./use_df.csv')"
      ],
      "execution_count": null,
      "outputs": []
    },
    {
      "cell_type": "code",
      "metadata": {
        "id": "UZ4UW57R6SrI"
      },
      "source": [
        "df.columns"
      ],
      "execution_count": null,
      "outputs": []
    },
    {
      "cell_type": "code",
      "metadata": {
        "id": "UpNkRALF6YlD"
      },
      "source": [
        "df_score = df[['Title', 'Series or Movie', 'VALUE', 'Hidden Gem Score',\n",
        "       'IMDb Score', 'IMDb Votes']]"
      ],
      "execution_count": null,
      "outputs": []
    },
    {
      "cell_type": "code",
      "metadata": {
        "id": "NhLKhe8L9m5n"
      },
      "source": [
        "df_score"
      ],
      "execution_count": null,
      "outputs": []
    },
    {
      "cell_type": "code",
      "metadata": {
        "id": "wLK7PzeS9odI"
      },
      "source": [
        "df_score.isnull().sum()"
      ],
      "execution_count": null,
      "outputs": []
    },
    {
      "cell_type": "code",
      "metadata": {
        "id": "JL3TNswU_sE1"
      },
      "source": [
        "df_score = df_score.dropna(how='any',axis=0)"
      ],
      "execution_count": null,
      "outputs": []
    },
    {
      "cell_type": "code",
      "metadata": {
        "id": "eYZcvXKA_v11"
      },
      "source": [
        "df_score.isnull().sum()"
      ],
      "execution_count": null,
      "outputs": []
    },
    {
      "cell_type": "code",
      "metadata": {
        "id": "zRiiMn0vADUu"
      },
      "source": [
        "df_score.corr()"
      ],
      "execution_count": null,
      "outputs": []
    },
    {
      "cell_type": "markdown",
      "metadata": {
        "id": "IVRV9u_YGDca"
      },
      "source": [
        "연속형 변수들의 뷰포인트와의 상관관계를 확인했으나 상광성이 거의 없어 보였다"
      ]
    },
    {
      "cell_type": "markdown",
      "metadata": {
        "id": "Rti7DTOYCTmo"
      },
      "source": [
        "value 값을 거의 3000개의 데이터셋이므로 등수 기준으로 범주화를 상, 중, 하로 하였다."
      ]
    },
    {
      "cell_type": "code",
      "metadata": {
        "id": "EnNY840aCTCd"
      },
      "source": [
        "bins = [1,36,172]\n",
        "\n",
        "df_score['score'] = np.digitize(df_score['VALUE'], bins)"
      ],
      "execution_count": null,
      "outputs": []
    },
    {
      "cell_type": "code",
      "metadata": {
        "id": "UAu76jhoDy1C"
      },
      "source": [
        "df_score"
      ],
      "execution_count": null,
      "outputs": []
    },
    {
      "cell_type": "code",
      "metadata": {
        "id": "P8QdS0-yFLtD"
      },
      "source": [
        "fig = px.box(df_score, y= \"IMDb Score\", x= \"score\", hover_name='VALUE')\n",
        "fig.show()\n"
      ],
      "execution_count": null,
      "outputs": []
    },
    {
      "cell_type": "code",
      "metadata": {
        "id": "asq99HmlJVaT"
      },
      "source": [
        "sns.histplot(x=df_score['VALUE'], y=df_score['IMDb Score'])"
      ],
      "execution_count": null,
      "outputs": []
    },
    {
      "cell_type": "markdown",
      "metadata": {
        "id": "S9Zy9_sUFkPg"
      },
      "source": [
        "viewpoint를 순위로 상중하로 나누어서 imdbscore를 확인 했으나 유의한 결과는 나오지 않았다."
      ]
    },
    {
      "cell_type": "code",
      "metadata": {
        "id": "fPFhIGimFxbj"
      },
      "source": [
        "fig = px.box(df_score, y= \"Hidden Gem Score\", x= \"score\", hover_name='VALUE')\n",
        "fig.show()"
      ],
      "execution_count": null,
      "outputs": []
    },
    {
      "cell_type": "code",
      "metadata": {
        "id": "BJDGJIpTJyT-"
      },
      "source": [
        "sns.histplot(x=df_score['VALUE'], y=df_score['Hidden Gem Score'])"
      ],
      "execution_count": null,
      "outputs": []
    },
    {
      "cell_type": "markdown",
      "metadata": {
        "id": "TN4_ssHUGVDT"
      },
      "source": [
        "Hidden Gem Score의 경우도 뷰포인트와의 연관이 없어보였다."
      ]
    },
    {
      "cell_type": "code",
      "metadata": {
        "id": "qchZT4kkJ7m6"
      },
      "source": [
        "sns.histplot(x=df_score['VALUE'], y=df_score['IMDb Votes'])"
      ],
      "execution_count": null,
      "outputs": []
    },
    {
      "cell_type": "code",
      "metadata": {
        "id": "gOupceH6ANsE"
      },
      "source": [
        "sns.histplot(x=df_score['Hidden Gem Score'])"
      ],
      "execution_count": null,
      "outputs": []
    },
    {
      "cell_type": "code",
      "metadata": {
        "id": "_HG0cHOiJNo9"
      },
      "source": [
        "sns.histplot(x=df_score['IMDb Score'])"
      ],
      "execution_count": null,
      "outputs": []
    },
    {
      "cell_type": "code",
      "metadata": {
        "id": "XESbcRQqJMMb"
      },
      "source": [
        ""
      ],
      "execution_count": null,
      "outputs": []
    },
    {
      "cell_type": "code",
      "metadata": {
        "id": "hGGUU2PUAGqu"
      },
      "source": [
        ""
      ],
      "execution_count": null,
      "outputs": []
    }
  ]
}