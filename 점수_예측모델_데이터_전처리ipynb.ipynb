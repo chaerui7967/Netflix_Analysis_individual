{
  "nbformat": 4,
  "nbformat_minor": 0,
  "metadata": {
    "colab": {
      "name": "점수 예측모델_데이터 전처리ipynb",
      "private_outputs": true,
      "provenance": [],
      "authorship_tag": "ABX9TyP0knKpDrgzWNy43zd1iaiA",
      "include_colab_link": true
    },
    "kernelspec": {
      "name": "python3",
      "display_name": "Python 3"
    },
    "language_info": {
      "name": "python"
    }
  },
  "cells": [
    {
      "cell_type": "markdown",
      "metadata": {
        "id": "view-in-github",
        "colab_type": "text"
      },
      "source": [
        "<a href=\"https://colab.research.google.com/github/chaerui7967/Netflix_Analysis_individual/blob/master/%EC%A0%90%EC%88%98_%EC%98%88%EC%B8%A1%EB%AA%A8%EB%8D%B8_%EB%8D%B0%EC%9D%B4%ED%84%B0_%EC%A0%84%EC%B2%98%EB%A6%ACipynb.ipynb\" target=\"_parent\"><img src=\"https://colab.research.google.com/assets/colab-badge.svg\" alt=\"Open In Colab\"/></a>"
      ]
    },
    {
      "cell_type": "code",
      "metadata": {
        "id": "ac9gEBTdXCR7"
      },
      "source": [
        "import pandas as pd\n",
        "import warnings\n",
        "warnings.filterwarnings(\"ignore\")\n",
        "\n",
        "\n",
        "import matplotlib.pyplot as plt\n",
        "import missingno # 널값 바차트로 시각화"
      ],
      "execution_count": null,
      "outputs": []
    },
    {
      "cell_type": "code",
      "metadata": {
        "id": "dWWQxvmdXPxj"
      },
      "source": [
        "netflix = pd.read_csv('./use_df.csv')"
      ],
      "execution_count": null,
      "outputs": []
    },
    {
      "cell_type": "code",
      "metadata": {
        "id": "lT5WzMOnX7y8"
      },
      "source": [
        "netflix.head(1)"
      ],
      "execution_count": null,
      "outputs": []
    },
    {
      "cell_type": "code",
      "metadata": {
        "id": "22gqaaxRYXPz"
      },
      "source": [
        "netflix.columns"
      ],
      "execution_count": null,
      "outputs": []
    },
    {
      "cell_type": "code",
      "metadata": {
        "id": "Frc4rmJ4YDia"
      },
      "source": [
        "df_net = netflix.drop(columns = ['Unnamed: 0'],axis =1)"
      ],
      "execution_count": null,
      "outputs": []
    },
    {
      "cell_type": "code",
      "metadata": {
        "id": "ZOKlgeIRYjaD"
      },
      "source": [
        "df_net.isnull().sum()"
      ],
      "execution_count": null,
      "outputs": []
    },
    {
      "cell_type": "code",
      "metadata": {
        "id": "oHzOzExpY1Oq"
      },
      "source": [
        "color= ['dimgrey','dimgrey','blue','blue','blue','dimgrey','blue','blue','blue','blue','blue',\n",
        "        'dimgrey','blue','blue','blue','blue','blue','blue','blue','blue','blue','blue','dimgrey',\n",
        "        'blue','blue','blue']\n",
        "missingno.bar(df_net,fontsize=10,color=color,figsize=(10,5))\n",
        "plt.title('COLUMN MISSING VALUES',fontsize=20)"
      ],
      "execution_count": null,
      "outputs": []
    },
    {
      "cell_type": "markdown",
      "metadata": {
        "id": "5SCCwsTiad2X"
      },
      "source": [
        "movie viewpoint 예측에 사용될 변수들을 일단은 국가와 장르, 태그, 언어, 출시 일, 런타임을 가지고 먼저 예측초기모델을 만륻어보자"
      ]
    },
    {
      "cell_type": "code",
      "metadata": {
        "id": "WEcOB3lOaQAC"
      },
      "source": [
        "movie_df = df_net[df_net['Series or Movie']=='Movie']"
      ],
      "execution_count": null,
      "outputs": []
    },
    {
      "cell_type": "code",
      "metadata": {
        "id": "KLCsU0rZaP3b"
      },
      "source": [
        "movie_df = movie_df[['COUNTRY', 'Release Date', 'GENRE', 'Tags', 'Languages', 'Runtime']]"
      ],
      "execution_count": null,
      "outputs": []
    },
    {
      "cell_type": "code",
      "metadata": {
        "id": "hNRCr_6NaOVr"
      },
      "source": [
        ""
      ],
      "execution_count": null,
      "outputs": []
    },
    {
      "cell_type": "code",
      "metadata": {
        "id": "aE4e9lJ_XXJ2"
      },
      "source": [
        "pd_df = pd.get_dummies(netflix['subject'])\n",
        "df_result = pd.concat([netflix, pd_df], axis=1)"
      ],
      "execution_count": null,
      "outputs": []
    }
  ]
}